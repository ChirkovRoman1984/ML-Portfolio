{
 "cells": [
  {
   "cell_type": "markdown",
   "id": "99b8c847",
   "metadata": {},
   "source": [
    "# Проект \"Телеком\""
   ]
  },
  {
   "cell_type": "markdown",
   "id": "02046c25-61b7-416c-888f-bfc852e103fd",
   "metadata": {},
   "source": [
    "# Описание проекта"
   ]
  },
  {
   "cell_type": "markdown",
   "id": "fdc5573d-0dfc-49f7-9998-cf5d552035cc",
   "metadata": {},
   "source": [
    "Оператор связи «Ниединогоразрыва.ком» хочет научиться прогнозировать отток клиентов. Если выяснится, что пользователь планирует уйти, ему будут предложены промокоды и специальные условия. Команда оператора собрала персональные данные о некоторых клиентах, информацию об их тарифах и договорах.\n",
    "\n",
    "### Описание услуг\n",
    "\n",
    "Оператор предоставляет два основных типа услуг: \n",
    "\n",
    "1. Стационарную телефонную связь. Возможно подключение телефонного аппарата к нескольким линиям одновременно.\n",
    "2. Интернет. Подключение может быть двух типов: через телефонную линию (DSL*,* от англ. *digital subscriber line*, «цифровая абонентская линия») или оптоволоконный кабель (*Fiber optic*).  \n",
    "\n",
    "Также доступны такие услуги:\n",
    "\n",
    "- Интернет-безопасность: антивирус (*DeviceProtection*) и блокировка небезопасных сайтов (*OnlineSecurity*);\n",
    "- Выделенная линия технической поддержки (*TechSupport*);\n",
    "- Облачное хранилище файлов для резервного копирования данных (*OnlineBackup*);\n",
    "- Стриминговое телевидение (*StreamingTV*) и каталог фильмов (*StreamingMovies*).\n",
    "\n",
    "За услуги клиенты могут платить каждый месяц или заключить договор на 1–2 года. Доступны различные способы расчёта и возможность получения электронного чека.\n",
    "\n",
    "### Описание данных\n",
    "\n",
    "Данные состоят из файлов, полученных из разных источников:\n",
    "\n",
    "- `contract_new.csv` — информация о договоре;\n",
    "- `personal_new.csv` — персональные данные клиента;\n",
    "- `internet_new.csv` — информация об интернет-услугах;\n",
    "- `phone_new.csv` — информация об услугах телефонии.\n",
    "\n",
    "### Описание полей в таблицах\n",
    "* 'BeginDate' - дата начала пользования услугами;\n",
    "* 'EndDate' - дата окончания пользования услугами;\n",
    "* 'Type' - тип оплаты: ежемесячный, годовой и т.д.;\n",
    "* 'PaperlessBilling' - электронный платёжный документ;\n",
    "* 'PaymentMethod' - способ оплаты;\n",
    "* 'MonthlyCharges' - ежемесячные траты на услуги;\n",
    "* 'TotalCharges' - всего потрачено денег на услуги;\n",
    "* 'Dependents' - наличие иждивенцев;\n",
    "* 'SeniorCitizen' - наличие пенсионного статуса по возрасту;\n",
    "* 'Partner' - наличие супруга(и);\n",
    "* 'MultipleLines' - наличие возможности ведения параллельных линий во время звонка.\n",
    "\n",
    "\n",
    "Во всех файлах столбец `customerID` содержит код клиента.\n",
    "\n",
    "Информация о договорах актуальна на 1 февраля 2020."
   ]
  },
  {
   "cell_type": "markdown",
   "id": "854750c2-11c6-411a-98a6-d97081738ddc",
   "metadata": {},
   "source": [
    "# Исследовательский анализ данных"
   ]
  },
  {
   "cell_type": "markdown",
   "id": "f5f48995-ee88-4074-9414-7c947cb6b9ec",
   "metadata": {},
   "source": [
    "## Константы для проекта"
   ]
  },
  {
   "cell_type": "code",
   "execution_count": 1,
   "id": "f65f3750-c491-41d1-a54d-94da924f0f2f",
   "metadata": {},
   "outputs": [],
   "source": [
    "# По условию проекта\n",
    "RANDOM_STATE = 220523"
   ]
  },
  {
   "cell_type": "markdown",
   "id": "d1f2e01f-9b4f-4d71-9c60-38c6a985db2d",
   "metadata": {},
   "source": [
    "## Импорты"
   ]
  },
  {
   "cell_type": "code",
   "execution_count": null,
   "id": "ce484326-0c0f-4353-b044-be7f3f523265",
   "metadata": {},
   "outputs": [],
   "source": [
    "# !pip install phik"
   ]
  },
  {
   "cell_type": "code",
   "execution_count": 5,
   "id": "a0bd16fa-1f85-483d-9b84-ce668a085353",
   "metadata": {},
   "outputs": [],
   "source": [
    "import numpy as np\n",
    "import pandas as pd\n",
    "import seaborn as sns\n",
    "import warnings\n",
    "\n",
    "from catboost import CatBoostClassifier, Pool, cv\n",
    "from catboost.utils import get_roc_curve, select_threshold\n",
    "from catboost.utils import get_fpr_curve, get_fnr_curve\n",
    "from sklearn.compose import ColumnTransformer\n",
    "from sklearn.ensemble import GradientBoostingClassifier, RandomForestClassifier\n",
    "from sklearn.metrics import roc_auc_score, auc\n",
    "from sklearn.metrics import confusion_matrix, ConfusionMatrixDisplay\n",
    "from sklearn.model_selection import train_test_split, GridSearchCV\n",
    "from sklearn.pipeline import Pipeline\n",
    "from sklearn.preprocessing import StandardScaler, OneHotEncoder\n",
    "from matplotlib import pyplot as plt\n",
    "from phik import phik_matrix\n",
    "\n",
    "sns.set_style(\"dark\")\n",
    "warnings.simplefilter(action='ignore', category=FutureWarning)"
   ]
  },
  {
   "cell_type": "markdown",
   "id": "ab4fb31e-ffd3-4e6b-902d-b385eb3a18c1",
   "metadata": {},
   "source": [
    "Открываем данные и смотрим, что там есть"
   ]
  },
  {
   "cell_type": "code",
   "execution_count": 6,
   "id": "5a15c24d-0b86-461c-8dcb-ddd4dda5ab89",
   "metadata": {},
   "outputs": [],
   "source": [
    "contract = pd.read_csv('datasets/contract_new.csv')\n",
    "internet = pd.read_csv('datasets/internet_new.csv')\n",
    "personal = pd.read_csv('datasets/personal_new.csv')\n",
    "phone = pd.read_csv('datasets/phone_new.csv')"
   ]
  },
  {
   "cell_type": "code",
   "execution_count": 7,
   "id": "87df3108-9253-436e-87e0-d1058a8c4595",
   "metadata": {},
   "outputs": [
    {
     "data": {
      "text/html": [
       "<div>\n",
       "<style scoped>\n",
       "    .dataframe tbody tr th:only-of-type {\n",
       "        vertical-align: middle;\n",
       "    }\n",
       "\n",
       "    .dataframe tbody tr th {\n",
       "        vertical-align: top;\n",
       "    }\n",
       "\n",
       "    .dataframe thead th {\n",
       "        text-align: right;\n",
       "    }\n",
       "</style>\n",
       "<table border=\"1\" class=\"dataframe\">\n",
       "  <thead>\n",
       "    <tr style=\"text-align: right;\">\n",
       "      <th></th>\n",
       "      <th>customerID</th>\n",
       "      <th>BeginDate</th>\n",
       "      <th>EndDate</th>\n",
       "      <th>Type</th>\n",
       "      <th>PaperlessBilling</th>\n",
       "      <th>PaymentMethod</th>\n",
       "      <th>MonthlyCharges</th>\n",
       "      <th>TotalCharges</th>\n",
       "    </tr>\n",
       "  </thead>\n",
       "  <tbody>\n",
       "    <tr>\n",
       "      <th>5678</th>\n",
       "      <td>4797-AXPXK</td>\n",
       "      <td>2019-12-01</td>\n",
       "      <td>No</td>\n",
       "      <td>Month-to-month</td>\n",
       "      <td>Yes</td>\n",
       "      <td>Electronic check</td>\n",
       "      <td>60.00</td>\n",
       "      <td>120.0</td>\n",
       "    </tr>\n",
       "    <tr>\n",
       "      <th>5384</th>\n",
       "      <td>3137-LUPIX</td>\n",
       "      <td>2019-10-01</td>\n",
       "      <td>No</td>\n",
       "      <td>Month-to-month</td>\n",
       "      <td>Yes</td>\n",
       "      <td>Mailed check</td>\n",
       "      <td>64.40</td>\n",
       "      <td>257.6</td>\n",
       "    </tr>\n",
       "    <tr>\n",
       "      <th>6255</th>\n",
       "      <td>4476-OSWTN</td>\n",
       "      <td>2014-05-01</td>\n",
       "      <td>No</td>\n",
       "      <td>One year</td>\n",
       "      <td>Yes</td>\n",
       "      <td>Mailed check</td>\n",
       "      <td>110.55</td>\n",
       "      <td>7627.95</td>\n",
       "    </tr>\n",
       "  </tbody>\n",
       "</table>\n",
       "</div>"
      ],
      "text/plain": [
       "      customerID   BeginDate EndDate            Type PaperlessBilling  \\\n",
       "5678  4797-AXPXK  2019-12-01      No  Month-to-month              Yes   \n",
       "5384  3137-LUPIX  2019-10-01      No  Month-to-month              Yes   \n",
       "6255  4476-OSWTN  2014-05-01      No        One year              Yes   \n",
       "\n",
       "         PaymentMethod  MonthlyCharges TotalCharges  \n",
       "5678  Electronic check           60.00        120.0  \n",
       "5384      Mailed check           64.40        257.6  \n",
       "6255      Mailed check          110.55      7627.95  "
      ]
     },
     "execution_count": 7,
     "metadata": {},
     "output_type": "execute_result"
    }
   ],
   "source": [
    "contract.sample(3)"
   ]
  },
  {
   "cell_type": "code",
   "execution_count": 8,
   "id": "b3803d44-c96c-480a-b304-a1695789d791",
   "metadata": {},
   "outputs": [
    {
     "data": {
      "text/html": [
       "<div>\n",
       "<style scoped>\n",
       "    .dataframe tbody tr th:only-of-type {\n",
       "        vertical-align: middle;\n",
       "    }\n",
       "\n",
       "    .dataframe tbody tr th {\n",
       "        vertical-align: top;\n",
       "    }\n",
       "\n",
       "    .dataframe thead th {\n",
       "        text-align: right;\n",
       "    }\n",
       "</style>\n",
       "<table border=\"1\" class=\"dataframe\">\n",
       "  <thead>\n",
       "    <tr style=\"text-align: right;\">\n",
       "      <th></th>\n",
       "      <th>customerID</th>\n",
       "      <th>InternetService</th>\n",
       "      <th>OnlineSecurity</th>\n",
       "      <th>OnlineBackup</th>\n",
       "      <th>DeviceProtection</th>\n",
       "      <th>TechSupport</th>\n",
       "      <th>StreamingTV</th>\n",
       "      <th>StreamingMovies</th>\n",
       "    </tr>\n",
       "  </thead>\n",
       "  <tbody>\n",
       "    <tr>\n",
       "      <th>395</th>\n",
       "      <td>8372-JUXUI</td>\n",
       "      <td>Fiber optic</td>\n",
       "      <td>No</td>\n",
       "      <td>No</td>\n",
       "      <td>No</td>\n",
       "      <td>No</td>\n",
       "      <td>No</td>\n",
       "      <td>No</td>\n",
       "    </tr>\n",
       "    <tr>\n",
       "      <th>863</th>\n",
       "      <td>9878-TNQGW</td>\n",
       "      <td>Fiber optic</td>\n",
       "      <td>No</td>\n",
       "      <td>No</td>\n",
       "      <td>No</td>\n",
       "      <td>No</td>\n",
       "      <td>No</td>\n",
       "      <td>Yes</td>\n",
       "    </tr>\n",
       "    <tr>\n",
       "      <th>2057</th>\n",
       "      <td>7799-DSEWS</td>\n",
       "      <td>DSL</td>\n",
       "      <td>Yes</td>\n",
       "      <td>No</td>\n",
       "      <td>Yes</td>\n",
       "      <td>Yes</td>\n",
       "      <td>Yes</td>\n",
       "      <td>No</td>\n",
       "    </tr>\n",
       "  </tbody>\n",
       "</table>\n",
       "</div>"
      ],
      "text/plain": [
       "      customerID InternetService OnlineSecurity OnlineBackup DeviceProtection  \\\n",
       "395   8372-JUXUI     Fiber optic             No           No               No   \n",
       "863   9878-TNQGW     Fiber optic             No           No               No   \n",
       "2057  7799-DSEWS             DSL            Yes           No              Yes   \n",
       "\n",
       "     TechSupport StreamingTV StreamingMovies  \n",
       "395           No          No              No  \n",
       "863           No          No             Yes  \n",
       "2057         Yes         Yes              No  "
      ]
     },
     "execution_count": 8,
     "metadata": {},
     "output_type": "execute_result"
    }
   ],
   "source": [
    "internet.sample(3)"
   ]
  },
  {
   "cell_type": "code",
   "execution_count": 9,
   "id": "57c55a1e-d130-4944-a77e-0cedd1f8f38b",
   "metadata": {},
   "outputs": [
    {
     "data": {
      "text/html": [
       "<div>\n",
       "<style scoped>\n",
       "    .dataframe tbody tr th:only-of-type {\n",
       "        vertical-align: middle;\n",
       "    }\n",
       "\n",
       "    .dataframe tbody tr th {\n",
       "        vertical-align: top;\n",
       "    }\n",
       "\n",
       "    .dataframe thead th {\n",
       "        text-align: right;\n",
       "    }\n",
       "</style>\n",
       "<table border=\"1\" class=\"dataframe\">\n",
       "  <thead>\n",
       "    <tr style=\"text-align: right;\">\n",
       "      <th></th>\n",
       "      <th>customerID</th>\n",
       "      <th>gender</th>\n",
       "      <th>SeniorCitizen</th>\n",
       "      <th>Partner</th>\n",
       "      <th>Dependents</th>\n",
       "    </tr>\n",
       "  </thead>\n",
       "  <tbody>\n",
       "    <tr>\n",
       "      <th>5989</th>\n",
       "      <td>5567-WSELE</td>\n",
       "      <td>Male</td>\n",
       "      <td>1</td>\n",
       "      <td>Yes</td>\n",
       "      <td>No</td>\n",
       "    </tr>\n",
       "    <tr>\n",
       "      <th>2286</th>\n",
       "      <td>1465-LNTLJ</td>\n",
       "      <td>Male</td>\n",
       "      <td>1</td>\n",
       "      <td>Yes</td>\n",
       "      <td>No</td>\n",
       "    </tr>\n",
       "    <tr>\n",
       "      <th>3097</th>\n",
       "      <td>2410-CIYFZ</td>\n",
       "      <td>Male</td>\n",
       "      <td>0</td>\n",
       "      <td>No</td>\n",
       "      <td>Yes</td>\n",
       "    </tr>\n",
       "  </tbody>\n",
       "</table>\n",
       "</div>"
      ],
      "text/plain": [
       "      customerID gender  SeniorCitizen Partner Dependents\n",
       "5989  5567-WSELE   Male              1     Yes         No\n",
       "2286  1465-LNTLJ   Male              1     Yes         No\n",
       "3097  2410-CIYFZ   Male              0      No        Yes"
      ]
     },
     "execution_count": 9,
     "metadata": {},
     "output_type": "execute_result"
    }
   ],
   "source": [
    "personal.sample(3)"
   ]
  },
  {
   "cell_type": "code",
   "execution_count": 10,
   "id": "8dea4b01-be4a-4b81-95c9-17a9f5ab5be6",
   "metadata": {},
   "outputs": [
    {
     "data": {
      "text/html": [
       "<div>\n",
       "<style scoped>\n",
       "    .dataframe tbody tr th:only-of-type {\n",
       "        vertical-align: middle;\n",
       "    }\n",
       "\n",
       "    .dataframe tbody tr th {\n",
       "        vertical-align: top;\n",
       "    }\n",
       "\n",
       "    .dataframe thead th {\n",
       "        text-align: right;\n",
       "    }\n",
       "</style>\n",
       "<table border=\"1\" class=\"dataframe\">\n",
       "  <thead>\n",
       "    <tr style=\"text-align: right;\">\n",
       "      <th></th>\n",
       "      <th>customerID</th>\n",
       "      <th>MultipleLines</th>\n",
       "    </tr>\n",
       "  </thead>\n",
       "  <tbody>\n",
       "    <tr>\n",
       "      <th>1768</th>\n",
       "      <td>7243-LCGGZ</td>\n",
       "      <td>No</td>\n",
       "    </tr>\n",
       "    <tr>\n",
       "      <th>1024</th>\n",
       "      <td>9330-DHBFL</td>\n",
       "      <td>No</td>\n",
       "    </tr>\n",
       "    <tr>\n",
       "      <th>4112</th>\n",
       "      <td>7666-WKRON</td>\n",
       "      <td>No</td>\n",
       "    </tr>\n",
       "  </tbody>\n",
       "</table>\n",
       "</div>"
      ],
      "text/plain": [
       "      customerID MultipleLines\n",
       "1768  7243-LCGGZ            No\n",
       "1024  9330-DHBFL            No\n",
       "4112  7666-WKRON            No"
      ]
     },
     "execution_count": 10,
     "metadata": {},
     "output_type": "execute_result"
    }
   ],
   "source": [
    "phone.sample(3)"
   ]
  },
  {
   "cell_type": "markdown",
   "id": "9339ae58-acca-46b3-83d2-4694b2bae79b",
   "metadata": {},
   "source": [
    "Все таблицы объединяет столбец `customerID`. Посмотрим на сколько уникальны значения в каждой таблице"
   ]
  },
  {
   "cell_type": "code",
   "execution_count": 11,
   "id": "b3f592c5-4d80-4811-9338-04b491000a62",
   "metadata": {},
   "outputs": [
    {
     "data": {
      "text/plain": [
       "0"
      ]
     },
     "execution_count": 11,
     "metadata": {},
     "output_type": "execute_result"
    }
   ],
   "source": [
    "contract['customerID'].duplicated().sum()"
   ]
  },
  {
   "cell_type": "code",
   "execution_count": 12,
   "id": "8ffe701c-7a00-40de-8be1-1f30fed04248",
   "metadata": {},
   "outputs": [
    {
     "data": {
      "text/plain": [
       "0"
      ]
     },
     "execution_count": 12,
     "metadata": {},
     "output_type": "execute_result"
    }
   ],
   "source": [
    "internet['customerID'].duplicated().sum()"
   ]
  },
  {
   "cell_type": "code",
   "execution_count": 13,
   "id": "ddf7eab7-63f5-4e8e-9108-f6e433439a57",
   "metadata": {},
   "outputs": [
    {
     "data": {
      "text/plain": [
       "0"
      ]
     },
     "execution_count": 13,
     "metadata": {},
     "output_type": "execute_result"
    }
   ],
   "source": [
    "personal['customerID'].duplicated().sum()"
   ]
  },
  {
   "cell_type": "code",
   "execution_count": 14,
   "id": "3a8aa9fb-f84a-47b0-ac6d-00b893d01904",
   "metadata": {},
   "outputs": [
    {
     "data": {
      "text/plain": [
       "0"
      ]
     },
     "execution_count": 14,
     "metadata": {},
     "output_type": "execute_result"
    }
   ],
   "source": [
    "phone['customerID'].duplicated().sum()"
   ]
  },
  {
   "cell_type": "markdown",
   "id": "1e1488bd-60ab-4101-ab28-a152aa742587",
   "metadata": {},
   "source": [
    "В каждой таблице каждая строка соответствует одному уникальному клиенту. Попробуем объеденить все таблицы по этому полю"
   ]
  },
  {
   "cell_type": "code",
   "execution_count": 15,
   "id": "01918876-51b9-47b1-bc33-4f2dd6479851",
   "metadata": {},
   "outputs": [],
   "source": [
    "df = (\n",
    "    contract.merge(internet, on='customerID', how='outer')\n",
    "    .merge(personal, on='customerID', how='outer')\n",
    "    .merge(phone, on='customerID', how='outer')\n",
    "     )"
   ]
  },
  {
   "cell_type": "code",
   "execution_count": 16,
   "id": "72b80411-4d46-4f6d-b8c3-8f507adc34bc",
   "metadata": {},
   "outputs": [
    {
     "data": {
      "text/html": [
       "<div>\n",
       "<style scoped>\n",
       "    .dataframe tbody tr th:only-of-type {\n",
       "        vertical-align: middle;\n",
       "    }\n",
       "\n",
       "    .dataframe tbody tr th {\n",
       "        vertical-align: top;\n",
       "    }\n",
       "\n",
       "    .dataframe thead th {\n",
       "        text-align: right;\n",
       "    }\n",
       "</style>\n",
       "<table border=\"1\" class=\"dataframe\">\n",
       "  <thead>\n",
       "    <tr style=\"text-align: right;\">\n",
       "      <th></th>\n",
       "      <th>854</th>\n",
       "      <th>400</th>\n",
       "      <th>4447</th>\n",
       "    </tr>\n",
       "  </thead>\n",
       "  <tbody>\n",
       "    <tr>\n",
       "      <th>customerID</th>\n",
       "      <td>7695-PKLCZ</td>\n",
       "      <td>2277-AXSDC</td>\n",
       "      <td>7821-DPRQE</td>\n",
       "    </tr>\n",
       "    <tr>\n",
       "      <th>BeginDate</th>\n",
       "      <td>2014-06-01</td>\n",
       "      <td>2017-06-01</td>\n",
       "      <td>2014-06-01</td>\n",
       "    </tr>\n",
       "    <tr>\n",
       "      <th>EndDate</th>\n",
       "      <td>No</td>\n",
       "      <td>No</td>\n",
       "      <td>No</td>\n",
       "    </tr>\n",
       "    <tr>\n",
       "      <th>Type</th>\n",
       "      <td>Two year</td>\n",
       "      <td>One year</td>\n",
       "      <td>Month-to-month</td>\n",
       "    </tr>\n",
       "    <tr>\n",
       "      <th>PaperlessBilling</th>\n",
       "      <td>No</td>\n",
       "      <td>No</td>\n",
       "      <td>Yes</td>\n",
       "    </tr>\n",
       "    <tr>\n",
       "      <th>PaymentMethod</th>\n",
       "      <td>Credit card (automatic)</td>\n",
       "      <td>Bank transfer (automatic)</td>\n",
       "      <td>Electronic check</td>\n",
       "    </tr>\n",
       "    <tr>\n",
       "      <th>MonthlyCharges</th>\n",
       "      <td>20.5</td>\n",
       "      <td>19.75</td>\n",
       "      <td>107.7</td>\n",
       "    </tr>\n",
       "    <tr>\n",
       "      <th>TotalCharges</th>\n",
       "      <td>1491.58</td>\n",
       "      <td>650.96</td>\n",
       "      <td>7323.6</td>\n",
       "    </tr>\n",
       "    <tr>\n",
       "      <th>InternetService</th>\n",
       "      <td>NaN</td>\n",
       "      <td>NaN</td>\n",
       "      <td>Fiber optic</td>\n",
       "    </tr>\n",
       "    <tr>\n",
       "      <th>OnlineSecurity</th>\n",
       "      <td>NaN</td>\n",
       "      <td>NaN</td>\n",
       "      <td>Yes</td>\n",
       "    </tr>\n",
       "    <tr>\n",
       "      <th>OnlineBackup</th>\n",
       "      <td>NaN</td>\n",
       "      <td>NaN</td>\n",
       "      <td>Yes</td>\n",
       "    </tr>\n",
       "    <tr>\n",
       "      <th>DeviceProtection</th>\n",
       "      <td>NaN</td>\n",
       "      <td>NaN</td>\n",
       "      <td>No</td>\n",
       "    </tr>\n",
       "    <tr>\n",
       "      <th>TechSupport</th>\n",
       "      <td>NaN</td>\n",
       "      <td>NaN</td>\n",
       "      <td>Yes</td>\n",
       "    </tr>\n",
       "    <tr>\n",
       "      <th>StreamingTV</th>\n",
       "      <td>NaN</td>\n",
       "      <td>NaN</td>\n",
       "      <td>Yes</td>\n",
       "    </tr>\n",
       "    <tr>\n",
       "      <th>StreamingMovies</th>\n",
       "      <td>NaN</td>\n",
       "      <td>NaN</td>\n",
       "      <td>Yes</td>\n",
       "    </tr>\n",
       "    <tr>\n",
       "      <th>gender</th>\n",
       "      <td>Female</td>\n",
       "      <td>Female</td>\n",
       "      <td>Male</td>\n",
       "    </tr>\n",
       "    <tr>\n",
       "      <th>SeniorCitizen</th>\n",
       "      <td>0</td>\n",
       "      <td>0</td>\n",
       "      <td>0</td>\n",
       "    </tr>\n",
       "    <tr>\n",
       "      <th>Partner</th>\n",
       "      <td>No</td>\n",
       "      <td>No</td>\n",
       "      <td>Yes</td>\n",
       "    </tr>\n",
       "    <tr>\n",
       "      <th>Dependents</th>\n",
       "      <td>No</td>\n",
       "      <td>No</td>\n",
       "      <td>No</td>\n",
       "    </tr>\n",
       "    <tr>\n",
       "      <th>MultipleLines</th>\n",
       "      <td>No</td>\n",
       "      <td>No</td>\n",
       "      <td>Yes</td>\n",
       "    </tr>\n",
       "  </tbody>\n",
       "</table>\n",
       "</div>"
      ],
      "text/plain": [
       "                                     854                        400   \\\n",
       "customerID                     7695-PKLCZ                 2277-AXSDC   \n",
       "BeginDate                      2014-06-01                 2017-06-01   \n",
       "EndDate                                No                         No   \n",
       "Type                             Two year                   One year   \n",
       "PaperlessBilling                       No                         No   \n",
       "PaymentMethod     Credit card (automatic)  Bank transfer (automatic)   \n",
       "MonthlyCharges                       20.5                      19.75   \n",
       "TotalCharges                      1491.58                     650.96   \n",
       "InternetService                       NaN                        NaN   \n",
       "OnlineSecurity                        NaN                        NaN   \n",
       "OnlineBackup                          NaN                        NaN   \n",
       "DeviceProtection                      NaN                        NaN   \n",
       "TechSupport                           NaN                        NaN   \n",
       "StreamingTV                           NaN                        NaN   \n",
       "StreamingMovies                       NaN                        NaN   \n",
       "gender                             Female                     Female   \n",
       "SeniorCitizen                           0                          0   \n",
       "Partner                                No                         No   \n",
       "Dependents                             No                         No   \n",
       "MultipleLines                          No                         No   \n",
       "\n",
       "                              4447  \n",
       "customerID              7821-DPRQE  \n",
       "BeginDate               2014-06-01  \n",
       "EndDate                         No  \n",
       "Type                Month-to-month  \n",
       "PaperlessBilling               Yes  \n",
       "PaymentMethod     Electronic check  \n",
       "MonthlyCharges               107.7  \n",
       "TotalCharges                7323.6  \n",
       "InternetService        Fiber optic  \n",
       "OnlineSecurity                 Yes  \n",
       "OnlineBackup                   Yes  \n",
       "DeviceProtection                No  \n",
       "TechSupport                    Yes  \n",
       "StreamingTV                    Yes  \n",
       "StreamingMovies                Yes  \n",
       "gender                        Male  \n",
       "SeniorCitizen                    0  \n",
       "Partner                        Yes  \n",
       "Dependents                      No  \n",
       "MultipleLines                  Yes  "
      ]
     },
     "execution_count": 16,
     "metadata": {},
     "output_type": "execute_result"
    }
   ],
   "source": [
    "df.sample(3).T"
   ]
  },
  {
   "cell_type": "markdown",
   "id": "da1f1556-9df7-4fd4-832c-ac023f0d4c24",
   "metadata": {},
   "source": [
    "Переходим на snake_case"
   ]
  },
  {
   "cell_type": "code",
   "execution_count": 17,
   "id": "b2b59ca7-f64a-404e-a135-c14d122189ea",
   "metadata": {},
   "outputs": [],
   "source": [
    "df.columns = df.columns.map(\n",
    "    lambda x: x[0].lower() + \n",
    "    ''.join(i if i.islower() else '_' + i.lower() for i in x[1:-1]) +\n",
    "    x[-1].lower()\n",
    ")"
   ]
  },
  {
   "cell_type": "code",
   "execution_count": 18,
   "id": "a76dbce3-6013-42dc-a109-fd6b871c0d82",
   "metadata": {},
   "outputs": [
    {
     "name": "stdout",
     "output_type": "stream",
     "text": [
      "<class 'pandas.core.frame.DataFrame'>\n",
      "Int64Index: 7043 entries, 0 to 7042\n",
      "Data columns (total 20 columns):\n",
      " #   Column             Non-Null Count  Dtype  \n",
      "---  ------             --------------  -----  \n",
      " 0   customer_id        7043 non-null   object \n",
      " 1   begin_date         7043 non-null   object \n",
      " 2   end_date           7043 non-null   object \n",
      " 3   type               7043 non-null   object \n",
      " 4   paperless_billing  7043 non-null   object \n",
      " 5   payment_method     7043 non-null   object \n",
      " 6   monthly_charges    7043 non-null   float64\n",
      " 7   total_charges      7043 non-null   object \n",
      " 8   internet_service   5517 non-null   object \n",
      " 9   online_security    5517 non-null   object \n",
      " 10  online_backup      5517 non-null   object \n",
      " 11  device_protection  5517 non-null   object \n",
      " 12  tech_support       5517 non-null   object \n",
      " 13  streaming_tv       5517 non-null   object \n",
      " 14  streaming_movies   5517 non-null   object \n",
      " 15  gender             7043 non-null   object \n",
      " 16  senior_citizen     7043 non-null   int64  \n",
      " 17  partner            7043 non-null   object \n",
      " 18  dependents         7043 non-null   object \n",
      " 19  multiple_lines     6361 non-null   object \n",
      "dtypes: float64(1), int64(1), object(18)\n",
      "memory usage: 1.1+ MB\n"
     ]
    }
   ],
   "source": [
    "df.info()"
   ]
  },
  {
   "cell_type": "markdown",
   "id": "6781e62d-54b0-40d6-91d8-c623866927f4",
   "metadata": {},
   "source": [
    "## Пропуски в данных"
   ]
  },
  {
   "cell_type": "markdown",
   "id": "c204229b-d416-4995-b774-1a8d7738d44e",
   "metadata": {},
   "source": [
    "Все отличнго объеденилось, но появились пропуски из-за меньшего размера некоторых таблиц.\n",
    "\n",
    "Перед обработкой пропусков, приведем столбец 'total_charges' к цифровому типу данных. Очевидно, что там неправильно заполнены данные"
   ]
  },
  {
   "cell_type": "code",
   "execution_count": 19,
   "id": "10d34de6-a74f-413b-b2f2-5a27d63fe26a",
   "metadata": {},
   "outputs": [
    {
     "data": {
      "text/plain": [
       "11"
      ]
     },
     "execution_count": 19,
     "metadata": {},
     "output_type": "execute_result"
    }
   ],
   "source": [
    "df['total_charges'] = pd.to_numeric(df['total_charges'], errors='coerce', downcast='float')\n",
    "df['total_charges'].isna().sum()"
   ]
  },
  {
   "cell_type": "markdown",
   "id": "379e9fb1-1246-4a41-a0b1-1e570af9894a",
   "metadata": {},
   "source": [
    "Появилось немного дополнительных пропусков. Посмотрим на эти строки подробнее."
   ]
  },
  {
   "cell_type": "code",
   "execution_count": 20,
   "id": "6740c980",
   "metadata": {},
   "outputs": [
    {
     "data": {
      "text/html": [
       "<div>\n",
       "<style scoped>\n",
       "    .dataframe tbody tr th:only-of-type {\n",
       "        vertical-align: middle;\n",
       "    }\n",
       "\n",
       "    .dataframe tbody tr th {\n",
       "        vertical-align: top;\n",
       "    }\n",
       "\n",
       "    .dataframe thead th {\n",
       "        text-align: right;\n",
       "    }\n",
       "</style>\n",
       "<table border=\"1\" class=\"dataframe\">\n",
       "  <thead>\n",
       "    <tr style=\"text-align: right;\">\n",
       "      <th></th>\n",
       "      <th>488</th>\n",
       "      <th>753</th>\n",
       "      <th>936</th>\n",
       "      <th>1082</th>\n",
       "      <th>1340</th>\n",
       "      <th>3331</th>\n",
       "      <th>3826</th>\n",
       "      <th>4380</th>\n",
       "      <th>5218</th>\n",
       "      <th>6670</th>\n",
       "      <th>6754</th>\n",
       "    </tr>\n",
       "  </thead>\n",
       "  <tbody>\n",
       "    <tr>\n",
       "      <th>customer_id</th>\n",
       "      <td>4472-LVYGI</td>\n",
       "      <td>3115-CZMZD</td>\n",
       "      <td>5709-LVOEQ</td>\n",
       "      <td>4367-NUYAO</td>\n",
       "      <td>1371-DWPAZ</td>\n",
       "      <td>7644-OMVMY</td>\n",
       "      <td>3213-VVOLG</td>\n",
       "      <td>2520-SGTTA</td>\n",
       "      <td>2923-ARZLG</td>\n",
       "      <td>4075-WKNIU</td>\n",
       "      <td>2775-SEFEE</td>\n",
       "    </tr>\n",
       "    <tr>\n",
       "      <th>begin_date</th>\n",
       "      <td>2020-02-01</td>\n",
       "      <td>2020-02-01</td>\n",
       "      <td>2020-02-01</td>\n",
       "      <td>2020-02-01</td>\n",
       "      <td>2020-02-01</td>\n",
       "      <td>2020-02-01</td>\n",
       "      <td>2020-02-01</td>\n",
       "      <td>2020-02-01</td>\n",
       "      <td>2020-02-01</td>\n",
       "      <td>2020-02-01</td>\n",
       "      <td>2020-02-01</td>\n",
       "    </tr>\n",
       "    <tr>\n",
       "      <th>end_date</th>\n",
       "      <td>No</td>\n",
       "      <td>No</td>\n",
       "      <td>No</td>\n",
       "      <td>No</td>\n",
       "      <td>No</td>\n",
       "      <td>No</td>\n",
       "      <td>No</td>\n",
       "      <td>No</td>\n",
       "      <td>No</td>\n",
       "      <td>No</td>\n",
       "      <td>No</td>\n",
       "    </tr>\n",
       "    <tr>\n",
       "      <th>type</th>\n",
       "      <td>Two year</td>\n",
       "      <td>Two year</td>\n",
       "      <td>Two year</td>\n",
       "      <td>Two year</td>\n",
       "      <td>Two year</td>\n",
       "      <td>Two year</td>\n",
       "      <td>Two year</td>\n",
       "      <td>Two year</td>\n",
       "      <td>One year</td>\n",
       "      <td>Two year</td>\n",
       "      <td>Two year</td>\n",
       "    </tr>\n",
       "    <tr>\n",
       "      <th>paperless_billing</th>\n",
       "      <td>Yes</td>\n",
       "      <td>No</td>\n",
       "      <td>No</td>\n",
       "      <td>No</td>\n",
       "      <td>No</td>\n",
       "      <td>No</td>\n",
       "      <td>No</td>\n",
       "      <td>No</td>\n",
       "      <td>Yes</td>\n",
       "      <td>No</td>\n",
       "      <td>Yes</td>\n",
       "    </tr>\n",
       "    <tr>\n",
       "      <th>payment_method</th>\n",
       "      <td>Bank transfer (automatic)</td>\n",
       "      <td>Mailed check</td>\n",
       "      <td>Mailed check</td>\n",
       "      <td>Mailed check</td>\n",
       "      <td>Credit card (automatic)</td>\n",
       "      <td>Mailed check</td>\n",
       "      <td>Mailed check</td>\n",
       "      <td>Mailed check</td>\n",
       "      <td>Mailed check</td>\n",
       "      <td>Mailed check</td>\n",
       "      <td>Bank transfer (automatic)</td>\n",
       "    </tr>\n",
       "    <tr>\n",
       "      <th>monthly_charges</th>\n",
       "      <td>52.55</td>\n",
       "      <td>20.25</td>\n",
       "      <td>80.85</td>\n",
       "      <td>25.75</td>\n",
       "      <td>56.05</td>\n",
       "      <td>19.85</td>\n",
       "      <td>25.35</td>\n",
       "      <td>20.0</td>\n",
       "      <td>19.7</td>\n",
       "      <td>73.35</td>\n",
       "      <td>61.9</td>\n",
       "    </tr>\n",
       "    <tr>\n",
       "      <th>total_charges</th>\n",
       "      <td>NaN</td>\n",
       "      <td>NaN</td>\n",
       "      <td>NaN</td>\n",
       "      <td>NaN</td>\n",
       "      <td>NaN</td>\n",
       "      <td>NaN</td>\n",
       "      <td>NaN</td>\n",
       "      <td>NaN</td>\n",
       "      <td>NaN</td>\n",
       "      <td>NaN</td>\n",
       "      <td>NaN</td>\n",
       "    </tr>\n",
       "    <tr>\n",
       "      <th>internet_service</th>\n",
       "      <td>DSL</td>\n",
       "      <td>NaN</td>\n",
       "      <td>DSL</td>\n",
       "      <td>NaN</td>\n",
       "      <td>DSL</td>\n",
       "      <td>NaN</td>\n",
       "      <td>NaN</td>\n",
       "      <td>NaN</td>\n",
       "      <td>NaN</td>\n",
       "      <td>DSL</td>\n",
       "      <td>DSL</td>\n",
       "    </tr>\n",
       "    <tr>\n",
       "      <th>online_security</th>\n",
       "      <td>Yes</td>\n",
       "      <td>NaN</td>\n",
       "      <td>Yes</td>\n",
       "      <td>NaN</td>\n",
       "      <td>Yes</td>\n",
       "      <td>NaN</td>\n",
       "      <td>NaN</td>\n",
       "      <td>NaN</td>\n",
       "      <td>NaN</td>\n",
       "      <td>No</td>\n",
       "      <td>Yes</td>\n",
       "    </tr>\n",
       "    <tr>\n",
       "      <th>online_backup</th>\n",
       "      <td>No</td>\n",
       "      <td>NaN</td>\n",
       "      <td>Yes</td>\n",
       "      <td>NaN</td>\n",
       "      <td>Yes</td>\n",
       "      <td>NaN</td>\n",
       "      <td>NaN</td>\n",
       "      <td>NaN</td>\n",
       "      <td>NaN</td>\n",
       "      <td>Yes</td>\n",
       "      <td>Yes</td>\n",
       "    </tr>\n",
       "    <tr>\n",
       "      <th>device_protection</th>\n",
       "      <td>Yes</td>\n",
       "      <td>NaN</td>\n",
       "      <td>Yes</td>\n",
       "      <td>NaN</td>\n",
       "      <td>Yes</td>\n",
       "      <td>NaN</td>\n",
       "      <td>NaN</td>\n",
       "      <td>NaN</td>\n",
       "      <td>NaN</td>\n",
       "      <td>Yes</td>\n",
       "      <td>No</td>\n",
       "    </tr>\n",
       "    <tr>\n",
       "      <th>tech_support</th>\n",
       "      <td>Yes</td>\n",
       "      <td>NaN</td>\n",
       "      <td>No</td>\n",
       "      <td>NaN</td>\n",
       "      <td>Yes</td>\n",
       "      <td>NaN</td>\n",
       "      <td>NaN</td>\n",
       "      <td>NaN</td>\n",
       "      <td>NaN</td>\n",
       "      <td>Yes</td>\n",
       "      <td>Yes</td>\n",
       "    </tr>\n",
       "    <tr>\n",
       "      <th>streaming_tv</th>\n",
       "      <td>Yes</td>\n",
       "      <td>NaN</td>\n",
       "      <td>Yes</td>\n",
       "      <td>NaN</td>\n",
       "      <td>Yes</td>\n",
       "      <td>NaN</td>\n",
       "      <td>NaN</td>\n",
       "      <td>NaN</td>\n",
       "      <td>NaN</td>\n",
       "      <td>Yes</td>\n",
       "      <td>No</td>\n",
       "    </tr>\n",
       "    <tr>\n",
       "      <th>streaming_movies</th>\n",
       "      <td>No</td>\n",
       "      <td>NaN</td>\n",
       "      <td>Yes</td>\n",
       "      <td>NaN</td>\n",
       "      <td>No</td>\n",
       "      <td>NaN</td>\n",
       "      <td>NaN</td>\n",
       "      <td>NaN</td>\n",
       "      <td>NaN</td>\n",
       "      <td>No</td>\n",
       "      <td>No</td>\n",
       "    </tr>\n",
       "    <tr>\n",
       "      <th>gender</th>\n",
       "      <td>Female</td>\n",
       "      <td>Male</td>\n",
       "      <td>Female</td>\n",
       "      <td>Male</td>\n",
       "      <td>Female</td>\n",
       "      <td>Male</td>\n",
       "      <td>Male</td>\n",
       "      <td>Female</td>\n",
       "      <td>Male</td>\n",
       "      <td>Female</td>\n",
       "      <td>Male</td>\n",
       "    </tr>\n",
       "    <tr>\n",
       "      <th>senior_citizen</th>\n",
       "      <td>0</td>\n",
       "      <td>0</td>\n",
       "      <td>0</td>\n",
       "      <td>0</td>\n",
       "      <td>0</td>\n",
       "      <td>0</td>\n",
       "      <td>0</td>\n",
       "      <td>0</td>\n",
       "      <td>0</td>\n",
       "      <td>0</td>\n",
       "      <td>0</td>\n",
       "    </tr>\n",
       "    <tr>\n",
       "      <th>partner</th>\n",
       "      <td>Yes</td>\n",
       "      <td>No</td>\n",
       "      <td>Yes</td>\n",
       "      <td>Yes</td>\n",
       "      <td>Yes</td>\n",
       "      <td>Yes</td>\n",
       "      <td>Yes</td>\n",
       "      <td>Yes</td>\n",
       "      <td>Yes</td>\n",
       "      <td>Yes</td>\n",
       "      <td>No</td>\n",
       "    </tr>\n",
       "    <tr>\n",
       "      <th>dependents</th>\n",
       "      <td>Yes</td>\n",
       "      <td>Yes</td>\n",
       "      <td>Yes</td>\n",
       "      <td>Yes</td>\n",
       "      <td>Yes</td>\n",
       "      <td>Yes</td>\n",
       "      <td>Yes</td>\n",
       "      <td>Yes</td>\n",
       "      <td>Yes</td>\n",
       "      <td>Yes</td>\n",
       "      <td>Yes</td>\n",
       "    </tr>\n",
       "    <tr>\n",
       "      <th>multiple_lines</th>\n",
       "      <td>NaN</td>\n",
       "      <td>No</td>\n",
       "      <td>No</td>\n",
       "      <td>Yes</td>\n",
       "      <td>NaN</td>\n",
       "      <td>No</td>\n",
       "      <td>Yes</td>\n",
       "      <td>No</td>\n",
       "      <td>No</td>\n",
       "      <td>Yes</td>\n",
       "      <td>Yes</td>\n",
       "    </tr>\n",
       "  </tbody>\n",
       "</table>\n",
       "</div>"
      ],
      "text/plain": [
       "                                        488           753           936   \\\n",
       "customer_id                       4472-LVYGI    3115-CZMZD    5709-LVOEQ   \n",
       "begin_date                        2020-02-01    2020-02-01    2020-02-01   \n",
       "end_date                                  No            No            No   \n",
       "type                                Two year      Two year      Two year   \n",
       "paperless_billing                        Yes            No            No   \n",
       "payment_method     Bank transfer (automatic)  Mailed check  Mailed check   \n",
       "monthly_charges                        52.55         20.25         80.85   \n",
       "total_charges                            NaN           NaN           NaN   \n",
       "internet_service                         DSL           NaN           DSL   \n",
       "online_security                          Yes           NaN           Yes   \n",
       "online_backup                             No           NaN           Yes   \n",
       "device_protection                        Yes           NaN           Yes   \n",
       "tech_support                             Yes           NaN            No   \n",
       "streaming_tv                             Yes           NaN           Yes   \n",
       "streaming_movies                          No           NaN           Yes   \n",
       "gender                                Female          Male        Female   \n",
       "senior_citizen                             0             0             0   \n",
       "partner                                  Yes            No           Yes   \n",
       "dependents                               Yes           Yes           Yes   \n",
       "multiple_lines                           NaN            No            No   \n",
       "\n",
       "                           1082                     1340          3331  \\\n",
       "customer_id          4367-NUYAO               1371-DWPAZ    7644-OMVMY   \n",
       "begin_date           2020-02-01               2020-02-01    2020-02-01   \n",
       "end_date                     No                       No            No   \n",
       "type                   Two year                 Two year      Two year   \n",
       "paperless_billing            No                       No            No   \n",
       "payment_method     Mailed check  Credit card (automatic)  Mailed check   \n",
       "monthly_charges           25.75                    56.05         19.85   \n",
       "total_charges               NaN                      NaN           NaN   \n",
       "internet_service            NaN                      DSL           NaN   \n",
       "online_security             NaN                      Yes           NaN   \n",
       "online_backup               NaN                      Yes           NaN   \n",
       "device_protection           NaN                      Yes           NaN   \n",
       "tech_support                NaN                      Yes           NaN   \n",
       "streaming_tv                NaN                      Yes           NaN   \n",
       "streaming_movies            NaN                       No           NaN   \n",
       "gender                     Male                   Female          Male   \n",
       "senior_citizen                0                        0             0   \n",
       "partner                     Yes                      Yes           Yes   \n",
       "dependents                  Yes                      Yes           Yes   \n",
       "multiple_lines              Yes                      NaN            No   \n",
       "\n",
       "                           3826          4380          5218          6670  \\\n",
       "customer_id          3213-VVOLG    2520-SGTTA    2923-ARZLG    4075-WKNIU   \n",
       "begin_date           2020-02-01    2020-02-01    2020-02-01    2020-02-01   \n",
       "end_date                     No            No            No            No   \n",
       "type                   Two year      Two year      One year      Two year   \n",
       "paperless_billing            No            No           Yes            No   \n",
       "payment_method     Mailed check  Mailed check  Mailed check  Mailed check   \n",
       "monthly_charges           25.35          20.0          19.7         73.35   \n",
       "total_charges               NaN           NaN           NaN           NaN   \n",
       "internet_service            NaN           NaN           NaN           DSL   \n",
       "online_security             NaN           NaN           NaN            No   \n",
       "online_backup               NaN           NaN           NaN           Yes   \n",
       "device_protection           NaN           NaN           NaN           Yes   \n",
       "tech_support                NaN           NaN           NaN           Yes   \n",
       "streaming_tv                NaN           NaN           NaN           Yes   \n",
       "streaming_movies            NaN           NaN           NaN            No   \n",
       "gender                     Male        Female          Male        Female   \n",
       "senior_citizen                0             0             0             0   \n",
       "partner                     Yes           Yes           Yes           Yes   \n",
       "dependents                  Yes           Yes           Yes           Yes   \n",
       "multiple_lines              Yes            No            No           Yes   \n",
       "\n",
       "                                        6754  \n",
       "customer_id                       2775-SEFEE  \n",
       "begin_date                        2020-02-01  \n",
       "end_date                                  No  \n",
       "type                                Two year  \n",
       "paperless_billing                        Yes  \n",
       "payment_method     Bank transfer (automatic)  \n",
       "monthly_charges                         61.9  \n",
       "total_charges                            NaN  \n",
       "internet_service                         DSL  \n",
       "online_security                          Yes  \n",
       "online_backup                            Yes  \n",
       "device_protection                         No  \n",
       "tech_support                             Yes  \n",
       "streaming_tv                              No  \n",
       "streaming_movies                          No  \n",
       "gender                                  Male  \n",
       "senior_citizen                             0  \n",
       "partner                                   No  \n",
       "dependents                               Yes  \n",
       "multiple_lines                           Yes  "
      ]
     },
     "execution_count": 20,
     "metadata": {},
     "output_type": "execute_result"
    }
   ],
   "source": [
    "df[df['total_charges'].isna()].T"
   ]
  },
  {
   "cell_type": "markdown",
   "id": "86f6816d",
   "metadata": {},
   "source": [
    "Видно, что все это - новые клиенты. Данных по общим тратам у них просто нет. Пропуски можно заполнить значением месячных трат. А можно не использовать этот признак в дальнейшем, он скорее всего не очень информативный. Посмотрим в дальнейшем."
   ]
  },
  {
   "cell_type": "markdown",
   "id": "c484c055-792f-4b3e-b437-8d643f12fb39",
   "metadata": {},
   "source": [
    "Остальные пропуски имеют отношение к наличию или отсутствию какой-либо услуги. Такие пропуски можно будет заполнить значением 'Unknown'. Скорее всего это связано с неизвестным типом подключения к интернету."
   ]
  },
  {
   "cell_type": "code",
   "execution_count": 21,
   "id": "3a593fd0-785b-46a0-b339-e1f55c9af3fc",
   "metadata": {},
   "outputs": [],
   "source": [
    "df.loc[df['total_charges'].isna(), 'total_charges'] = df['monthly_charges']\n",
    "df.fillna('Unknown', inplace=True)"
   ]
  },
  {
   "cell_type": "code",
   "execution_count": 22,
   "id": "eb11ae82-9052-48ec-9828-91f52a755bf8",
   "metadata": {},
   "outputs": [
    {
     "data": {
      "text/plain": [
       "customer_id          0\n",
       "begin_date           0\n",
       "end_date             0\n",
       "type                 0\n",
       "paperless_billing    0\n",
       "payment_method       0\n",
       "monthly_charges      0\n",
       "total_charges        0\n",
       "internet_service     0\n",
       "online_security      0\n",
       "online_backup        0\n",
       "device_protection    0\n",
       "tech_support         0\n",
       "streaming_tv         0\n",
       "streaming_movies     0\n",
       "gender               0\n",
       "senior_citizen       0\n",
       "partner              0\n",
       "dependents           0\n",
       "multiple_lines       0\n",
       "dtype: int64"
      ]
     },
     "execution_count": 22,
     "metadata": {},
     "output_type": "execute_result"
    }
   ],
   "source": [
    "df.isna().sum()"
   ]
  },
  {
   "cell_type": "markdown",
   "id": "018b4660-72d7-4bf3-af12-5923db0b811c",
   "metadata": {},
   "source": [
    "## Выделение целевого признака"
   ]
  },
  {
   "cell_type": "markdown",
   "id": "ba71b632-d4ca-4e8b-8dc9-fa3bdde9954e",
   "metadata": {},
   "source": [
    "Преобразуем столбцы с датами к более подходящему типу."
   ]
  },
  {
   "cell_type": "code",
   "execution_count": 23,
   "id": "f1491481-0ee2-4284-8641-04928da2ddea",
   "metadata": {},
   "outputs": [],
   "source": [
    "df['begin_date'] = pd.to_datetime(df['begin_date'])"
   ]
  },
  {
   "cell_type": "markdown",
   "id": "d0899ff4-7166-4364-ac9f-f812c7e04dca",
   "metadata": {},
   "source": [
    "А вот с 'end_date' такой фокус не сработал. Очевидно же, что не все клиенты закончили пользоваться услугами. И это как раз то поле, из которого можно выделить целевую переменную."
   ]
  },
  {
   "cell_type": "code",
   "execution_count": 24,
   "id": "debb3bba-2e95-4b5b-9c19-783b476f9873",
   "metadata": {},
   "outputs": [
    {
     "data": {
      "text/plain": [
       "array(['No', '2017-05-01', '2016-03-01', '2018-09-01', '2018-11-01',\n",
       "       '2018-12-01', '2019-08-01', '2018-07-01', '2017-09-01',\n",
       "       '2015-09-01', '2016-07-01', '2016-06-01', '2018-03-01',\n",
       "       '2019-02-01', '2018-06-01', '2019-06-01', '2020-01-01',\n",
       "       '2019-11-01', '2016-09-01', '2015-06-01', '2016-12-01',\n",
       "       '2019-05-01', '2019-04-01', '2017-06-01', '2017-08-01',\n",
       "       '2018-04-01', '2018-08-01', '2018-02-01', '2019-07-01',\n",
       "       '2015-12-01', '2014-06-01', '2018-10-01', '2019-01-01',\n",
       "       '2017-07-01', '2017-12-01', '2018-05-01', '2015-11-01',\n",
       "       '2019-10-01', '2019-03-01', '2016-02-01', '2016-10-01',\n",
       "       '2018-01-01', '2017-11-01', '2015-10-01', '2019-12-01',\n",
       "       '2015-07-01', '2017-04-01', '2015-02-01', '2017-03-01',\n",
       "       '2016-05-01', '2016-11-01', '2015-08-01', '2019-09-01',\n",
       "       '2017-10-01', '2017-02-01', '2016-08-01', '2016-04-01',\n",
       "       '2015-05-01', '2014-09-01', '2014-10-01', '2017-01-01',\n",
       "       '2015-03-01', '2015-01-01', '2016-01-01', '2015-04-01',\n",
       "       '2014-12-01', '2014-11-01'], dtype=object)"
      ]
     },
     "execution_count": 24,
     "metadata": {},
     "output_type": "execute_result"
    }
   ],
   "source": [
    "df['end_date'].unique()"
   ]
  },
  {
   "cell_type": "markdown",
   "id": "99a7abf5-88b2-4071-a13b-7747cfb7f141",
   "metadata": {},
   "source": [
    "Выделим целевой признак по принципу - если в 'end_date' стоит 'No', то клиент не ушел, значение 0. В остальных случаях значение 1"
   ]
  },
  {
   "cell_type": "code",
   "execution_count": 25,
   "id": "238ef136-8a6f-40b1-82f2-f72315167f2b",
   "metadata": {},
   "outputs": [],
   "source": [
    "df['target'] = df['end_date'].apply(lambda x: 0 if x == 'No' else 1)"
   ]
  },
  {
   "cell_type": "code",
   "execution_count": 26,
   "id": "73e93c3e-660f-4b47-add4-224befca0cf2",
   "metadata": {},
   "outputs": [
    {
     "data": {
      "text/plain": [
       "1101"
      ]
     },
     "execution_count": 26,
     "metadata": {},
     "output_type": "execute_result"
    }
   ],
   "source": [
    "df['target'].sum()"
   ]
  },
  {
   "cell_type": "markdown",
   "id": "4d6af034-26ac-4d64-ba16-2145bc79085d",
   "metadata": {},
   "source": [
    "У нас получается бинарная классификация с несбалансированными классами."
   ]
  },
  {
   "cell_type": "code",
   "execution_count": 29,
   "id": "7b861b17-37b5-4ac9-9e92-54b8ab4b1af3",
   "metadata": {},
   "outputs": [
    {
     "data": {
      "image/png": "[encoded data removed]",
      "text/plain": [
       "<Figure size 432x288 with 1 Axes>"
      ]
     },
     "metadata": {
      "needs_background": "light"
     },
     "output_type": "display_data"
    }
   ],
   "source": [
    "hist = sns.histplot(df['target'], shrink=.8, discrete=True, stat='proportion')\n",
    "for bars in hist.containers:\n",
    "        hist.bar_label(bars)\n",
    "hist.set(xticks=df['target'].unique())\n",
    "hist.set_title('Гистограмма распределения целевого признака', y=1.1);"
   ]
  },
  {
   "cell_type": "markdown",
   "id": "46fe4316-07a9-42ea-b762-5162c5ac84ba",
   "metadata": {},
   "source": [
    "Значения 'No' в 'end_date' поменяем на последнюю актуальную дату, и приведем к типу datetime"
   ]
  },
  {
   "cell_type": "code",
   "execution_count": 30,
   "id": "a1a0b2ce-7575-4943-b593-a446f86141ad",
   "metadata": {},
   "outputs": [],
   "source": [
    "df['end_date'] = df['end_date'].apply(lambda x: x if x != 'No' else '2020-02-01')"
   ]
  },
  {
   "cell_type": "code",
   "execution_count": 31,
   "id": "205fba1c-3fbf-408e-855a-80c24b5204be",
   "metadata": {},
   "outputs": [],
   "source": [
    "df['end_date'] = pd.to_datetime(df['end_date'])"
   ]
  },
  {
   "cell_type": "code",
   "execution_count": 32,
   "id": "3b46c0c9-26f9-4009-a5cd-13152d7bb435",
   "metadata": {},
   "outputs": [
    {
     "name": "stdout",
     "output_type": "stream",
     "text": [
      "<class 'pandas.core.frame.DataFrame'>\n",
      "Int64Index: 7043 entries, 0 to 7042\n",
      "Data columns (total 21 columns):\n",
      " #   Column             Non-Null Count  Dtype         \n",
      "---  ------             --------------  -----         \n",
      " 0   customer_id        7043 non-null   object        \n",
      " 1   begin_date         7043 non-null   datetime64[ns]\n",
      " 2   end_date           7043 non-null   datetime64[ns]\n",
      " 3   type               7043 non-null   object        \n",
      " 4   paperless_billing  7043 non-null   object        \n",
      " 5   payment_method     7043 non-null   object        \n",
      " 6   monthly_charges    7043 non-null   float64       \n",
      " 7   total_charges      7043 non-null   float32       \n",
      " 8   internet_service   7043 non-null   object        \n",
      " 9   online_security    7043 non-null   object        \n",
      " 10  online_backup      7043 non-null   object        \n",
      " 11  device_protection  7043 non-null   object        \n",
      " 12  tech_support       7043 non-null   object        \n",
      " 13  streaming_tv       7043 non-null   object        \n",
      " 14  streaming_movies   7043 non-null   object        \n",
      " 15  gender             7043 non-null   object        \n",
      " 16  senior_citizen     7043 non-null   int64         \n",
      " 17  partner            7043 non-null   object        \n",
      " 18  dependents         7043 non-null   object        \n",
      " 19  multiple_lines     7043 non-null   object        \n",
      " 20  target             7043 non-null   int64         \n",
      "dtypes: datetime64[ns](2), float32(1), float64(1), int64(2), object(15)\n",
      "memory usage: 1.4+ MB\n"
     ]
    }
   ],
   "source": [
    "df.info()"
   ]
  },
  {
   "cell_type": "markdown",
   "id": "bb370c2a-f3ce-42db-b0e5-9fb74e6ecc49",
   "metadata": {},
   "source": [
    "Теперь можно добавить новый признак - количество месяцев в течении которых клиент пользовался услугами, или продолжает пользоваться. Тут возникает некоторая проблема в том, что pandas убрал возможность использовать месяц в типе данных timedelta. Поэтому разделим разницу на среднее число дней в месяце."
   ]
  },
  {
   "cell_type": "code",
   "execution_count": 33,
   "id": "6ca81d81-e7d0-445f-a860-45fb82e314d0",
   "metadata": {},
   "outputs": [],
   "source": [
    "df['period'] = round((df['end_date'] - df['begin_date']) / pd.Timedelta(days=30.44)).astype(int)"
   ]
  },
  {
   "cell_type": "code",
   "execution_count": 34,
   "id": "027572af-7b87-476e-81b1-667d67fddd67",
   "metadata": {},
   "outputs": [
    {
     "data": {
      "text/plain": [
       "0        1\n",
       "1       34\n",
       "2        4\n",
       "3       45\n",
       "4        5\n",
       "        ..\n",
       "7038    24\n",
       "7039    72\n",
       "7040    11\n",
       "7041     7\n",
       "7042    66\n",
       "Name: period, Length: 7043, dtype: int64"
      ]
     },
     "execution_count": 34,
     "metadata": {},
     "output_type": "execute_result"
    }
   ],
   "source": [
    "df['period']"
   ]
  },
  {
   "cell_type": "markdown",
   "id": "3a29924a-7622-42a9-ad4c-8fad7e10bda3",
   "metadata": {},
   "source": [
    "## Графики"
   ]
  },
  {
   "cell_type": "markdown",
   "id": "45027e76-6597-467d-8094-26eace6ee753",
   "metadata": {},
   "source": [
    "Выделим числовые признаки и категориальные."
   ]
  },
  {
   "cell_type": "code",
   "execution_count": 35,
   "id": "f3a59683-735e-434f-80da-e341bd83368e",
   "metadata": {},
   "outputs": [],
   "source": [
    "num_cols = [\n",
    "    'period',\n",
    "    'monthly_charges',\n",
    "    'total_charges',\n",
    "]\n",
    "\n",
    "cat_cols = [\n",
    "    'type',\n",
    "    'paperless_billing',\n",
    "    'payment_method',\n",
    "    'internet_service',\n",
    "    'online_security',\n",
    "    'online_backup',\n",
    "    'device_protection',\n",
    "    'tech_support',\n",
    "    'streaming_tv',\n",
    "    'streaming_movies',\n",
    "    'gender',\n",
    "    'senior_citizen',\n",
    "    'partner',\n",
    "    'dependents',\n",
    "    'multiple_lines'\n",
    "]"
   ]
  },
  {
   "cell_type": "markdown",
   "id": "e2a69696-2b64-41a7-8c16-f86bb3ede850",
   "metadata": {},
   "source": [
    "Посмотрим на самые показательные гистограммы по разным признакам"
   ]
  },
  {
   "cell_type": "code",
   "execution_count": 36,
   "id": "86060778-b6ba-433b-bfb7-6a1431b7f447",
   "metadata": {},
   "outputs": [
    {
     "data": {
      "image/png": "[encoded data removed]",
      "text/plain": [
       "<Figure size 1152x288 with 3 Axes>"
      ]
     },
     "metadata": {
      "needs_background": "light"
     },
     "output_type": "display_data"
    }
   ],
   "source": [
    "fig, ax = plt.subplots(1, 3, figsize=(16, 4))\n",
    "\n",
    "for i, col in enumerate(num_cols):\n",
    "    sns.histplot(data=df, x=col, hue='internet_service', ax=ax[i])\n",
    "    \n",
    "fig.suptitle('Гистограммы распределений количественных признаков в зависимости от типа подключения к интернету', fontsize=18)\n",
    "plt.show()"
   ]
  },
  {
   "cell_type": "code",
   "execution_count": 37,
   "id": "e2eec9f5-eead-4381-bf88-1377a4e7a93a",
   "metadata": {},
   "outputs": [
    {
     "data": {
      "image/png": "[encoded data removed]",
      "text/plain": [
       "<Figure size 1152x288 with 3 Axes>"
      ]
     },
     "metadata": {
      "needs_background": "light"
     },
     "output_type": "display_data"
    }
   ],
   "source": [
    "fig, ax = plt.subplots(1, 3, figsize=(16, 4))\n",
    "\n",
    "for i, col in enumerate(num_cols):\n",
    "    sns.histplot(data=df, x=col, hue='target', ax=ax[i])\n",
    "\n",
    "fig.suptitle('Гистограммы распределений количественных признаков в зависимости от целевого признака', fontsize=18)\n",
    "plt.show()"
   ]
  },
  {
   "cell_type": "markdown",
   "id": "5a4c3e1f-76da-40c9-acc0-36e3147457ee",
   "metadata": {},
   "source": [
    "Здесь мы видим, что сумма чека в месяц сильно зависит от типа подключения к интернету. Также видно, что перестают пользоваться услугами люди которые слишком много платят или слишком мало платят в месяц.\n",
    "\n",
    "Еще видим, что уходят люди со средним периодом потребления услуг. Если человек в какой-то момент не разрывает контракт, то скорее всего он уже никогда не перейдет в другую компанию."
   ]
  },
  {
   "cell_type": "markdown",
   "id": "323b64ce-b965-4347-9f89-24b3fd18cd82",
   "metadata": {},
   "source": [
    "Посмотрим на категориальные графики"
   ]
  },
  {
   "cell_type": "code",
   "execution_count": 39,
   "id": "d4ee7be6-8477-4ef5-a40c-cbda0f223271",
   "metadata": {},
   "outputs": [
    {
     "data": {
      "image/png": "[encoded data removed]",
      "text/plain": [
       "<Figure size 864x1440 with 15 Axes>"
      ]
     },
     "metadata": {
      "needs_background": "light"
     },
     "output_type": "display_data"
    }
   ],
   "source": [
    "fig, ax = plt.subplots(5, 3, figsize=(12, 20))\n",
    "\n",
    "ax = ax.ravel()\n",
    "\n",
    "for i, col in enumerate(cat_cols):\n",
    "    hist = sns.histplot(data=df, x=col, hue='target', ax=ax[i], shrink=.8, discrete=True, stat='percent')\n",
    "    # for bars in hist.containers:\n",
    "    #     hist.bar_label(bars, fmt='%.1f')\n",
    "    percentage = (100 * hist.containers[0].datavalues / hist.containers[1].datavalues).round(1)\n",
    "    hist.bar_label(hist.containers[0], percentage)\n",
    "    hist.set_xticks(ticks=df[col].unique())\n",
    "    if len(df[col].unique()) > 2:\n",
    "        plt.setp(hist.get_xticklabels(), rotation=15, ha=\"right\",\n",
    "             rotation_mode=\"anchor\")\n",
    "\n",
    "fig.suptitle('Гистограммы распределений категориальных признаков в зависимости от целевого признака\\nс процентным соотношением расторгнувших контракт по каждой категории', y=1.01, fontsize=18)\n",
    "plt.tight_layout(h_pad=3, w_pad=1)\n",
    "\n",
    "plt.show()"
   ]
  },
  {
   "cell_type": "markdown",
   "id": "e5f7b54a-4a67-48b2-9486-16f8bdf690ef",
   "metadata": {},
   "source": [
    "Выводы по графикам.\n",
    "\n",
    "Кто чаще остается с компанией:\n",
    "* Платит за услуги каждый месяц;\n",
    "* Получает чек на email;\n",
    "* Не имеет супруга(у).\n",
    "\n",
    "Кто чаще уходит:\n",
    "* Подключение к интернету через оптику;\n",
    "* Имеет стриминговое ТВ;\n",
    "* Имеет каталог фильмов;\n",
    "* Много дополнительных сервисов (каждый влияет по разному);\n",
    "* Многоканальный телефон.\n",
    "\n",
    "А вот какого-то существенного влияния пола на распределение не замеченно."
   ]
  },
  {
   "cell_type": "markdown",
   "id": "0b405b69-ec95-4808-bd26-f79e44756675",
   "metadata": {},
   "source": [
    "# Построение моделей"
   ]
  },
  {
   "cell_type": "markdown",
   "id": "42562b57-42e5-4078-9a69-e194b8da17cc",
   "metadata": {
    "tags": []
   },
   "source": [
    "## Новые признаки"
   ]
  },
  {
   "cell_type": "markdown",
   "id": "e80b7955-c32e-46f7-8b3c-9af17967bad0",
   "metadata": {},
   "source": [
    "Признаки которые удалось придумать:\n",
    "- 'mean_charges' - средние траты человека в месяц за весь период;\n",
    "- 'difference' - разница между тратами за весь период и расчитанными исходя из последних трат за месяц (уменьшил или увеличил клиент чек по оплате за последнее время);\n",
    "- 'period_days' - период использования услуг в днях. Изначально расчитал в месяцах, но и в днях тоже стоит использовать."
   ]
  },
  {
   "cell_type": "markdown",
   "id": "87beb932-258c-4834-a071-933aa6f30e1d",
   "metadata": {},
   "source": [
    "Вычисляем 'mean_charges' как отношение 'total_charges' к 'period'"
   ]
  },
  {
   "cell_type": "code",
   "execution_count": 40,
   "id": "1e01e2b7-03c1-4312-9060-b81a0e501fba",
   "metadata": {},
   "outputs": [
    {
     "data": {
      "text/plain": [
       "0"
      ]
     },
     "execution_count": 40,
     "metadata": {},
     "output_type": "execute_result"
    }
   ],
   "source": [
    "df['period'].min()"
   ]
  },
  {
   "cell_type": "markdown",
   "id": "5c8f3db4-9d53-4a87-a197-d72a641cf98e",
   "metadata": {},
   "source": [
    "Поскольку минимальное значение периода ноль, то прибаваим к нему единицу"
   ]
  },
  {
   "cell_type": "code",
   "execution_count": 41,
   "id": "89e477ea-ad44-49b0-90fd-fa1e4a415ca7",
   "metadata": {},
   "outputs": [],
   "source": [
    "df['mean_charges'] = df['total_charges'] / (df['period'] + 1)\n",
    "num_cols.append('mean_charges')"
   ]
  },
  {
   "cell_type": "code",
   "execution_count": 42,
   "id": "6b224372-4cc8-40b8-964e-c67b62cebd82",
   "metadata": {},
   "outputs": [],
   "source": [
    "df['difference'] = df['monthly_charges'] * df['period'] - df['total_charges']\n",
    "num_cols.append('difference')"
   ]
  },
  {
   "cell_type": "code",
   "execution_count": 43,
   "id": "fa351f42-dbb4-45b4-a41d-531cb3eba931",
   "metadata": {},
   "outputs": [],
   "source": [
    "df['period_days'] = (df['end_date'] - df['begin_date']).dt.days\n",
    "num_cols.append('period_days')"
   ]
  },
  {
   "cell_type": "code",
   "execution_count": 44,
   "id": "f4eff3ad-3c2c-4e7a-832e-845b15ab94c9",
   "metadata": {},
   "outputs": [
    {
     "data": {
      "text/plain": [
       "customer_id          7043\n",
       "begin_date             77\n",
       "end_date               67\n",
       "type                    3\n",
       "paperless_billing       2\n",
       "payment_method          4\n",
       "monthly_charges      1585\n",
       "total_charges        6664\n",
       "internet_service        3\n",
       "online_security         3\n",
       "online_backup           3\n",
       "device_protection       3\n",
       "tech_support            3\n",
       "streaming_tv            3\n",
       "streaming_movies        3\n",
       "gender                  2\n",
       "senior_citizen          2\n",
       "partner                 2\n",
       "dependents              2\n",
       "multiple_lines          3\n",
       "target                  2\n",
       "period                 76\n",
       "mean_charges         6788\n",
       "difference           3584\n",
       "period_days           251\n",
       "dtype: int64"
      ]
     },
     "execution_count": 44,
     "metadata": {},
     "output_type": "execute_result"
    }
   ],
   "source": [
    "df.nunique()"
   ]
  },
  {
   "cell_type": "markdown",
   "id": "70f3eb18-c204-4b9d-ab57-75aa96204266",
   "metadata": {},
   "source": [
    "## Корреляция признаков"
   ]
  },
  {
   "cell_type": "markdown",
   "id": "8e43db70-3912-4162-a516-12d55353eafc",
   "metadata": {},
   "source": [
    "Посмотрим на корреляцию всех признаков используя phik"
   ]
  },
  {
   "cell_type": "code",
   "execution_count": 45,
   "id": "bbc17b40-5146-4932-ac0c-89353046ed53",
   "metadata": {},
   "outputs": [],
   "source": [
    "corr_matrix = df.drop(columns=['customer_id', 'begin_date', 'end_date']).phik_matrix(interval_cols=num_cols)"
   ]
  },
  {
   "cell_type": "code",
   "execution_count": 46,
   "id": "21975677-bd53-4836-9021-a1537cd9a0cf",
   "metadata": {},
   "outputs": [
    {
     "data": {
      "image/png": "[encoded data removed]",
      "text/plain": [
       "<Figure size 1008x864 with 2 Axes>"
      ]
     },
     "metadata": {
      "needs_background": "light"
     },
     "output_type": "display_data"
    }
   ],
   "source": [
    "fig, ax = plt.subplots(figsize=(14, 12))\n",
    "sns.heatmap(corr_matrix, annot=True).set_title('Тепловая карта корреляции признаков');"
   ]
  },
  {
   "cell_type": "markdown",
   "id": "af3e69f0-e1cc-466d-8ff1-8c7f1d34748f",
   "metadata": {},
   "source": [
    "Большая корреляция признаков `period` и `period_days` между собой. Опытным путем позднее выяснил, что лучше не использовать `period`. Также большая корреляция между `mean_charges` и `monthly_charges`. Не буду использовать новый признак. Это что касается новых признаков.\n",
    "\n",
    "А вот в старых признаках сильно коррелируют между собой все интернет услуги. Оставлю только `internet_service`. На графиках выше было видно четкое разделение на группы по этому признаку, процент ушедших был одинаковый во всех категориях.\n",
    "\n",
    "Признак `gender` не имеет никакой корреляции ни с чем, в том числе и с таргетом. Удалю его."
   ]
  },
  {
   "cell_type": "code",
   "execution_count": 47,
   "id": "bc92d039-7227-4d28-83b3-cde3f86e5d06",
   "metadata": {},
   "outputs": [
    {
     "data": {
      "text/plain": [
       "['period',\n",
       " 'monthly_charges',\n",
       " 'total_charges',\n",
       " 'mean_charges',\n",
       " 'difference',\n",
       " 'period_days']"
      ]
     },
     "execution_count": 47,
     "metadata": {},
     "output_type": "execute_result"
    }
   ],
   "source": [
    "num_cols"
   ]
  },
  {
   "cell_type": "code",
   "execution_count": 48,
   "id": "b243bdd4",
   "metadata": {},
   "outputs": [
    {
     "data": {
      "text/plain": [
       "['monthly_charges', 'total_charges', 'difference', 'period_days']"
      ]
     },
     "execution_count": 48,
     "metadata": {},
     "output_type": "execute_result"
    }
   ],
   "source": [
    "num_cols = num_cols[1:3] + num_cols[-2:]\n",
    "num_cols"
   ]
  },
  {
   "cell_type": "code",
   "execution_count": 49,
   "id": "95248ac0",
   "metadata": {},
   "outputs": [
    {
     "data": {
      "text/plain": [
       "['type',\n",
       " 'paperless_billing',\n",
       " 'payment_method',\n",
       " 'internet_service',\n",
       " 'online_security',\n",
       " 'online_backup',\n",
       " 'device_protection',\n",
       " 'tech_support',\n",
       " 'streaming_tv',\n",
       " 'streaming_movies',\n",
       " 'gender',\n",
       " 'senior_citizen',\n",
       " 'partner',\n",
       " 'dependents',\n",
       " 'multiple_lines']"
      ]
     },
     "execution_count": 49,
     "metadata": {},
     "output_type": "execute_result"
    }
   ],
   "source": [
    "cat_cols"
   ]
  },
  {
   "cell_type": "code",
   "execution_count": 50,
   "id": "8f3da1cd",
   "metadata": {},
   "outputs": [
    {
     "data": {
      "text/plain": [
       "['type',\n",
       " 'paperless_billing',\n",
       " 'payment_method',\n",
       " 'internet_service',\n",
       " 'senior_citizen',\n",
       " 'partner',\n",
       " 'dependents',\n",
       " 'multiple_lines']"
      ]
     },
     "execution_count": 50,
     "metadata": {},
     "output_type": "execute_result"
    }
   ],
   "source": [
    "cat_cols = cat_cols[:4] + cat_cols[11:]\n",
    "cat_cols"
   ]
  },
  {
   "cell_type": "markdown",
   "id": "c4786241-b7a9-4269-8d75-71972e3f1f22",
   "metadata": {},
   "source": [
    "## Разделение на выборки"
   ]
  },
  {
   "cell_type": "markdown",
   "id": "1c4ae467-dfe3-40b5-9e21-3fbc689feafe",
   "metadata": {},
   "source": [
    "Разделим на выборки с учетом баланса классов"
   ]
  },
  {
   "cell_type": "code",
   "execution_count": 51,
   "id": "5e1db205-391f-472d-8585-cb8f46a84c2d",
   "metadata": {},
   "outputs": [],
   "source": [
    "X_train, X_test, y_train, y_test = train_test_split(df[num_cols + cat_cols], df['target'], test_size=0.25, stratify=df['target'], random_state=RANDOM_STATE)"
   ]
  },
  {
   "cell_type": "markdown",
   "id": "c055fca5-6321-4be7-ae2e-cc7a170edc7b",
   "metadata": {},
   "source": [
    "Пайплайн для обучения моделей из sklearn"
   ]
  },
  {
   "cell_type": "code",
   "execution_count": 52,
   "id": "94dcf970-592c-4cae-84c9-e4ba2b842c0c",
   "metadata": {
    "id": "P2Yv3uYtEEZO"
   },
   "outputs": [],
   "source": [
    "numeric_transformer = Pipeline(\n",
    "    steps=[\n",
    "        (\"scaler\", StandardScaler())\n",
    "    ]\n",
    ")\n",
    "\n",
    "categorical_transformer = Pipeline(\n",
    "    steps=[\n",
    "        (\"encoder\", OneHotEncoder(handle_unknown=\"error\", drop='first')),\n",
    "    ]\n",
    ")\n",
    "\n",
    "preprocessor = ColumnTransformer(\n",
    "    transformers=[\n",
    "        (\"num\", numeric_transformer, num_cols),\n",
    "        (\"cat\", categorical_transformer, cat_cols),\n",
    "    ]\n",
    ")"
   ]
  },
  {
   "cell_type": "markdown",
   "id": "e3cd7e24-0b1b-45c9-adb1-5d0b190da679",
   "metadata": {},
   "source": [
    "## RandomForestClassifier"
   ]
  },
  {
   "cell_type": "markdown",
   "id": "3ca1278f-48e0-4ab9-bad3-d1b5bc5651cd",
   "metadata": {},
   "source": [
    "Посмотрим для начала на RandomForestClassifier()"
   ]
  },
  {
   "cell_type": "code",
   "execution_count": 53,
   "id": "af837a4e-3f74-447e-b0b6-a2f20bab82bc",
   "metadata": {},
   "outputs": [],
   "source": [
    "forest = GridSearchCV(\n",
    "    Pipeline(steps=[(\"preprocessor\", preprocessor), (\"clf\", RandomForestClassifier(random_state=RANDOM_STATE))]), \n",
    "    param_grid={\n",
    "        'clf__n_estimators': [500, 1000, 1500],\n",
    "        'clf__criterion': ['gini', 'entropy']\n",
    "    },\n",
    "    cv=3,\n",
    "    scoring='roc_auc',\n",
    "    n_jobs=-1\n",
    ")"
   ]
  },
  {
   "cell_type": "code",
   "execution_count": 54,
   "id": "c8891933-3b5c-426e-8628-016c6c220937",
   "metadata": {},
   "outputs": [
    {
     "data": {
      "text/plain": [
       "GridSearchCV(cv=3,\n",
       "             estimator=Pipeline(steps=[('preprocessor',\n",
       "                                        ColumnTransformer(transformers=[('num',\n",
       "                                                                         Pipeline(steps=[('scaler',\n",
       "                                                                                          StandardScaler())]),\n",
       "                                                                         ['monthly_charges',\n",
       "                                                                          'total_charges',\n",
       "                                                                          'difference',\n",
       "                                                                          'period_days']),\n",
       "                                                                        ('cat',\n",
       "                                                                         Pipeline(steps=[('encoder',\n",
       "                                                                                          OneHotEncoder(drop='first'))]),\n",
       "                                                                         ['type',\n",
       "                                                                          'paperless_billing',\n",
       "                                                                          'payment_method',\n",
       "                                                                          'internet_service',\n",
       "                                                                          'senior_citizen',\n",
       "                                                                          'partner',\n",
       "                                                                          'dependents',\n",
       "                                                                          'multiple_lines'])])),\n",
       "                                       ('clf',\n",
       "                                        RandomForestClassifier(random_state=220523))]),\n",
       "             n_jobs=-1,\n",
       "             param_grid={'clf__criterion': ['gini', 'entropy'],\n",
       "                         'clf__n_estimators': [500, 1000, 1500]},\n",
       "             scoring='roc_auc')"
      ]
     },
     "execution_count": 54,
     "metadata": {},
     "output_type": "execute_result"
    }
   ],
   "source": [
    "forest.fit(X_train, y_train)"
   ]
  },
  {
   "cell_type": "code",
   "execution_count": 55,
   "id": "7c4d396f-71c2-4ade-92ca-2d308a711026",
   "metadata": {},
   "outputs": [
    {
     "data": {
      "text/plain": [
       "{'clf__criterion': 'entropy', 'clf__n_estimators': 1500}"
      ]
     },
     "execution_count": 55,
     "metadata": {},
     "output_type": "execute_result"
    }
   ],
   "source": [
    "forest.best_params_"
   ]
  },
  {
   "cell_type": "code",
   "execution_count": 56,
   "id": "2715695c-685b-4aa6-8d67-c3b066332c55",
   "metadata": {},
   "outputs": [
    {
     "data": {
      "text/plain": [
       "0.8144268068966886"
      ]
     },
     "execution_count": 56,
     "metadata": {},
     "output_type": "execute_result"
    }
   ],
   "source": [
    "forest.best_score_"
   ]
  },
  {
   "cell_type": "markdown",
   "id": "bacae057-d57f-4947-bebc-b8cdf591d759",
   "metadata": {},
   "source": [
    "Не сильно большая метрика, но и не самая плохая. Посмотрим теперь на GradientBoostingClassifier()"
   ]
  },
  {
   "cell_type": "markdown",
   "id": "3d40b94b-7d37-42a4-98ae-6e9c96e6d42c",
   "metadata": {},
   "source": [
    "## GradientBoostingClassifier"
   ]
  },
  {
   "cell_type": "code",
   "execution_count": 57,
   "id": "f474ca51-5fc8-4655-a0ef-23c396ceff1d",
   "metadata": {},
   "outputs": [],
   "source": [
    "gbc = GridSearchCV(\n",
    "    Pipeline(steps=[(\"preprocessor\", preprocessor), (\"clf\", GradientBoostingClassifier(random_state=RANDOM_STATE))]), \n",
    "    param_grid={\n",
    "        'clf__n_estimators': [500, 1000],\n",
    "        'clf__loss': ['exponential'],\n",
    "        'clf__learning_rate': [0.05, 0.1, 0.5]\n",
    "    },\n",
    "    cv=3,\n",
    "    scoring='roc_auc',\n",
    "    n_jobs=-1\n",
    ")"
   ]
  },
  {
   "cell_type": "code",
   "execution_count": 58,
   "id": "ff8f1385-4b61-4fdf-bf80-f66e1a0d0503",
   "metadata": {},
   "outputs": [
    {
     "data": {
      "text/plain": [
       "GridSearchCV(cv=3,\n",
       "             estimator=Pipeline(steps=[('preprocessor',\n",
       "                                        ColumnTransformer(transformers=[('num',\n",
       "                                                                         Pipeline(steps=[('scaler',\n",
       "                                                                                          StandardScaler())]),\n",
       "                                                                         ['monthly_charges',\n",
       "                                                                          'total_charges',\n",
       "                                                                          'difference',\n",
       "                                                                          'period_days']),\n",
       "                                                                        ('cat',\n",
       "                                                                         Pipeline(steps=[('encoder',\n",
       "                                                                                          OneHotEncoder(drop='first'))]),\n",
       "                                                                         ['type',\n",
       "                                                                          'paperless_billing',\n",
       "                                                                          'payment_method',\n",
       "                                                                          'internet_service',\n",
       "                                                                          'senior_citizen',\n",
       "                                                                          'partner',\n",
       "                                                                          'dependents',\n",
       "                                                                          'multiple_lines'])])),\n",
       "                                       ('clf',\n",
       "                                        GradientBoostingClassifier(random_state=220523))]),\n",
       "             n_jobs=-1,\n",
       "             param_grid={'clf__learning_rate': [0.05, 0.1, 0.5],\n",
       "                         'clf__loss': ['exponential'],\n",
       "                         'clf__n_estimators': [500, 1000]},\n",
       "             scoring='roc_auc')"
      ]
     },
     "execution_count": 58,
     "metadata": {},
     "output_type": "execute_result"
    }
   ],
   "source": [
    "gbc.fit(X_train, y_train)"
   ]
  },
  {
   "cell_type": "code",
   "execution_count": 59,
   "id": "fbb9da75-a2c2-47e8-a35a-f4857aa3344c",
   "metadata": {},
   "outputs": [
    {
     "data": {
      "text/plain": [
       "{'clf__learning_rate': 0.5,\n",
       " 'clf__loss': 'exponential',\n",
       " 'clf__n_estimators': 1000}"
      ]
     },
     "execution_count": 59,
     "metadata": {},
     "output_type": "execute_result"
    }
   ],
   "source": [
    "gbc.best_params_"
   ]
  },
  {
   "cell_type": "code",
   "execution_count": 60,
   "id": "9feda23e-646b-4265-8fe7-014aa9880792",
   "metadata": {},
   "outputs": [
    {
     "data": {
      "text/plain": [
       "0.887396827399512"
      ]
     },
     "execution_count": 60,
     "metadata": {},
     "output_type": "execute_result"
    }
   ],
   "source": [
    "gbc.best_score_"
   ]
  },
  {
   "cell_type": "markdown",
   "id": "97b7ff3f-eaba-4c04-9ee5-f27ac743af14",
   "metadata": {},
   "source": [
    "Оценка с которой можно уже заканчивать проект. Но посмотрим еще на CatBoost"
   ]
  },
  {
   "cell_type": "markdown",
   "id": "c150d27a-8915-439c-a360-cb37fb888b75",
   "metadata": {},
   "source": [
    "## CatBoost"
   ]
  },
  {
   "cell_type": "code",
   "execution_count": 62,
   "id": "2b7ecef3-bc3a-41ee-99c8-237e0ef1f086",
   "metadata": {},
   "outputs": [],
   "source": [
    "train_data = Pool(\n",
    "    data=X_train,\n",
    "    label=y_train,\n",
    "    cat_features=cat_cols\n",
    ")\n",
    "\n",
    "test_data = Pool(\n",
    "    data=X_test,\n",
    "    label=y_test,\n",
    "    cat_features=cat_cols\n",
    ")"
   ]
  },
  {
   "cell_type": "markdown",
   "id": "48b6f175",
   "metadata": {},
   "source": [
    "Подберем гиперпараметры через встроенный GridSearch"
   ]
  },
  {
   "cell_type": "code",
   "execution_count": 78,
   "id": "aba7ef88-7423-46a8-99a7-e2621486a942",
   "metadata": {},
   "outputs": [
    {
     "data": {
      "application/vnd.jupyter.widget-view+json": {
       "model_id": "e14d129eb03c42678bcbbd3e76411bd5",
       "version_major": 2,
       "version_minor": 0
      },
      "text/plain": [
       "MetricVisualizer(layout=Layout(align_self='stretch', height='500px'))"
      ]
     },
     "metadata": {},
     "output_type": "display_data"
    },
    {
     "name": "stdout",
     "output_type": "stream",
     "text": [
      "\n",
      "bestTest = 0.9201102536\n",
      "bestIteration = 1585\n",
      "\n",
      "\n",
      "bestTest = 0.9197500919\n",
      "bestIteration = 2727\n",
      "\n",
      "\n",
      "bestTest = 0.9209996325\n",
      "bestIteration = 1463\n",
      "\n",
      "\n",
      "bestTest = 0.9219404631\n",
      "bestIteration = 1572\n",
      "\n",
      "\n",
      "bestTest = 0.9174421169\n",
      "bestIteration = 2284\n",
      "\n",
      "\n",
      "bestTest = 0.9225652334\n",
      "bestIteration = 1911\n",
      "\n",
      "\n",
      "bestTest = 0.9227048879\n",
      "bestIteration = 1248\n",
      "\n",
      "\n",
      "bestTest = 0.9194634326\n",
      "bestIteration = 1976\n",
      "\n",
      "\n",
      "bestTest = 0.9172436604\n",
      "bestIteration = 1666\n",
      "\n",
      "\n",
      "bestTest = 0.9199338479\n",
      "bestIteration = 1334\n",
      "\n",
      "\n",
      "bestTest = 0.9160382212\n",
      "bestIteration = 2923\n",
      "\n",
      "\n",
      "bestTest = 0.9163763322\n",
      "bestIteration = 2398\n",
      "\n",
      "\n",
      "bestTest = 0.91815509\n",
      "bestIteration = 2402\n",
      "\n",
      "\n",
      "bestTest = 0.920492466\n",
      "bestIteration = 1960\n",
      "\n",
      "\n",
      "bestTest = 0.9148327821\n",
      "bestIteration = 2193\n",
      "\n",
      "\n",
      "bestTest = 0.9176846748\n",
      "bestIteration = 2037\n",
      "\n",
      "\n",
      "bestTest = 0.9190812201\n",
      "bestIteration = 1728\n",
      "\n",
      "\n",
      "bestTest = 0.9133186329\n",
      "bestIteration = 1489\n",
      "\n",
      "\n",
      "bestTest = 0.9161705255\n",
      "bestIteration = 2573\n",
      "\n",
      "\n",
      "bestTest = 0.9147004778\n",
      "bestIteration = 2624\n",
      "\n",
      "\n",
      "bestTest = 0.9186916575\n",
      "bestIteration = 2706\n",
      "\n",
      "\n",
      "bestTest = 0.9191179713\n",
      "bestIteration = 1121\n",
      "\n",
      "\n",
      "bestTest = 0.921014333\n",
      "bestIteration = 1313\n",
      "\n",
      "\n",
      "bestTest = 0.9150753399\n",
      "bestIteration = 2171\n",
      "\n",
      "\n",
      "bestTest = 0.916890849\n",
      "bestIteration = 2990\n",
      "\n",
      "\n",
      "bestTest = 0.9145902242\n",
      "bestIteration = 2563\n",
      "\n",
      "Training on fold [0/3]\n",
      "\n",
      "bestTest = 0.8941058576\n",
      "bestIteration = 2180\n",
      "\n",
      "Training on fold [1/3]\n",
      "\n",
      "bestTest = 0.884620753\n",
      "bestIteration = 2980\n",
      "\n",
      "Training on fold [2/3]\n",
      "\n",
      "bestTest = 0.882745026\n",
      "bestIteration = 2425\n",
      "\n"
     ]
    }
   ],
   "source": [
    "cat_model = CatBoostClassifier(\n",
    "    n_estimators=3000,\n",
    "    loss_function='Logloss',\n",
    "    verbose=False,\n",
    "    eval_metric='AUC:hints=skip_train~false',\n",
    "    one_hot_max_size=3,\n",
    "    random_seed=RANDOM_STATE\n",
    "    )\n",
    "\n",
    "grid_search_result = cat_model.grid_search({\n",
    "    'l2_leaf_reg': np.linspace(0.05, 0.35, 13),\n",
    "    'learning_rate': [0.05, 0.06],\n",
    "    },\n",
    "    train_data,\n",
    "    cv=3,\n",
    "    partition_random_seed=RANDOM_STATE,\n",
    "    verbose=False,\n",
    "    refit=True,\n",
    "    plot=True\n",
    ")"
   ]
  },
  {
   "cell_type": "markdown",
   "id": "204f2dad",
   "metadata": {},
   "source": [
    "Теперь посмотрим на оценку ROC_AUC на кроссвалидации"
   ]
  },
  {
   "cell_type": "code",
   "execution_count": 80,
   "id": "650920ff",
   "metadata": {},
   "outputs": [
    {
     "data": {
      "application/vnd.jupyter.widget-view+json": {
       "model_id": "fa80411bbc004259a534d4a99dc2786f",
       "version_major": 2,
       "version_minor": 0
      },
      "text/plain": [
       "MetricVisualizer(layout=Layout(align_self='stretch', height='500px'))"
      ]
     },
     "metadata": {},
     "output_type": "display_data"
    },
    {
     "name": "stdout",
     "output_type": "stream",
     "text": [
      "Training on fold [0/3]\n",
      "\n",
      "bestTest = 0.8859427117\n",
      "bestIteration = 2981\n",
      "\n",
      "Training on fold [1/3]\n",
      "\n",
      "bestTest = 0.892634221\n",
      "bestIteration = 2021\n",
      "\n",
      "Training on fold [2/3]\n",
      "\n",
      "bestTest = 0.8924322008\n",
      "bestIteration = 2921\n",
      "\n",
      "0.8900287452471066\n"
     ]
    }
   ],
   "source": [
    "params = cat_model.get_params()\n",
    "\n",
    "scores = cv(\n",
    "    train_data,\n",
    "    params,\n",
    "    plot=\"True\",\n",
    ")\n",
    "\n",
    "print(np.max(scores['test-AUC-mean']))"
   ]
  },
  {
   "cell_type": "markdown",
   "id": "9f7b75cd",
   "metadata": {},
   "source": [
    "ROC_AUC = 0.89 - это максимальная оценка среди всех моделей. Выбираем эту модель и смотрим что получается на тесте."
   ]
  },
  {
   "cell_type": "markdown",
   "id": "770751c7-3a7f-4951-9bab-4a00d2a6b618",
   "metadata": {},
   "source": [
    "## Лучшая модель"
   ]
  },
  {
   "cell_type": "markdown",
   "id": "24f90cfa-87cd-4433-bc97-bba8399e2e98",
   "metadata": {},
   "source": [
    "Параметры модели"
   ]
  },
  {
   "cell_type": "code",
   "execution_count": 81,
   "id": "f5913f4d",
   "metadata": {},
   "outputs": [
    {
     "data": {
      "text/plain": [
       "{'loss_function': 'Logloss',\n",
       " 'random_seed': 220523,\n",
       " 'verbose': False,\n",
       " 'one_hot_max_size': 3,\n",
       " 'eval_metric': 'AUC:hints=skip_train~false',\n",
       " 'n_estimators': 3000,\n",
       " 'learning_rate': 0.05,\n",
       " 'l2_leaf_reg': 0.125}"
      ]
     },
     "execution_count": 81,
     "metadata": {},
     "output_type": "execute_result"
    }
   ],
   "source": [
    "cat_model.get_params()"
   ]
  },
  {
   "cell_type": "markdown",
   "id": "13806292-7a13-48d8-9681-ce0f810e4570",
   "metadata": {},
   "source": [
    "Оценка ROC_AUC на тесте"
   ]
  },
  {
   "cell_type": "code",
   "execution_count": 82,
   "id": "cbf1bdb8-3ac3-4c94-8284-3a1fd81a9b19",
   "metadata": {},
   "outputs": [
    {
     "data": {
      "text/plain": [
       "0.9127395081365471"
      ]
     },
     "execution_count": 82,
     "metadata": {},
     "output_type": "execute_result"
    }
   ],
   "source": [
    "roc_auc = roc_auc_score(y_test, cat_model.predict_proba(X_test)[:, 1])\n",
    "roc_auc"
   ]
  },
  {
   "cell_type": "markdown",
   "id": "1db486e8-fbf1-450e-97aa-3cded16579b5",
   "metadata": {},
   "source": [
    "Отличная оценка. Посмотрим на график кривой"
   ]
  },
  {
   "cell_type": "code",
   "execution_count": 83,
   "id": "5fd4edec-a683-48ab-8cbe-0c4fd1391cec",
   "metadata": {},
   "outputs": [],
   "source": [
    "curve = get_roc_curve(cat_model, test_data)"
   ]
  },
  {
   "cell_type": "code",
   "execution_count": 84,
   "id": "fb60c655-0f55-4c3c-8c93-869920ceec27",
   "metadata": {},
   "outputs": [],
   "source": [
    "(fpr, tpr, thresholds) = curve"
   ]
  },
  {
   "cell_type": "code",
   "execution_count": 85,
   "id": "4604fdca-40af-4b0b-8717-0968301439f0",
   "metadata": {},
   "outputs": [
    {
     "data": {
      "image/png": "[encoded data removed]",
      "text/plain": [
       "<Figure size 864x576 with 1 Axes>"
      ]
     },
     "metadata": {
      "needs_background": "light"
     },
     "output_type": "display_data"
    }
   ],
   "source": [
    "plt.figure(figsize=(12, 8))\n",
    "lw = 2\n",
    "\n",
    "plt.plot(fpr, tpr, color='darkorange', lw=lw, label=f'ROC кривая (площадь = {roc_auc:.3})')\n",
    "plt.plot([0, 1], [0, 1], color='navy', lw=lw, linestyle='--')\n",
    "plt.xlim([-0.01, 1.01])\n",
    "plt.ylim([0.0, 1.01])\n",
    "plt.grid(True)\n",
    "plt.xlabel('FPR')\n",
    "plt.ylabel('TPR')\n",
    "plt.title('ROC кривая')\n",
    "plt.legend(loc='lower right')\n",
    "plt.show()"
   ]
  },
  {
   "cell_type": "markdown",
   "id": "214ca48a-5a74-4530-91dd-2622ac37d9ae",
   "metadata": {},
   "source": [
    "И отдельно на графики FPR и FNR"
   ]
  },
  {
   "cell_type": "code",
   "execution_count": 86,
   "id": "1054658a-9b54-400b-a426-f5407a6b57c9",
   "metadata": {},
   "outputs": [],
   "source": [
    "(thresholds, fpr) = get_fpr_curve(curve=curve)\n",
    "(thresholds, fnr) = get_fnr_curve(curve=curve)"
   ]
  },
  {
   "cell_type": "code",
   "execution_count": 87,
   "id": "08b984fe-61ca-424c-b938-b2628fe76fd7",
   "metadata": {},
   "outputs": [
    {
     "data": {
      "image/png": "[encoded data removed]",
      "text/plain": [
       "<Figure size 864x576 with 1 Axes>"
      ]
     },
     "metadata": {
      "needs_background": "light"
     },
     "output_type": "display_data"
    }
   ],
   "source": [
    "plt.figure(figsize=(12, 8))\n",
    "lw = 2\n",
    "\n",
    "plt.plot(thresholds, fpr, color='green', lw=lw, label='FPR')\n",
    "plt.plot(thresholds, fnr, color='blue', lw=lw, label='FNR')\n",
    "plt.xlim([-0.01, 1.01])\n",
    "plt.ylim([0.0, 1.1])\n",
    "plt.grid(True)\n",
    "plt.xlabel('Пороговое значение')\n",
    "plt.ylabel('Доля объектов')\n",
    "plt.title('FPR-FNR кривые')\n",
    "plt.legend(loc='lower right')\n",
    "plt.show()"
   ]
  },
  {
   "cell_type": "markdown",
   "id": "9b97df0d-ba0b-4757-b56d-c207cce35389",
   "metadata": {},
   "source": [
    "Посмотрим на матрицу ошибок"
   ]
  },
  {
   "cell_type": "code",
   "execution_count": 88,
   "id": "b729d4b9-3058-4157-8532-1caff6e7cddd",
   "metadata": {},
   "outputs": [],
   "source": [
    "cm = confusion_matrix(y_test, cat_model.predict(X_test))"
   ]
  },
  {
   "cell_type": "code",
   "execution_count": 89,
   "id": "89c306cf-bafc-43d9-8780-f660d1f224e3",
   "metadata": {},
   "outputs": [
    {
     "data": {
      "image/png": "[encoded data removed]",
      "text/plain": [
       "<Figure size 432x288 with 2 Axes>"
      ]
     },
     "metadata": {
      "needs_background": "light"
     },
     "output_type": "display_data"
    }
   ],
   "source": [
    "cm_display = ConfusionMatrixDisplay(cm).plot()\n",
    "plt.title('Матрица ошибок')\n",
    "plt.show()"
   ]
  },
  {
   "cell_type": "markdown",
   "id": "9d83ec38-df03-4f3a-93cf-00f77245dc80",
   "metadata": {},
   "source": [
    "Модель достаточно редко ошибается в том, что клиент останется. Но почти в половине случаев ошибается с тем, кто вероятнее всего уйдет.\n",
    "\n",
    "Если бизнесу важнее узнать кто действительно покинет компанию, то можно изменить пороговое значение, например, на 0.8. Тогда доля ложныйх срабатываний сильно сократится.\n",
    "\n",
    "Для примера посмотрим пороговые значения при которых доля ложноотрицательных срабатываний и доля ложноположительных срабатываний сократяться до 1 %"
   ]
  },
  {
   "cell_type": "code",
   "execution_count": 90,
   "id": "97ec78a7-afa8-4187-a7b2-9337e2dd2814",
   "metadata": {},
   "outputs": [
    {
     "name": "stdout",
     "output_type": "stream",
     "text": [
      "0.00021976336210481292\n",
      "0.621596918946629\n"
     ]
    }
   ],
   "source": [
    "print(select_threshold(model=cat_model, data=test_data, FNR=0.01))\n",
    "print(select_threshold(model=cat_model, data=test_data, FPR=0.01))"
   ]
  },
  {
   "cell_type": "markdown",
   "id": "6c4e87aa-2327-4580-a8a3-0547649fbe13",
   "metadata": {},
   "source": [
    "Перейдем к важности признаков, и посмотрим все на графике"
   ]
  },
  {
   "cell_type": "code",
   "execution_count": 91,
   "id": "69bd86a7-229b-4f4e-bfd0-a1108d3feb09",
   "metadata": {},
   "outputs": [
    {
     "data": {
      "image/png": "[encoded data removed]",
      "text/plain": [
       "<Figure size 864x432 with 1 Axes>"
      ]
     },
     "metadata": {
      "needs_background": "light"
     },
     "output_type": "display_data"
    }
   ],
   "source": [
    "feature_importance = cat_model.feature_importances_\n",
    "sorted_idx = np.argsort(feature_importance)\n",
    "fig = plt.figure(figsize=(12, 6))\n",
    "plt.barh(range(len(sorted_idx)), feature_importance[sorted_idx], align='center')\n",
    "plt.yticks(range(len(sorted_idx)), np.array(X_test.columns)[sorted_idx])\n",
    "plt.title('Feature Importance')\n",
    "plt.show()"
   ]
  },
  {
   "cell_type": "markdown",
   "id": "3aca46e9-0318-4a4e-a818-e19c15765bc6",
   "metadata": {},
   "source": [
    "Все мои дополнительные признаки оказались в топе. Самыми же важными признакоми оказались - время которое клиент пользуется услугами компании и общее количество потраченных денег. Некоторое значительное влияние оказывает то, как человек оплачивает услуги."
   ]
  },
  {
   "cell_type": "markdown",
   "id": "ef68b8f9-d95c-4910-b64d-62a3de6afc48",
   "metadata": {},
   "source": [
    "# Общий вывод"
   ]
  },
  {
   "cell_type": "markdown",
   "id": "a5ac2525-9705-4e71-a8aa-e515b2f0de22",
   "metadata": {},
   "source": [
    "Рассмотрены данные оператора связи «Ниединогоразрыва.ком»:\n",
    "- Данные объеденены из разных таблиц по разным видам услуг;\n",
    "- Выявленны пропуски в данных общих трат у новых клиентов;\n",
    "- Сгенерированны новые признакми на основе даты, и количества потраченных денег;\n",
    "- Исследован баланс классов;\n",
    "- Данные разделены на тестовую и обучающую выборки.\n",
    "\n",
    "Обучено несколько моделей для прогнозирования оттока клиентов. Лучше всего себя показала модель `CatBoostClassifier` со следующими параметрами:\n",
    "```python\n",
    "{'loss_function': 'Logloss',\n",
    " 'random_seed': 220523,\n",
    " 'verbose': False,\n",
    " 'one_hot_max_size': 3,\n",
    " 'eval_metric': 'AUC:hints=skip_train~false',\n",
    " 'n_estimators': 3000,\n",
    " 'learning_rate': 0.05,\n",
    " 'l2_leaf_reg': 0.125}\n",
    "```\n",
    "ROC_AUC на тестовой выборке 0.913, я думаю заказчик должен быть доволен )"
   ]
  },
  {
   "cell_type": "code",
   "execution_count": null,
   "id": "64f3d996-26ea-4c72-ac57-de68706ac8ba",
   "metadata": {},
   "outputs": [],
   "source": []
  }
 ],
 "metadata": {
  "ExecuteTimeLog": [
   {
    "duration": 8,
    "start_time": "2023-05-23T14:28:29.365Z"
   },
   {
    "duration": 1348,
    "start_time": "2023-05-23T14:28:29.374Z"
   },
   {
    "duration": 445,
    "start_time": "2023-05-23T14:28:30.724Z"
   },
   {
    "duration": 31,
    "start_time": "2023-05-23T14:28:31.171Z"
   },
   {
    "duration": 64,
    "start_time": "2023-05-23T14:28:31.204Z"
   },
   {
    "duration": 86,
    "start_time": "2023-05-23T14:28:31.269Z"
   },
   {
    "duration": 84,
    "start_time": "2023-05-23T14:28:31.357Z"
   },
   {
    "duration": 32,
    "start_time": "2023-05-23T14:28:31.443Z"
   },
   {
    "duration": 98,
    "start_time": "2023-05-23T14:28:31.476Z"
   },
   {
    "duration": 122,
    "start_time": "2023-05-23T14:28:31.577Z"
   },
   {
    "duration": 49,
    "start_time": "2023-05-23T14:28:31.701Z"
   },
   {
    "duration": 82,
    "start_time": "2023-05-23T14:28:31.751Z"
   },
   {
    "duration": 13,
    "start_time": "2023-05-23T14:28:31.835Z"
   },
   {
    "duration": 23,
    "start_time": "2023-05-23T14:28:31.851Z"
   },
   {
    "duration": 71,
    "start_time": "2023-05-23T14:28:31.876Z"
   },
   {
    "duration": 18,
    "start_time": "2023-05-23T14:28:31.950Z"
   },
   {
    "duration": 69,
    "start_time": "2023-05-23T14:28:31.969Z"
   },
   {
    "duration": 32,
    "start_time": "2023-05-23T14:28:32.040Z"
   },
   {
    "duration": 43,
    "start_time": "2023-05-23T14:28:32.074Z"
   },
   {
    "duration": 13,
    "start_time": "2023-05-23T14:28:32.119Z"
   },
   {
    "duration": 40,
    "start_time": "2023-05-23T14:28:32.134Z"
   },
   {
    "duration": 69,
    "start_time": "2023-05-23T14:28:32.175Z"
   },
   {
    "duration": 307,
    "start_time": "2023-05-23T14:28:32.246Z"
   },
   {
    "duration": 0,
    "start_time": "2023-05-23T14:28:32.555Z"
   },
   {
    "duration": 0,
    "start_time": "2023-05-23T14:28:32.557Z"
   },
   {
    "duration": 0,
    "start_time": "2023-05-23T14:28:32.557Z"
   },
   {
    "duration": 0,
    "start_time": "2023-05-23T14:28:32.559Z"
   },
   {
    "duration": 0,
    "start_time": "2023-05-23T14:28:32.560Z"
   },
   {
    "duration": 0,
    "start_time": "2023-05-23T14:28:32.562Z"
   },
   {
    "duration": 0,
    "start_time": "2023-05-23T14:28:32.563Z"
   },
   {
    "duration": 0,
    "start_time": "2023-05-23T14:28:32.565Z"
   },
   {
    "duration": 0,
    "start_time": "2023-05-23T14:28:32.566Z"
   },
   {
    "duration": 0,
    "start_time": "2023-05-23T14:28:32.568Z"
   },
   {
    "duration": 25,
    "start_time": "2023-05-23T14:30:04.367Z"
   },
   {
    "duration": 16,
    "start_time": "2023-05-23T14:30:14.848Z"
   },
   {
    "duration": 8,
    "start_time": "2023-05-23T18:29:41.116Z"
   },
   {
    "duration": 1272,
    "start_time": "2023-05-23T18:29:41.125Z"
   },
   {
    "duration": 437,
    "start_time": "2023-05-23T18:29:42.400Z"
   },
   {
    "duration": 17,
    "start_time": "2023-05-23T18:29:42.838Z"
   },
   {
    "duration": 31,
    "start_time": "2023-05-23T18:29:42.857Z"
   },
   {
    "duration": 12,
    "start_time": "2023-05-23T18:29:42.890Z"
   },
   {
    "duration": 8,
    "start_time": "2023-05-23T18:29:42.904Z"
   },
   {
    "duration": 8,
    "start_time": "2023-05-23T18:29:42.914Z"
   },
   {
    "duration": 20,
    "start_time": "2023-05-23T18:29:42.924Z"
   },
   {
    "duration": 10,
    "start_time": "2023-05-23T18:29:42.946Z"
   },
   {
    "duration": 14,
    "start_time": "2023-05-23T18:29:42.958Z"
   },
   {
    "duration": 29,
    "start_time": "2023-05-23T18:29:42.974Z"
   },
   {
    "duration": 13,
    "start_time": "2023-05-23T18:29:43.005Z"
   },
   {
    "duration": 8,
    "start_time": "2023-05-23T18:29:43.020Z"
   },
   {
    "duration": 27,
    "start_time": "2023-05-23T18:29:43.029Z"
   },
   {
    "duration": 17,
    "start_time": "2023-05-23T18:29:43.057Z"
   },
   {
    "duration": 13,
    "start_time": "2023-05-23T18:29:43.075Z"
   },
   {
    "duration": 15,
    "start_time": "2023-05-23T18:29:43.089Z"
   },
   {
    "duration": 6,
    "start_time": "2023-05-23T18:29:43.105Z"
   },
   {
    "duration": 5,
    "start_time": "2023-05-23T18:29:43.113Z"
   },
   {
    "duration": 12,
    "start_time": "2023-05-23T18:29:43.119Z"
   },
   {
    "duration": 12,
    "start_time": "2023-05-23T18:29:43.133Z"
   },
   {
    "duration": 277,
    "start_time": "2023-05-23T18:29:43.147Z"
   },
   {
    "duration": 0,
    "start_time": "2023-05-23T18:29:43.427Z"
   },
   {
    "duration": 0,
    "start_time": "2023-05-23T18:29:43.428Z"
   },
   {
    "duration": 1,
    "start_time": "2023-05-23T18:29:43.428Z"
   },
   {
    "duration": 0,
    "start_time": "2023-05-23T18:29:43.429Z"
   },
   {
    "duration": 0,
    "start_time": "2023-05-23T18:29:43.430Z"
   },
   {
    "duration": 0,
    "start_time": "2023-05-23T18:29:43.431Z"
   },
   {
    "duration": 0,
    "start_time": "2023-05-23T18:29:43.431Z"
   },
   {
    "duration": 0,
    "start_time": "2023-05-23T18:29:43.433Z"
   },
   {
    "duration": 0,
    "start_time": "2023-05-23T18:29:43.433Z"
   },
   {
    "duration": 0,
    "start_time": "2023-05-23T18:29:43.434Z"
   },
   {
    "duration": 8,
    "start_time": "2023-05-23T21:24:37.200Z"
   },
   {
    "duration": 1319,
    "start_time": "2023-05-23T21:24:37.210Z"
   },
   {
    "duration": 402,
    "start_time": "2023-05-23T21:24:38.531Z"
   },
   {
    "duration": 15,
    "start_time": "2023-05-23T21:24:38.936Z"
   },
   {
    "duration": 10,
    "start_time": "2023-05-23T21:24:38.953Z"
   },
   {
    "duration": 11,
    "start_time": "2023-05-23T21:24:38.964Z"
   },
   {
    "duration": 8,
    "start_time": "2023-05-23T21:24:38.976Z"
   },
   {
    "duration": 6,
    "start_time": "2023-05-23T21:24:38.986Z"
   },
   {
    "duration": 33,
    "start_time": "2023-05-23T21:24:38.994Z"
   },
   {
    "duration": 6,
    "start_time": "2023-05-23T21:24:39.030Z"
   },
   {
    "duration": 7,
    "start_time": "2023-05-23T21:24:39.037Z"
   },
   {
    "duration": 26,
    "start_time": "2023-05-23T21:24:39.045Z"
   },
   {
    "duration": 14,
    "start_time": "2023-05-23T21:24:39.073Z"
   },
   {
    "duration": 4,
    "start_time": "2023-05-23T21:24:39.088Z"
   },
   {
    "duration": 45,
    "start_time": "2023-05-23T21:24:39.093Z"
   },
   {
    "duration": 7,
    "start_time": "2023-05-23T21:24:39.140Z"
   },
   {
    "duration": 23,
    "start_time": "2023-05-23T21:24:39.149Z"
   },
   {
    "duration": 13,
    "start_time": "2023-05-23T21:24:39.173Z"
   },
   {
    "duration": 5,
    "start_time": "2023-05-23T21:24:39.188Z"
   },
   {
    "duration": 4,
    "start_time": "2023-05-23T21:24:39.194Z"
   },
   {
    "duration": 25,
    "start_time": "2023-05-23T21:24:39.200Z"
   },
   {
    "duration": 4,
    "start_time": "2023-05-23T21:24:39.227Z"
   },
   {
    "duration": 275,
    "start_time": "2023-05-23T21:24:39.234Z"
   },
   {
    "duration": 0,
    "start_time": "2023-05-23T21:24:39.511Z"
   },
   {
    "duration": 0,
    "start_time": "2023-05-23T21:24:39.512Z"
   },
   {
    "duration": 0,
    "start_time": "2023-05-23T21:24:39.514Z"
   },
   {
    "duration": 0,
    "start_time": "2023-05-23T21:24:39.515Z"
   },
   {
    "duration": 0,
    "start_time": "2023-05-23T21:24:39.525Z"
   },
   {
    "duration": 0,
    "start_time": "2023-05-23T21:24:39.526Z"
   },
   {
    "duration": 0,
    "start_time": "2023-05-23T21:24:39.527Z"
   },
   {
    "duration": 0,
    "start_time": "2023-05-23T21:24:39.528Z"
   },
   {
    "duration": 0,
    "start_time": "2023-05-23T21:24:39.529Z"
   },
   {
    "duration": 0,
    "start_time": "2023-05-23T21:24:39.530Z"
   },
   {
    "duration": 2623,
    "start_time": "2023-05-23T21:34:24.164Z"
   },
   {
    "duration": 8,
    "start_time": "2023-05-23T21:34:34.450Z"
   },
   {
    "duration": 2239,
    "start_time": "2023-05-23T21:34:34.460Z"
   },
   {
    "duration": 1186,
    "start_time": "2023-05-23T21:34:36.701Z"
   },
   {
    "duration": 99,
    "start_time": "2023-05-23T21:34:37.888Z"
   },
   {
    "duration": 15,
    "start_time": "2023-05-23T21:34:37.989Z"
   },
   {
    "duration": 18,
    "start_time": "2023-05-23T21:34:38.006Z"
   },
   {
    "duration": 18,
    "start_time": "2023-05-23T21:34:38.026Z"
   },
   {
    "duration": 14,
    "start_time": "2023-05-23T21:34:38.045Z"
   },
   {
    "duration": 10,
    "start_time": "2023-05-23T21:34:38.061Z"
   },
   {
    "duration": 17,
    "start_time": "2023-05-23T21:34:38.073Z"
   },
   {
    "duration": 11,
    "start_time": "2023-05-23T21:34:38.091Z"
   },
   {
    "duration": 13,
    "start_time": "2023-05-23T21:34:38.103Z"
   },
   {
    "duration": 30,
    "start_time": "2023-05-23T21:34:38.117Z"
   },
   {
    "duration": 13,
    "start_time": "2023-05-23T21:34:38.150Z"
   },
   {
    "duration": 16,
    "start_time": "2023-05-23T21:34:38.165Z"
   },
   {
    "duration": 26,
    "start_time": "2023-05-23T21:34:38.183Z"
   },
   {
    "duration": 9,
    "start_time": "2023-05-23T21:34:38.211Z"
   },
   {
    "duration": 15,
    "start_time": "2023-05-23T21:34:38.221Z"
   },
   {
    "duration": 20,
    "start_time": "2023-05-23T21:34:38.238Z"
   },
   {
    "duration": 7,
    "start_time": "2023-05-23T21:34:38.260Z"
   },
   {
    "duration": 22,
    "start_time": "2023-05-23T21:34:38.268Z"
   },
   {
    "duration": 16,
    "start_time": "2023-05-23T21:34:38.292Z"
   },
   {
    "duration": 9,
    "start_time": "2023-05-23T21:34:38.310Z"
   },
   {
    "duration": 290,
    "start_time": "2023-05-23T21:34:38.321Z"
   },
   {
    "duration": 0,
    "start_time": "2023-05-23T21:34:38.613Z"
   },
   {
    "duration": 0,
    "start_time": "2023-05-23T21:34:38.614Z"
   },
   {
    "duration": 0,
    "start_time": "2023-05-23T21:34:38.615Z"
   },
   {
    "duration": 0,
    "start_time": "2023-05-23T21:34:38.616Z"
   },
   {
    "duration": 0,
    "start_time": "2023-05-23T21:34:38.617Z"
   },
   {
    "duration": 0,
    "start_time": "2023-05-23T21:34:38.625Z"
   },
   {
    "duration": 0,
    "start_time": "2023-05-23T21:34:38.626Z"
   },
   {
    "duration": 0,
    "start_time": "2023-05-23T21:34:38.628Z"
   },
   {
    "duration": 0,
    "start_time": "2023-05-23T21:34:38.629Z"
   },
   {
    "duration": 0,
    "start_time": "2023-05-23T21:34:38.630Z"
   },
   {
    "duration": 1039,
    "start_time": "2023-05-23T21:36:05.402Z"
   },
   {
    "duration": 3047,
    "start_time": "2023-05-23T21:36:14.966Z"
   },
   {
    "duration": 5,
    "start_time": "2023-05-23T21:38:02.693Z"
   },
   {
    "duration": 100,
    "start_time": "2023-05-23T21:38:04.682Z"
   },
   {
    "duration": 13,
    "start_time": "2023-05-23T21:38:05.083Z"
   },
   {
    "duration": 11,
    "start_time": "2023-05-23T21:38:06.163Z"
   },
   {
    "duration": 9,
    "start_time": "2023-05-23T21:38:06.485Z"
   },
   {
    "duration": 8,
    "start_time": "2023-05-23T21:38:06.787Z"
   },
   {
    "duration": 6,
    "start_time": "2023-05-23T21:38:07.451Z"
   },
   {
    "duration": 6,
    "start_time": "2023-05-23T21:38:07.787Z"
   },
   {
    "duration": 5,
    "start_time": "2023-05-23T21:38:08.160Z"
   },
   {
    "duration": 6,
    "start_time": "2023-05-23T21:38:08.520Z"
   },
   {
    "duration": 40,
    "start_time": "2023-05-23T21:38:09.639Z"
   },
   {
    "duration": 16,
    "start_time": "2023-05-23T21:38:10.395Z"
   },
   {
    "duration": 5,
    "start_time": "2023-05-23T21:38:12.027Z"
   },
   {
    "duration": 17,
    "start_time": "2023-05-23T21:38:12.786Z"
   },
   {
    "duration": 11,
    "start_time": "2023-05-23T21:38:14.352Z"
   },
   {
    "duration": 14,
    "start_time": "2023-05-23T21:38:15.608Z"
   },
   {
    "duration": 13,
    "start_time": "2023-05-23T21:38:16.587Z"
   },
   {
    "duration": 7,
    "start_time": "2023-05-23T21:38:18.180Z"
   },
   {
    "duration": 5,
    "start_time": "2023-05-23T21:38:19.192Z"
   },
   {
    "duration": 6,
    "start_time": "2023-05-23T21:38:20.409Z"
   },
   {
    "duration": 6,
    "start_time": "2023-05-23T21:38:21.301Z"
   },
   {
    "duration": 180,
    "start_time": "2023-05-23T21:38:22.565Z"
   },
   {
    "duration": 4,
    "start_time": "2023-05-23T21:39:01.181Z"
   },
   {
    "duration": 3,
    "start_time": "2023-05-23T21:39:09.104Z"
   },
   {
    "duration": 8489,
    "start_time": "2023-05-23T21:40:14.803Z"
   },
   {
    "duration": 3,
    "start_time": "2023-05-23T21:40:36.427Z"
   },
   {
    "duration": 101,
    "start_time": "2023-05-23T21:40:37.022Z"
   },
   {
    "duration": 14,
    "start_time": "2023-05-23T21:40:37.388Z"
   },
   {
    "duration": 12,
    "start_time": "2023-05-23T21:40:37.608Z"
   },
   {
    "duration": 10,
    "start_time": "2023-05-23T21:40:37.827Z"
   },
   {
    "duration": 8,
    "start_time": "2023-05-23T21:40:38.042Z"
   },
   {
    "duration": 5,
    "start_time": "2023-05-23T21:40:38.484Z"
   },
   {
    "duration": 6,
    "start_time": "2023-05-23T21:40:38.706Z"
   },
   {
    "duration": 6,
    "start_time": "2023-05-23T21:40:38.935Z"
   },
   {
    "duration": 6,
    "start_time": "2023-05-23T21:40:39.155Z"
   },
   {
    "duration": 28,
    "start_time": "2023-05-23T21:40:40.035Z"
   },
   {
    "duration": 14,
    "start_time": "2023-05-23T21:40:40.643Z"
   },
   {
    "duration": 4,
    "start_time": "2023-05-23T21:40:42.082Z"
   },
   {
    "duration": 17,
    "start_time": "2023-05-23T21:40:42.687Z"
   },
   {
    "duration": 8,
    "start_time": "2023-05-23T21:40:44.136Z"
   },
   {
    "duration": 12,
    "start_time": "2023-05-23T21:40:45.261Z"
   },
   {
    "duration": 13,
    "start_time": "2023-05-23T21:40:46.491Z"
   },
   {
    "duration": 6,
    "start_time": "2023-05-23T21:40:48.405Z"
   },
   {
    "duration": 6,
    "start_time": "2023-05-23T21:40:49.144Z"
   },
   {
    "duration": 7,
    "start_time": "2023-05-23T21:40:50.256Z"
   },
   {
    "duration": 4,
    "start_time": "2023-05-23T21:40:51.045Z"
   },
   {
    "duration": 182,
    "start_time": "2023-05-23T21:40:52.262Z"
   },
   {
    "duration": 4,
    "start_time": "2023-05-23T21:43:59.109Z"
   },
   {
    "duration": 147,
    "start_time": "2023-05-23T21:44:32.442Z"
   },
   {
    "duration": 2229,
    "start_time": "2023-05-23T21:44:53.172Z"
   },
   {
    "duration": 4,
    "start_time": "2023-05-23T21:45:26.707Z"
   },
   {
    "duration": 160,
    "start_time": "2023-05-23T21:45:33.970Z"
   },
   {
    "duration": 14,
    "start_time": "2023-05-23T21:45:57.522Z"
   },
   {
    "duration": 8,
    "start_time": "2023-05-23T21:49:00.754Z"
   },
   {
    "duration": 5,
    "start_time": "2023-05-23T21:49:12.237Z"
   },
   {
    "duration": 2442,
    "start_time": "2023-05-23T21:49:48.140Z"
   },
   {
    "duration": 4,
    "start_time": "2023-05-23T21:50:12.563Z"
   },
   {
    "duration": 5,
    "start_time": "2023-05-23T21:50:22.757Z"
   },
   {
    "duration": 153,
    "start_time": "2023-05-23T21:50:25.660Z"
   },
   {
    "duration": 7,
    "start_time": "2023-05-23T21:50:56.780Z"
   },
   {
    "duration": 2286,
    "start_time": "2023-05-23T21:50:56.789Z"
   },
   {
    "duration": 2409,
    "start_time": "2023-05-23T21:50:59.077Z"
   },
   {
    "duration": 1332,
    "start_time": "2023-05-23T21:51:01.489Z"
   },
   {
    "duration": 120,
    "start_time": "2023-05-23T21:51:02.824Z"
   },
   {
    "duration": 20,
    "start_time": "2023-05-23T21:51:02.946Z"
   },
   {
    "duration": 11,
    "start_time": "2023-05-23T21:51:02.968Z"
   },
   {
    "duration": 12,
    "start_time": "2023-05-23T21:51:02.981Z"
   },
   {
    "duration": 9,
    "start_time": "2023-05-23T21:51:02.995Z"
   },
   {
    "duration": 20,
    "start_time": "2023-05-23T21:51:03.007Z"
   },
   {
    "duration": 9,
    "start_time": "2023-05-23T21:51:03.030Z"
   },
   {
    "duration": 7,
    "start_time": "2023-05-23T21:51:03.042Z"
   },
   {
    "duration": 8,
    "start_time": "2023-05-23T21:51:03.050Z"
   },
   {
    "duration": 28,
    "start_time": "2023-05-23T21:51:03.060Z"
   },
   {
    "duration": 46,
    "start_time": "2023-05-23T21:51:03.091Z"
   },
   {
    "duration": 4,
    "start_time": "2023-05-23T21:51:03.140Z"
   },
   {
    "duration": 29,
    "start_time": "2023-05-23T21:51:03.146Z"
   },
   {
    "duration": 8,
    "start_time": "2023-05-23T21:51:03.177Z"
   },
   {
    "duration": 13,
    "start_time": "2023-05-23T21:51:03.187Z"
   },
   {
    "duration": 28,
    "start_time": "2023-05-23T21:51:03.202Z"
   },
   {
    "duration": 8,
    "start_time": "2023-05-23T21:51:03.232Z"
   },
   {
    "duration": 5,
    "start_time": "2023-05-23T21:51:03.242Z"
   },
   {
    "duration": 13,
    "start_time": "2023-05-23T21:51:03.248Z"
   },
   {
    "duration": 6,
    "start_time": "2023-05-23T21:51:03.263Z"
   },
   {
    "duration": 4,
    "start_time": "2023-05-23T21:51:03.271Z"
   },
   {
    "duration": 5,
    "start_time": "2023-05-23T21:51:03.277Z"
   },
   {
    "duration": 482,
    "start_time": "2023-05-23T21:51:03.283Z"
   },
   {
    "duration": 3,
    "start_time": "2023-05-23T21:51:03.769Z"
   },
   {
    "duration": 9,
    "start_time": "2023-05-23T21:51:03.774Z"
   },
   {
    "duration": 19,
    "start_time": "2023-05-23T21:51:03.785Z"
   },
   {
    "duration": 21,
    "start_time": "2023-05-23T21:51:03.806Z"
   },
   {
    "duration": 7,
    "start_time": "2023-05-23T21:51:03.829Z"
   },
   {
    "duration": 7,
    "start_time": "2023-05-23T21:51:03.838Z"
   },
   {
    "duration": 15,
    "start_time": "2023-05-23T21:51:03.847Z"
   },
   {
    "duration": 1345,
    "start_time": "2023-05-23T21:51:03.863Z"
   },
   {
    "duration": 1186,
    "start_time": "2023-05-23T21:51:05.210Z"
   },
   {
    "duration": 3,
    "start_time": "2023-05-23T21:51:06.397Z"
   },
   {
    "duration": 3842,
    "start_time": "2023-05-23T21:51:06.401Z"
   },
   {
    "duration": 55,
    "start_time": "2023-05-23T21:58:07.246Z"
   },
   {
    "duration": 326,
    "start_time": "2023-05-23T21:58:12.591Z"
   },
   {
    "duration": 294,
    "start_time": "2023-05-23T21:58:18.537Z"
   },
   {
    "duration": 16,
    "start_time": "2023-05-23T21:59:42.600Z"
   },
   {
    "duration": 11,
    "start_time": "2023-05-23T21:59:47.625Z"
   },
   {
    "duration": 9,
    "start_time": "2023-05-23T22:00:04.457Z"
   },
   {
    "duration": 2458,
    "start_time": "2023-05-23T22:00:04.468Z"
   },
   {
    "duration": 2379,
    "start_time": "2023-05-23T22:00:06.929Z"
   },
   {
    "duration": 1486,
    "start_time": "2023-05-23T22:00:09.310Z"
   },
   {
    "duration": 111,
    "start_time": "2023-05-23T22:00:10.798Z"
   },
   {
    "duration": 21,
    "start_time": "2023-05-23T22:00:10.910Z"
   },
   {
    "duration": 18,
    "start_time": "2023-05-23T22:00:10.933Z"
   },
   {
    "duration": 11,
    "start_time": "2023-05-23T22:00:10.953Z"
   },
   {
    "duration": 19,
    "start_time": "2023-05-23T22:00:10.966Z"
   },
   {
    "duration": 12,
    "start_time": "2023-05-23T22:00:10.987Z"
   },
   {
    "duration": 7,
    "start_time": "2023-05-23T22:00:11.001Z"
   },
   {
    "duration": 24,
    "start_time": "2023-05-23T22:00:11.010Z"
   },
   {
    "duration": 6,
    "start_time": "2023-05-23T22:00:11.036Z"
   },
   {
    "duration": 33,
    "start_time": "2023-05-23T22:00:11.045Z"
   },
   {
    "duration": 14,
    "start_time": "2023-05-23T22:00:11.080Z"
   },
   {
    "duration": 3,
    "start_time": "2023-05-23T22:00:11.096Z"
   },
   {
    "duration": 31,
    "start_time": "2023-05-23T22:00:11.101Z"
   },
   {
    "duration": 17,
    "start_time": "2023-05-23T22:00:11.134Z"
   },
   {
    "duration": 20,
    "start_time": "2023-05-23T22:00:13.860Z"
   },
   {
    "duration": 47,
    "start_time": "2023-05-23T22:07:48.078Z"
   },
   {
    "duration": 169,
    "start_time": "2023-05-23T22:07:57.297Z"
   },
   {
    "duration": 385,
    "start_time": "2023-05-23T22:09:01.677Z"
   },
   {
    "duration": 8,
    "start_time": "2023-05-23T22:09:29.742Z"
   },
   {
    "duration": 14,
    "start_time": "2023-05-23T22:10:17.807Z"
   },
   {
    "duration": 15,
    "start_time": "2023-05-23T22:10:33.474Z"
   },
   {
    "duration": 14,
    "start_time": "2023-05-23T22:10:42.251Z"
   },
   {
    "duration": 7,
    "start_time": "2023-05-23T22:10:45.002Z"
   },
   {
    "duration": 4,
    "start_time": "2023-05-23T22:10:46.583Z"
   },
   {
    "duration": 9,
    "start_time": "2023-05-23T22:10:48.138Z"
   },
   {
    "duration": 4,
    "start_time": "2023-05-23T22:10:49.552Z"
   },
   {
    "duration": 4,
    "start_time": "2023-05-23T22:10:51.218Z"
   },
   {
    "duration": 5,
    "start_time": "2023-05-23T22:10:51.669Z"
   },
   {
    "duration": 317,
    "start_time": "2023-05-23T22:10:52.448Z"
   },
   {
    "duration": 6,
    "start_time": "2023-05-23T22:10:57.504Z"
   },
   {
    "duration": 7,
    "start_time": "2023-05-23T22:10:57.921Z"
   },
   {
    "duration": 28,
    "start_time": "2023-05-23T22:10:58.797Z"
   },
   {
    "duration": 6,
    "start_time": "2023-05-23T22:11:06.295Z"
   },
   {
    "duration": 5,
    "start_time": "2023-05-23T22:11:06.755Z"
   },
   {
    "duration": 6,
    "start_time": "2023-05-23T22:11:09.780Z"
   },
   {
    "duration": 1640,
    "start_time": "2023-05-23T22:11:11.325Z"
   },
   {
    "duration": 8,
    "start_time": "2023-05-23T22:12:29.444Z"
   },
   {
    "duration": 2572,
    "start_time": "2023-05-23T22:12:29.454Z"
   },
   {
    "duration": 2517,
    "start_time": "2023-05-23T22:12:32.043Z"
   },
   {
    "duration": 1332,
    "start_time": "2023-05-23T22:12:34.563Z"
   },
   {
    "duration": 105,
    "start_time": "2023-05-23T22:12:35.897Z"
   },
   {
    "duration": 18,
    "start_time": "2023-05-23T22:12:36.004Z"
   },
   {
    "duration": 13,
    "start_time": "2023-05-23T22:12:36.025Z"
   },
   {
    "duration": 14,
    "start_time": "2023-05-23T22:12:36.039Z"
   },
   {
    "duration": 8,
    "start_time": "2023-05-23T22:12:36.055Z"
   },
   {
    "duration": 9,
    "start_time": "2023-05-23T22:12:36.065Z"
   },
   {
    "duration": 17,
    "start_time": "2023-05-23T22:12:36.076Z"
   },
   {
    "duration": 8,
    "start_time": "2023-05-23T22:12:36.095Z"
   },
   {
    "duration": 27,
    "start_time": "2023-05-23T22:12:36.106Z"
   },
   {
    "duration": 28,
    "start_time": "2023-05-23T22:12:36.142Z"
   },
   {
    "duration": 13,
    "start_time": "2023-05-23T22:12:36.171Z"
   },
   {
    "duration": 3,
    "start_time": "2023-05-23T22:12:36.186Z"
   },
   {
    "duration": 21,
    "start_time": "2023-05-23T22:12:36.191Z"
   },
   {
    "duration": 29,
    "start_time": "2023-05-23T22:12:36.214Z"
   },
   {
    "duration": 18,
    "start_time": "2023-05-23T22:12:36.245Z"
   },
   {
    "duration": 24,
    "start_time": "2023-05-23T22:12:36.264Z"
   },
   {
    "duration": 17,
    "start_time": "2023-05-23T22:12:36.290Z"
   },
   {
    "duration": 6,
    "start_time": "2023-05-23T22:12:36.309Z"
   },
   {
    "duration": 16,
    "start_time": "2023-05-23T22:12:36.317Z"
   },
   {
    "duration": 10,
    "start_time": "2023-05-23T22:12:36.344Z"
   },
   {
    "duration": 8,
    "start_time": "2023-05-23T22:12:36.357Z"
   },
   {
    "duration": 5,
    "start_time": "2023-05-23T22:12:36.367Z"
   },
   {
    "duration": 5,
    "start_time": "2023-05-23T22:12:36.374Z"
   },
   {
    "duration": 356,
    "start_time": "2023-05-23T22:12:36.380Z"
   },
   {
    "duration": 5,
    "start_time": "2023-05-23T22:12:36.742Z"
   },
   {
    "duration": 10,
    "start_time": "2023-05-23T22:12:36.748Z"
   },
   {
    "duration": 20,
    "start_time": "2023-05-23T22:12:36.760Z"
   },
   {
    "duration": 4,
    "start_time": "2023-05-23T22:12:36.782Z"
   },
   {
    "duration": 5,
    "start_time": "2023-05-23T22:12:36.788Z"
   },
   {
    "duration": 34,
    "start_time": "2023-05-23T22:12:36.795Z"
   },
   {
    "duration": 1780,
    "start_time": "2023-05-23T22:12:36.830Z"
   },
   {
    "duration": 0,
    "start_time": "2023-05-23T22:12:38.612Z"
   },
   {
    "duration": 0,
    "start_time": "2023-05-23T22:12:38.614Z"
   },
   {
    "duration": 0,
    "start_time": "2023-05-23T22:12:38.615Z"
   },
   {
    "duration": 12,
    "start_time": "2023-05-23T22:13:31.971Z"
   },
   {
    "duration": 7,
    "start_time": "2023-05-23T22:13:39.052Z"
   },
   {
    "duration": 2436,
    "start_time": "2023-05-23T22:13:39.060Z"
   },
   {
    "duration": 2404,
    "start_time": "2023-05-23T22:13:41.499Z"
   },
   {
    "duration": 1357,
    "start_time": "2023-05-23T22:13:43.905Z"
   },
   {
    "duration": 117,
    "start_time": "2023-05-23T22:13:45.264Z"
   },
   {
    "duration": 18,
    "start_time": "2023-05-23T22:13:45.382Z"
   },
   {
    "duration": 9,
    "start_time": "2023-05-23T22:13:45.402Z"
   },
   {
    "duration": 10,
    "start_time": "2023-05-23T22:13:45.413Z"
   },
   {
    "duration": 15,
    "start_time": "2023-05-23T22:13:45.424Z"
   },
   {
    "duration": 7,
    "start_time": "2023-05-23T22:13:45.441Z"
   },
   {
    "duration": 15,
    "start_time": "2023-05-23T22:13:45.449Z"
   },
   {
    "duration": 8,
    "start_time": "2023-05-23T22:13:45.466Z"
   },
   {
    "duration": 6,
    "start_time": "2023-05-23T22:13:45.476Z"
   },
   {
    "duration": 25,
    "start_time": "2023-05-23T22:13:45.484Z"
   },
   {
    "duration": 40,
    "start_time": "2023-05-23T22:13:45.511Z"
   },
   {
    "duration": 6,
    "start_time": "2023-05-23T22:13:45.552Z"
   },
   {
    "duration": 29,
    "start_time": "2023-05-23T22:13:45.560Z"
   },
   {
    "duration": 9,
    "start_time": "2023-05-23T22:13:45.591Z"
   },
   {
    "duration": 41,
    "start_time": "2023-05-23T22:13:45.602Z"
   },
   {
    "duration": 15,
    "start_time": "2023-05-23T22:13:45.646Z"
   },
   {
    "duration": 14,
    "start_time": "2023-05-23T22:13:45.663Z"
   },
   {
    "duration": 5,
    "start_time": "2023-05-23T22:13:45.679Z"
   },
   {
    "duration": 6,
    "start_time": "2023-05-23T22:13:45.686Z"
   },
   {
    "duration": 15,
    "start_time": "2023-05-23T22:13:45.694Z"
   },
   {
    "duration": 28,
    "start_time": "2023-05-23T22:13:45.711Z"
   },
   {
    "duration": 11,
    "start_time": "2023-05-23T22:13:45.742Z"
   },
   {
    "duration": 16,
    "start_time": "2023-05-23T22:13:45.755Z"
   },
   {
    "duration": 345,
    "start_time": "2023-05-23T22:13:45.773Z"
   },
   {
    "duration": 10,
    "start_time": "2023-05-23T22:13:46.120Z"
   },
   {
    "duration": 27,
    "start_time": "2023-05-23T22:13:46.131Z"
   },
   {
    "duration": 27,
    "start_time": "2023-05-23T22:13:46.160Z"
   },
   {
    "duration": 12,
    "start_time": "2023-05-23T22:13:46.189Z"
   },
   {
    "duration": 13,
    "start_time": "2023-05-23T22:13:46.202Z"
   },
   {
    "duration": 27,
    "start_time": "2023-05-23T22:13:46.217Z"
   },
   {
    "duration": 1311,
    "start_time": "2023-05-23T22:13:46.246Z"
   },
   {
    "duration": 1103,
    "start_time": "2023-05-23T22:13:47.560Z"
   },
   {
    "duration": 2,
    "start_time": "2023-05-23T22:13:48.665Z"
   },
   {
    "duration": 4050,
    "start_time": "2023-05-23T22:13:48.669Z"
   },
   {
    "duration": 7,
    "start_time": "2023-05-23T22:24:26.148Z"
   },
   {
    "duration": 2426,
    "start_time": "2023-05-23T22:24:26.157Z"
   },
   {
    "duration": 2381,
    "start_time": "2023-05-23T22:24:28.585Z"
   },
   {
    "duration": 1342,
    "start_time": "2023-05-23T22:24:30.968Z"
   },
   {
    "duration": 125,
    "start_time": "2023-05-23T22:24:32.312Z"
   },
   {
    "duration": 18,
    "start_time": "2023-05-23T22:24:32.439Z"
   },
   {
    "duration": 15,
    "start_time": "2023-05-23T22:24:32.458Z"
   },
   {
    "duration": 21,
    "start_time": "2023-05-23T22:24:32.475Z"
   },
   {
    "duration": 19,
    "start_time": "2023-05-23T22:24:32.498Z"
   },
   {
    "duration": 9,
    "start_time": "2023-05-23T22:24:32.519Z"
   },
   {
    "duration": 8,
    "start_time": "2023-05-23T22:24:32.530Z"
   },
   {
    "duration": 5,
    "start_time": "2023-05-23T22:24:32.540Z"
   },
   {
    "duration": 14,
    "start_time": "2023-05-23T22:24:32.547Z"
   },
   {
    "duration": 23,
    "start_time": "2023-05-23T22:24:32.564Z"
   },
   {
    "duration": 13,
    "start_time": "2023-05-23T22:24:32.588Z"
   },
   {
    "duration": 24,
    "start_time": "2023-05-23T22:24:32.602Z"
   },
   {
    "duration": 25,
    "start_time": "2023-05-23T22:24:32.628Z"
   },
   {
    "duration": 7,
    "start_time": "2023-05-23T22:24:32.655Z"
   },
   {
    "duration": 25,
    "start_time": "2023-05-23T22:24:32.664Z"
   },
   {
    "duration": 11,
    "start_time": "2023-05-23T22:24:32.691Z"
   },
   {
    "duration": 43,
    "start_time": "2023-05-23T22:24:32.703Z"
   },
   {
    "duration": 6,
    "start_time": "2023-05-23T22:24:32.748Z"
   },
   {
    "duration": 6,
    "start_time": "2023-05-23T22:24:32.755Z"
   },
   {
    "duration": 25,
    "start_time": "2023-05-23T22:24:32.762Z"
   },
   {
    "duration": 9,
    "start_time": "2023-05-23T22:24:32.789Z"
   },
   {
    "duration": 10,
    "start_time": "2023-05-23T22:24:32.800Z"
   },
   {
    "duration": 4,
    "start_time": "2023-05-23T22:24:32.811Z"
   },
   {
    "duration": 309,
    "start_time": "2023-05-23T22:24:32.817Z"
   },
   {
    "duration": 5,
    "start_time": "2023-05-23T22:24:33.128Z"
   },
   {
    "duration": 9,
    "start_time": "2023-05-23T22:24:33.135Z"
   },
   {
    "duration": 18,
    "start_time": "2023-05-23T22:24:33.147Z"
   },
   {
    "duration": 5,
    "start_time": "2023-05-23T22:24:33.166Z"
   },
   {
    "duration": 6,
    "start_time": "2023-05-23T22:24:33.173Z"
   },
   {
    "duration": 4,
    "start_time": "2023-05-23T22:24:33.181Z"
   },
   {
    "duration": 1420,
    "start_time": "2023-05-23T22:24:33.187Z"
   },
   {
    "duration": 1157,
    "start_time": "2023-05-23T22:24:34.609Z"
   },
   {
    "duration": 3,
    "start_time": "2023-05-23T22:24:35.768Z"
   },
   {
    "duration": 3975,
    "start_time": "2023-05-23T22:24:35.772Z"
   },
   {
    "duration": 118,
    "start_time": "2023-05-24T07:53:10.111Z"
   },
   {
    "duration": 8,
    "start_time": "2023-05-25T11:07:00.600Z"
   },
   {
    "duration": 38,
    "start_time": "2023-05-25T11:07:00.611Z"
   },
   {
    "duration": 3883,
    "start_time": "2023-05-25T11:07:00.651Z"
   },
   {
    "duration": 3035,
    "start_time": "2023-05-25T11:07:04.537Z"
   },
   {
    "duration": 1875,
    "start_time": "2023-05-25T11:07:07.575Z"
   },
   {
    "duration": 385,
    "start_time": "2023-05-25T11:07:09.452Z"
   },
   {
    "duration": 17,
    "start_time": "2023-05-25T11:07:09.839Z"
   },
   {
    "duration": 11,
    "start_time": "2023-05-25T11:07:09.858Z"
   },
   {
    "duration": 15,
    "start_time": "2023-05-25T11:07:09.871Z"
   },
   {
    "duration": 28,
    "start_time": "2023-05-25T11:07:09.889Z"
   },
   {
    "duration": 14,
    "start_time": "2023-05-25T11:07:09.919Z"
   },
   {
    "duration": 11,
    "start_time": "2023-05-25T11:07:09.935Z"
   },
   {
    "duration": 11,
    "start_time": "2023-05-25T11:07:09.947Z"
   },
   {
    "duration": 16,
    "start_time": "2023-05-25T11:07:09.960Z"
   },
   {
    "duration": 33,
    "start_time": "2023-05-25T11:07:09.978Z"
   },
   {
    "duration": 14,
    "start_time": "2023-05-25T11:07:10.013Z"
   },
   {
    "duration": 8,
    "start_time": "2023-05-25T11:07:10.029Z"
   },
   {
    "duration": 40,
    "start_time": "2023-05-25T11:07:10.038Z"
   },
   {
    "duration": 10,
    "start_time": "2023-05-25T11:07:10.081Z"
   },
   {
    "duration": 23,
    "start_time": "2023-05-25T11:07:10.093Z"
   },
   {
    "duration": 17,
    "start_time": "2023-05-25T11:07:10.118Z"
   },
   {
    "duration": 13,
    "start_time": "2023-05-25T11:07:10.137Z"
   },
   {
    "duration": 6,
    "start_time": "2023-05-25T11:07:10.172Z"
   },
   {
    "duration": 8,
    "start_time": "2023-05-25T11:07:10.180Z"
   },
   {
    "duration": 9,
    "start_time": "2023-05-25T11:07:10.190Z"
   },
   {
    "duration": 11,
    "start_time": "2023-05-25T11:07:10.201Z"
   },
   {
    "duration": 7,
    "start_time": "2023-05-25T11:07:10.215Z"
   },
   {
    "duration": 34,
    "start_time": "2023-05-25T11:07:10.228Z"
   },
   {
    "duration": 320,
    "start_time": "2023-05-25T11:07:10.270Z"
   },
   {
    "duration": 0,
    "start_time": "2023-05-25T11:07:10.593Z"
   },
   {
    "duration": 0,
    "start_time": "2023-05-25T11:07:10.594Z"
   },
   {
    "duration": 0,
    "start_time": "2023-05-25T11:07:10.596Z"
   },
   {
    "duration": 0,
    "start_time": "2023-05-25T11:07:10.597Z"
   },
   {
    "duration": 0,
    "start_time": "2023-05-25T11:07:10.599Z"
   },
   {
    "duration": 0,
    "start_time": "2023-05-25T11:07:10.600Z"
   },
   {
    "duration": 0,
    "start_time": "2023-05-25T11:07:10.602Z"
   },
   {
    "duration": 0,
    "start_time": "2023-05-25T11:07:10.603Z"
   },
   {
    "duration": 0,
    "start_time": "2023-05-25T11:07:10.604Z"
   },
   {
    "duration": 0,
    "start_time": "2023-05-25T11:07:10.605Z"
   },
   {
    "duration": 0,
    "start_time": "2023-05-25T11:07:10.606Z"
   },
   {
    "duration": 0,
    "start_time": "2023-05-25T11:07:10.607Z"
   },
   {
    "duration": 0,
    "start_time": "2023-05-25T11:07:10.608Z"
   },
   {
    "duration": 0,
    "start_time": "2023-05-25T11:07:10.609Z"
   },
   {
    "duration": 0,
    "start_time": "2023-05-25T11:07:10.610Z"
   },
   {
    "duration": 0,
    "start_time": "2023-05-25T11:07:10.611Z"
   },
   {
    "duration": 0,
    "start_time": "2023-05-25T11:07:10.612Z"
   },
   {
    "duration": 0,
    "start_time": "2023-05-25T11:07:10.613Z"
   },
   {
    "duration": 0,
    "start_time": "2023-05-25T11:07:10.614Z"
   },
   {
    "duration": 0,
    "start_time": "2023-05-25T11:07:10.615Z"
   },
   {
    "duration": 0,
    "start_time": "2023-05-25T11:07:10.616Z"
   },
   {
    "duration": 0,
    "start_time": "2023-05-25T11:07:10.618Z"
   },
   {
    "duration": 1,
    "start_time": "2023-05-25T11:07:10.618Z"
   },
   {
    "duration": 0,
    "start_time": "2023-05-25T11:07:10.620Z"
   },
   {
    "duration": 0,
    "start_time": "2023-05-25T11:07:10.672Z"
   },
   {
    "duration": 0,
    "start_time": "2023-05-25T11:07:10.673Z"
   },
   {
    "duration": 0,
    "start_time": "2023-05-25T11:07:10.674Z"
   },
   {
    "duration": 0,
    "start_time": "2023-05-25T11:07:10.675Z"
   },
   {
    "duration": 0,
    "start_time": "2023-05-25T11:07:10.676Z"
   },
   {
    "duration": 0,
    "start_time": "2023-05-25T11:07:10.677Z"
   },
   {
    "duration": 0,
    "start_time": "2023-05-25T11:07:10.679Z"
   },
   {
    "duration": 0,
    "start_time": "2023-05-25T11:07:10.680Z"
   },
   {
    "duration": 0,
    "start_time": "2023-05-25T11:07:10.681Z"
   },
   {
    "duration": 0,
    "start_time": "2023-05-25T11:07:10.682Z"
   },
   {
    "duration": 0,
    "start_time": "2023-05-25T11:07:10.683Z"
   },
   {
    "duration": 0,
    "start_time": "2023-05-25T11:07:10.684Z"
   },
   {
    "duration": 0,
    "start_time": "2023-05-25T11:07:10.685Z"
   },
   {
    "duration": 0,
    "start_time": "2023-05-25T11:07:10.686Z"
   },
   {
    "duration": 0,
    "start_time": "2023-05-25T11:07:10.688Z"
   },
   {
    "duration": 0,
    "start_time": "2023-05-25T11:07:10.689Z"
   },
   {
    "duration": 0,
    "start_time": "2023-05-25T11:07:10.690Z"
   },
   {
    "duration": 0,
    "start_time": "2023-05-25T11:07:10.691Z"
   },
   {
    "duration": 0,
    "start_time": "2023-05-25T11:07:10.693Z"
   },
   {
    "duration": 0,
    "start_time": "2023-05-25T11:07:10.694Z"
   },
   {
    "duration": 8,
    "start_time": "2023-05-25T11:07:40.669Z"
   },
   {
    "duration": 12559,
    "start_time": "2023-05-25T11:07:40.679Z"
   },
   {
    "duration": 2332,
    "start_time": "2023-05-25T11:07:53.241Z"
   },
   {
    "duration": 2470,
    "start_time": "2023-05-25T11:07:55.576Z"
   },
   {
    "duration": 1919,
    "start_time": "2023-05-25T11:07:58.049Z"
   },
   {
    "duration": 107,
    "start_time": "2023-05-25T11:07:59.971Z"
   },
   {
    "duration": 24,
    "start_time": "2023-05-25T11:08:00.080Z"
   },
   {
    "duration": 44,
    "start_time": "2023-05-25T11:08:00.106Z"
   },
   {
    "duration": 36,
    "start_time": "2023-05-25T11:08:00.152Z"
   },
   {
    "duration": 28,
    "start_time": "2023-05-25T11:08:00.193Z"
   },
   {
    "duration": 40,
    "start_time": "2023-05-25T11:08:00.223Z"
   },
   {
    "duration": 60,
    "start_time": "2023-05-25T11:08:00.265Z"
   },
   {
    "duration": 25,
    "start_time": "2023-05-25T11:08:00.327Z"
   },
   {
    "duration": 33,
    "start_time": "2023-05-25T11:08:00.354Z"
   },
   {
    "duration": 69,
    "start_time": "2023-05-25T11:08:00.389Z"
   },
   {
    "duration": 31,
    "start_time": "2023-05-25T11:08:00.460Z"
   },
   {
    "duration": 49,
    "start_time": "2023-05-25T11:08:00.493Z"
   },
   {
    "duration": 65,
    "start_time": "2023-05-25T11:08:00.544Z"
   },
   {
    "duration": 71,
    "start_time": "2023-05-25T11:08:00.611Z"
   },
   {
    "duration": 54,
    "start_time": "2023-05-25T11:08:00.684Z"
   },
   {
    "duration": 496,
    "start_time": "2023-05-25T11:08:00.740Z"
   },
   {
    "duration": 175,
    "start_time": "2023-05-25T11:08:01.238Z"
   },
   {
    "duration": 109,
    "start_time": "2023-05-25T11:08:01.414Z"
   },
   {
    "duration": 130,
    "start_time": "2023-05-25T11:08:01.525Z"
   },
   {
    "duration": 193,
    "start_time": "2023-05-25T11:08:01.658Z"
   },
   {
    "duration": 167,
    "start_time": "2023-05-25T11:08:01.854Z"
   },
   {
    "duration": 51,
    "start_time": "2023-05-25T11:08:02.024Z"
   },
   {
    "duration": 98,
    "start_time": "2023-05-25T11:08:02.081Z"
   },
   {
    "duration": 374,
    "start_time": "2023-05-25T11:08:02.181Z"
   },
   {
    "duration": 14,
    "start_time": "2023-05-25T11:08:02.557Z"
   },
   {
    "duration": 7,
    "start_time": "2023-05-25T11:08:02.573Z"
   },
   {
    "duration": 29,
    "start_time": "2023-05-25T11:08:02.582Z"
   },
   {
    "duration": 6,
    "start_time": "2023-05-25T11:08:02.613Z"
   },
   {
    "duration": 25,
    "start_time": "2023-05-25T11:08:02.621Z"
   },
   {
    "duration": 25,
    "start_time": "2023-05-25T11:08:02.648Z"
   },
   {
    "duration": 1606,
    "start_time": "2023-05-25T11:08:02.676Z"
   },
   {
    "duration": 1215,
    "start_time": "2023-05-25T11:08:04.284Z"
   },
   {
    "duration": 3,
    "start_time": "2023-05-25T11:08:05.501Z"
   },
   {
    "duration": 4411,
    "start_time": "2023-05-25T11:08:05.506Z"
   },
   {
    "duration": 5,
    "start_time": "2023-05-25T11:08:09.919Z"
   },
   {
    "duration": 17,
    "start_time": "2023-05-25T11:08:09.926Z"
   },
   {
    "duration": 11,
    "start_time": "2023-05-25T11:08:09.945Z"
   },
   {
    "duration": 14,
    "start_time": "2023-05-25T11:08:09.958Z"
   },
   {
    "duration": 39,
    "start_time": "2023-05-25T11:08:09.974Z"
   },
   {
    "duration": 1767,
    "start_time": "2023-05-25T11:08:10.015Z"
   },
   {
    "duration": 1940,
    "start_time": "2023-05-25T11:08:11.785Z"
   },
   {
    "duration": 5,
    "start_time": "2023-05-25T11:08:13.727Z"
   },
   {
    "duration": 34,
    "start_time": "2023-05-25T11:08:13.734Z"
   },
   {
    "duration": 23,
    "start_time": "2023-05-25T11:08:13.770Z"
   },
   {
    "duration": 127,
    "start_time": "2023-05-25T11:08:13.795Z"
   },
   {
    "duration": 139,
    "start_time": "2023-05-25T11:08:13.924Z"
   },
   {
    "duration": 44,
    "start_time": "2023-05-25T11:08:14.065Z"
   },
   {
    "duration": 55691,
    "start_time": "2023-05-25T11:08:14.111Z"
   },
   {
    "duration": 4,
    "start_time": "2023-05-25T11:09:09.804Z"
   },
   {
    "duration": 16,
    "start_time": "2023-05-25T11:09:09.810Z"
   },
   {
    "duration": 14,
    "start_time": "2023-05-25T11:09:09.828Z"
   },
   {
    "duration": 18181,
    "start_time": "2023-05-25T11:09:09.844Z"
   },
   {
    "duration": 0,
    "start_time": "2023-05-25T11:09:28.028Z"
   },
   {
    "duration": 0,
    "start_time": "2023-05-25T11:09:28.030Z"
   },
   {
    "duration": 0,
    "start_time": "2023-05-25T11:09:28.031Z"
   },
   {
    "duration": 0,
    "start_time": "2023-05-25T11:09:28.033Z"
   },
   {
    "duration": 0,
    "start_time": "2023-05-25T11:09:28.035Z"
   },
   {
    "duration": 0,
    "start_time": "2023-05-25T11:09:28.036Z"
   },
   {
    "duration": 0,
    "start_time": "2023-05-25T11:09:28.037Z"
   },
   {
    "duration": 0,
    "start_time": "2023-05-25T11:09:28.038Z"
   },
   {
    "duration": 0,
    "start_time": "2023-05-25T11:09:28.039Z"
   },
   {
    "duration": 0,
    "start_time": "2023-05-25T11:09:28.041Z"
   },
   {
    "duration": 0,
    "start_time": "2023-05-25T11:09:28.042Z"
   },
   {
    "duration": 0,
    "start_time": "2023-05-25T11:09:28.072Z"
   },
   {
    "duration": 0,
    "start_time": "2023-05-25T11:09:28.073Z"
   },
   {
    "duration": 0,
    "start_time": "2023-05-25T11:09:28.075Z"
   },
   {
    "duration": 0,
    "start_time": "2023-05-25T11:09:28.076Z"
   },
   {
    "duration": 0,
    "start_time": "2023-05-25T11:09:28.078Z"
   },
   {
    "duration": 0,
    "start_time": "2023-05-25T11:09:28.079Z"
   },
   {
    "duration": 4,
    "start_time": "2023-05-25T11:09:32.404Z"
   },
   {
    "duration": 25946,
    "start_time": "2023-05-25T11:09:33.343Z"
   },
   {
    "duration": 4,
    "start_time": "2023-05-25T11:09:59.291Z"
   },
   {
    "duration": 9,
    "start_time": "2023-05-25T11:09:59.296Z"
   },
   {
    "duration": 4,
    "start_time": "2023-05-25T11:10:36.892Z"
   },
   {
    "duration": 49909,
    "start_time": "2023-05-25T11:10:37.414Z"
   },
   {
    "duration": 4,
    "start_time": "2023-05-25T11:11:27.326Z"
   },
   {
    "duration": 17,
    "start_time": "2023-05-25T11:11:27.332Z"
   },
   {
    "duration": 4,
    "start_time": "2023-05-25T11:11:52.001Z"
   },
   {
    "duration": 51168,
    "start_time": "2023-05-25T11:11:52.756Z"
   },
   {
    "duration": 4,
    "start_time": "2023-05-25T11:12:43.927Z"
   },
   {
    "duration": 12,
    "start_time": "2023-05-25T11:12:43.933Z"
   },
   {
    "duration": 3,
    "start_time": "2023-05-25T11:12:51.316Z"
   },
   {
    "duration": 52914,
    "start_time": "2023-05-25T11:12:51.772Z"
   },
   {
    "duration": 5,
    "start_time": "2023-05-25T11:13:44.689Z"
   },
   {
    "duration": 15,
    "start_time": "2023-05-25T11:13:44.696Z"
   },
   {
    "duration": 26,
    "start_time": "2023-05-25T11:15:18.267Z"
   },
   {
    "duration": 126037,
    "start_time": "2023-05-25T11:15:19.061Z"
   },
   {
    "duration": 4,
    "start_time": "2023-05-25T11:17:25.100Z"
   },
   {
    "duration": 4,
    "start_time": "2023-05-25T11:19:08.844Z"
   },
   {
    "duration": 28,
    "start_time": "2023-05-25T11:19:11.640Z"
   },
   {
    "duration": 16,
    "start_time": "2023-05-25T11:19:15.967Z"
   },
   {
    "duration": 3,
    "start_time": "2023-05-25T11:19:16.409Z"
   },
   {
    "duration": 453,
    "start_time": "2023-05-25T11:19:17.022Z"
   },
   {
    "duration": 5,
    "start_time": "2023-05-25T11:19:21.029Z"
   },
   {
    "duration": 426,
    "start_time": "2023-05-25T11:19:21.443Z"
   },
   {
    "duration": 16,
    "start_time": "2023-05-25T11:19:28.834Z"
   },
   {
    "duration": 301,
    "start_time": "2023-05-25T11:19:29.182Z"
   },
   {
    "duration": 17,
    "start_time": "2023-05-25T11:19:53.734Z"
   },
   {
    "duration": 471,
    "start_time": "2023-05-25T11:19:56.935Z"
   },
   {
    "duration": 410,
    "start_time": "2023-05-25T11:23:20.230Z"
   },
   {
    "duration": 8,
    "start_time": "2023-05-25T17:01:57.183Z"
   },
   {
    "duration": 8933,
    "start_time": "2023-05-25T17:01:57.192Z"
   },
   {
    "duration": 3057,
    "start_time": "2023-05-25T17:02:06.127Z"
   },
   {
    "duration": 2961,
    "start_time": "2023-05-25T17:02:09.186Z"
   },
   {
    "duration": 1985,
    "start_time": "2023-05-25T17:02:12.149Z"
   },
   {
    "duration": 347,
    "start_time": "2023-05-25T17:02:14.136Z"
   },
   {
    "duration": 18,
    "start_time": "2023-05-25T17:02:14.485Z"
   },
   {
    "duration": 12,
    "start_time": "2023-05-25T17:02:14.505Z"
   },
   {
    "duration": 9,
    "start_time": "2023-05-25T17:02:14.519Z"
   },
   {
    "duration": 12,
    "start_time": "2023-05-25T17:02:14.530Z"
   },
   {
    "duration": 9,
    "start_time": "2023-05-25T17:02:14.544Z"
   },
   {
    "duration": 8,
    "start_time": "2023-05-25T17:02:14.554Z"
   },
   {
    "duration": 5,
    "start_time": "2023-05-25T17:02:14.578Z"
   },
   {
    "duration": 5,
    "start_time": "2023-05-25T17:02:14.585Z"
   },
   {
    "duration": 24,
    "start_time": "2023-05-25T17:02:14.592Z"
   },
   {
    "duration": 13,
    "start_time": "2023-05-25T17:02:14.618Z"
   },
   {
    "duration": 5,
    "start_time": "2023-05-25T17:02:14.633Z"
   },
   {
    "duration": 46,
    "start_time": "2023-05-25T17:02:14.639Z"
   },
   {
    "duration": 9,
    "start_time": "2023-05-25T17:02:14.686Z"
   },
   {
    "duration": 26,
    "start_time": "2023-05-25T17:02:14.696Z"
   },
   {
    "duration": 15,
    "start_time": "2023-05-25T17:02:14.724Z"
   },
   {
    "duration": 14,
    "start_time": "2023-05-25T17:02:14.741Z"
   },
   {
    "duration": 23,
    "start_time": "2023-05-25T17:02:14.757Z"
   },
   {
    "duration": 5,
    "start_time": "2023-05-25T17:02:14.782Z"
   },
   {
    "duration": 6,
    "start_time": "2023-05-25T17:02:14.788Z"
   },
   {
    "duration": 8,
    "start_time": "2023-05-25T17:02:14.796Z"
   },
   {
    "duration": 6,
    "start_time": "2023-05-25T17:02:14.805Z"
   },
   {
    "duration": 7,
    "start_time": "2023-05-25T17:02:14.814Z"
   },
   {
    "duration": 378,
    "start_time": "2023-05-25T17:02:14.822Z"
   },
   {
    "duration": 5,
    "start_time": "2023-05-25T17:02:15.201Z"
   },
   {
    "duration": 12,
    "start_time": "2023-05-25T17:02:15.207Z"
   },
   {
    "duration": 16,
    "start_time": "2023-05-25T17:02:15.221Z"
   },
   {
    "duration": 4,
    "start_time": "2023-05-25T17:02:15.239Z"
   },
   {
    "duration": 4,
    "start_time": "2023-05-25T17:02:15.245Z"
   },
   {
    "duration": 4,
    "start_time": "2023-05-25T17:02:15.251Z"
   },
   {
    "duration": 1314,
    "start_time": "2023-05-25T17:02:15.278Z"
   },
   {
    "duration": 1073,
    "start_time": "2023-05-25T17:02:16.594Z"
   },
   {
    "duration": 9,
    "start_time": "2023-05-25T17:02:17.669Z"
   },
   {
    "duration": 3547,
    "start_time": "2023-05-25T17:02:17.680Z"
   },
   {
    "duration": 4,
    "start_time": "2023-05-25T17:02:21.228Z"
   },
   {
    "duration": 18,
    "start_time": "2023-05-25T17:02:21.234Z"
   },
   {
    "duration": 17,
    "start_time": "2023-05-25T17:02:21.253Z"
   },
   {
    "duration": 4,
    "start_time": "2023-05-25T17:02:21.272Z"
   },
   {
    "duration": 23,
    "start_time": "2023-05-25T17:02:21.277Z"
   },
   {
    "duration": 1389,
    "start_time": "2023-05-25T17:02:21.301Z"
   },
   {
    "duration": 1733,
    "start_time": "2023-05-25T17:02:22.692Z"
   },
   {
    "duration": 4,
    "start_time": "2023-05-25T17:02:24.427Z"
   },
   {
    "duration": 5,
    "start_time": "2023-05-25T17:02:24.432Z"
   },
   {
    "duration": 4,
    "start_time": "2023-05-25T17:02:24.438Z"
   },
   {
    "duration": 35,
    "start_time": "2023-05-25T17:02:24.443Z"
   },
   {
    "duration": 4,
    "start_time": "2023-05-25T17:02:24.480Z"
   },
   {
    "duration": 18,
    "start_time": "2023-05-25T17:02:24.485Z"
   },
   {
    "duration": 41826,
    "start_time": "2023-05-25T17:02:24.505Z"
   },
   {
    "duration": 4,
    "start_time": "2023-05-25T17:03:06.332Z"
   },
   {
    "duration": 12,
    "start_time": "2023-05-25T17:03:06.337Z"
   },
   {
    "duration": 7,
    "start_time": "2023-05-25T17:03:06.351Z"
   },
   {
    "duration": 46113,
    "start_time": "2023-05-25T17:03:06.360Z"
   },
   {
    "duration": 4,
    "start_time": "2023-05-25T17:03:52.478Z"
   },
   {
    "duration": 5,
    "start_time": "2023-05-25T17:03:52.483Z"
   },
   {
    "duration": 25,
    "start_time": "2023-05-25T17:03:52.490Z"
   },
   {
    "duration": 108816,
    "start_time": "2023-05-25T17:03:52.516Z"
   },
   {
    "duration": 4,
    "start_time": "2023-05-25T17:05:41.334Z"
   },
   {
    "duration": 6,
    "start_time": "2023-05-25T17:05:41.340Z"
   },
   {
    "duration": 7,
    "start_time": "2023-05-25T17:05:41.347Z"
   },
   {
    "duration": 23,
    "start_time": "2023-05-25T17:05:41.355Z"
   },
   {
    "duration": 8,
    "start_time": "2023-05-25T17:05:41.380Z"
   },
   {
    "duration": 5,
    "start_time": "2023-05-25T17:05:41.390Z"
   },
   {
    "duration": 372,
    "start_time": "2023-05-25T17:05:41.397Z"
   },
   {
    "duration": 8,
    "start_time": "2023-05-25T17:05:41.770Z"
   },
   {
    "duration": 399,
    "start_time": "2023-05-25T17:05:41.780Z"
   },
   {
    "duration": 14,
    "start_time": "2023-05-25T17:05:42.181Z"
   },
   {
    "duration": 425,
    "start_time": "2023-05-25T17:05:42.197Z"
   },
   {
    "duration": 15,
    "start_time": "2023-05-25T17:05:42.624Z"
   },
   {
    "duration": 442,
    "start_time": "2023-05-25T17:05:42.641Z"
   },
   {
    "duration": 100708,
    "start_time": "2023-05-25T17:08:28.495Z"
   },
   {
    "duration": 4,
    "start_time": "2023-05-25T17:10:09.205Z"
   },
   {
    "duration": 5,
    "start_time": "2023-05-25T17:11:17.166Z"
   },
   {
    "duration": 4,
    "start_time": "2023-05-25T17:13:04.044Z"
   },
   {
    "duration": 104,
    "start_time": "2023-05-25T17:18:35.637Z"
   },
   {
    "duration": 134,
    "start_time": "2023-05-25T17:19:12.566Z"
   },
   {
    "duration": 101,
    "start_time": "2023-05-25T17:19:35.402Z"
   },
   {
    "duration": 9,
    "start_time": "2023-05-25T17:19:49.820Z"
   },
   {
    "duration": 16,
    "start_time": "2023-05-25T17:20:29.455Z"
   },
   {
    "duration": 31136,
    "start_time": "2023-05-25T17:26:25.436Z"
   },
   {
    "duration": 13,
    "start_time": "2023-05-25T17:39:44.424Z"
   },
   {
    "duration": 5,
    "start_time": "2023-05-25T17:40:53.542Z"
   },
   {
    "duration": 5,
    "start_time": "2023-05-25T17:40:59.762Z"
   },
   {
    "duration": 4,
    "start_time": "2023-05-25T17:41:51.392Z"
   },
   {
    "duration": 5,
    "start_time": "2023-05-25T17:42:20.136Z"
   },
   {
    "duration": 4,
    "start_time": "2023-05-25T17:42:50.906Z"
   },
   {
    "duration": 5,
    "start_time": "2023-05-25T17:43:18.755Z"
   },
   {
    "duration": 4,
    "start_time": "2023-05-25T17:43:31.237Z"
   },
   {
    "duration": 15,
    "start_time": "2023-05-25T17:43:57.386Z"
   },
   {
    "duration": 31311,
    "start_time": "2023-05-25T17:44:32.330Z"
   },
   {
    "duration": 106982,
    "start_time": "2023-05-25T17:46:34.002Z"
   },
   {
    "duration": 4,
    "start_time": "2023-05-25T17:48:20.986Z"
   },
   {
    "duration": 4,
    "start_time": "2023-05-25T17:55:30.721Z"
   },
   {
    "duration": 16,
    "start_time": "2023-05-25T17:55:35.114Z"
   },
   {
    "duration": 8,
    "start_time": "2023-05-25T17:55:36.560Z"
   },
   {
    "duration": 2,
    "start_time": "2023-05-25T17:55:37.744Z"
   },
   {
    "duration": 341,
    "start_time": "2023-05-25T17:55:40.729Z"
   },
   {
    "duration": 4,
    "start_time": "2023-05-25T17:55:43.991Z"
   },
   {
    "duration": 337,
    "start_time": "2023-05-25T17:55:45.114Z"
   },
   {
    "duration": 14,
    "start_time": "2023-05-25T17:55:47.236Z"
   },
   {
    "duration": 310,
    "start_time": "2023-05-25T17:55:48.123Z"
   },
   {
    "duration": 14,
    "start_time": "2023-05-25T17:55:50.600Z"
   },
   {
    "duration": 396,
    "start_time": "2023-05-25T17:55:53.495Z"
   },
   {
    "duration": 9,
    "start_time": "2023-05-25T17:58:27.800Z"
   },
   {
    "duration": 2052,
    "start_time": "2023-05-25T17:58:27.812Z"
   },
   {
    "duration": 2052,
    "start_time": "2023-05-25T17:58:29.866Z"
   },
   {
    "duration": 2069,
    "start_time": "2023-05-25T17:58:31.921Z"
   },
   {
    "duration": 1869,
    "start_time": "2023-05-25T17:58:33.992Z"
   },
   {
    "duration": 109,
    "start_time": "2023-05-25T17:58:35.863Z"
   },
   {
    "duration": 32,
    "start_time": "2023-05-25T17:58:35.973Z"
   },
   {
    "duration": 9,
    "start_time": "2023-05-25T17:58:36.006Z"
   },
   {
    "duration": 10,
    "start_time": "2023-05-25T17:58:36.016Z"
   },
   {
    "duration": 7,
    "start_time": "2023-05-25T17:58:36.028Z"
   },
   {
    "duration": 12,
    "start_time": "2023-05-25T17:58:36.036Z"
   },
   {
    "duration": 7,
    "start_time": "2023-05-25T17:58:36.049Z"
   },
   {
    "duration": 5,
    "start_time": "2023-05-25T17:58:36.057Z"
   },
   {
    "duration": 18,
    "start_time": "2023-05-25T17:58:36.064Z"
   },
   {
    "duration": 22,
    "start_time": "2023-05-25T17:58:36.090Z"
   },
   {
    "duration": 13,
    "start_time": "2023-05-25T17:58:36.114Z"
   },
   {
    "duration": 5,
    "start_time": "2023-05-25T17:58:36.128Z"
   },
   {
    "duration": 15,
    "start_time": "2023-05-25T17:58:36.134Z"
   },
   {
    "duration": 7,
    "start_time": "2023-05-25T17:58:36.151Z"
   },
   {
    "duration": 24,
    "start_time": "2023-05-25T17:58:36.178Z"
   },
   {
    "duration": 9,
    "start_time": "2023-05-25T17:58:36.204Z"
   },
   {
    "duration": 12,
    "start_time": "2023-05-25T17:58:36.215Z"
   },
   {
    "duration": 12,
    "start_time": "2023-05-25T17:58:36.229Z"
   },
   {
    "duration": 5,
    "start_time": "2023-05-25T17:58:36.242Z"
   },
   {
    "duration": 32,
    "start_time": "2023-05-25T17:58:36.249Z"
   },
   {
    "duration": 4,
    "start_time": "2023-05-25T17:58:36.286Z"
   },
   {
    "duration": 6,
    "start_time": "2023-05-25T17:58:36.293Z"
   },
   {
    "duration": 4,
    "start_time": "2023-05-25T17:58:36.305Z"
   },
   {
    "duration": 297,
    "start_time": "2023-05-25T17:58:36.311Z"
   },
   {
    "duration": 4,
    "start_time": "2023-05-25T17:58:36.610Z"
   },
   {
    "duration": 8,
    "start_time": "2023-05-25T17:58:36.616Z"
   },
   {
    "duration": 19,
    "start_time": "2023-05-25T17:58:36.626Z"
   },
   {
    "duration": 5,
    "start_time": "2023-05-25T17:58:36.647Z"
   },
   {
    "duration": 28,
    "start_time": "2023-05-25T17:58:36.653Z"
   },
   {
    "duration": 6,
    "start_time": "2023-05-25T17:58:36.683Z"
   },
   {
    "duration": 1249,
    "start_time": "2023-05-25T17:58:36.691Z"
   },
   {
    "duration": 923,
    "start_time": "2023-05-25T17:58:37.942Z"
   },
   {
    "duration": 2,
    "start_time": "2023-05-25T17:58:38.867Z"
   },
   {
    "duration": 3551,
    "start_time": "2023-05-25T17:58:38.870Z"
   },
   {
    "duration": 5,
    "start_time": "2023-05-25T17:58:42.423Z"
   },
   {
    "duration": 28,
    "start_time": "2023-05-25T17:58:42.429Z"
   },
   {
    "duration": 14,
    "start_time": "2023-05-25T17:58:42.459Z"
   },
   {
    "duration": 17,
    "start_time": "2023-05-25T17:58:42.475Z"
   },
   {
    "duration": 21,
    "start_time": "2023-05-25T17:58:42.495Z"
   },
   {
    "duration": 1338,
    "start_time": "2023-05-25T17:58:42.517Z"
   },
   {
    "duration": 1662,
    "start_time": "2023-05-25T17:58:43.857Z"
   },
   {
    "duration": 5,
    "start_time": "2023-05-25T17:58:45.521Z"
   },
   {
    "duration": 7,
    "start_time": "2023-05-25T17:58:45.527Z"
   },
   {
    "duration": 12,
    "start_time": "2023-05-25T17:58:45.535Z"
   },
   {
    "duration": 12,
    "start_time": "2023-05-25T17:58:45.549Z"
   },
   {
    "duration": 27,
    "start_time": "2023-05-25T17:58:45.563Z"
   },
   {
    "duration": 4,
    "start_time": "2023-05-25T17:58:45.592Z"
   },
   {
    "duration": 44921,
    "start_time": "2023-05-25T17:58:45.597Z"
   },
   {
    "duration": 4,
    "start_time": "2023-05-25T17:59:30.520Z"
   },
   {
    "duration": 64,
    "start_time": "2023-05-25T17:59:30.526Z"
   },
   {
    "duration": 12,
    "start_time": "2023-05-25T17:59:30.594Z"
   },
   {
    "duration": 44831,
    "start_time": "2023-05-25T17:59:30.608Z"
   },
   {
    "duration": 3,
    "start_time": "2023-05-25T18:00:15.441Z"
   },
   {
    "duration": 14,
    "start_time": "2023-05-25T18:00:15.445Z"
   },
   {
    "duration": 35,
    "start_time": "2023-05-25T18:00:15.461Z"
   },
   {
    "duration": 107387,
    "start_time": "2023-05-25T18:00:15.498Z"
   },
   {
    "duration": 4,
    "start_time": "2023-05-25T18:02:02.887Z"
   },
   {
    "duration": 23,
    "start_time": "2023-05-25T18:02:02.892Z"
   },
   {
    "duration": 32469,
    "start_time": "2023-05-25T18:02:02.916Z"
   },
   {
    "duration": 17,
    "start_time": "2023-05-25T18:02:35.387Z"
   },
   {
    "duration": 9,
    "start_time": "2023-05-25T18:02:35.405Z"
   },
   {
    "duration": 5,
    "start_time": "2023-05-25T18:02:35.415Z"
   },
   {
    "duration": 392,
    "start_time": "2023-05-25T18:02:35.421Z"
   },
   {
    "duration": 4,
    "start_time": "2023-05-25T18:02:35.815Z"
   },
   {
    "duration": 351,
    "start_time": "2023-05-25T18:02:35.821Z"
   },
   {
    "duration": 19,
    "start_time": "2023-05-25T18:02:36.174Z"
   },
   {
    "duration": 277,
    "start_time": "2023-05-25T18:02:36.195Z"
   },
   {
    "duration": 17,
    "start_time": "2023-05-25T18:02:36.482Z"
   },
   {
    "duration": 380,
    "start_time": "2023-05-25T18:02:36.501Z"
   },
   {
    "duration": 33511,
    "start_time": "2023-05-25T18:02:44.046Z"
   },
   {
    "duration": 21,
    "start_time": "2023-05-25T19:02:38.974Z"
   },
   {
    "duration": 7767,
    "start_time": "2023-05-25T19:02:38.997Z"
   },
   {
    "duration": 2865,
    "start_time": "2023-05-25T19:02:46.766Z"
   },
   {
    "duration": 2612,
    "start_time": "2023-05-25T19:02:49.632Z"
   },
   {
    "duration": 1783,
    "start_time": "2023-05-25T19:02:52.246Z"
   },
   {
    "duration": 375,
    "start_time": "2023-05-25T19:02:54.031Z"
   },
   {
    "duration": 19,
    "start_time": "2023-05-25T19:02:54.408Z"
   },
   {
    "duration": 10,
    "start_time": "2023-05-25T19:02:54.428Z"
   },
   {
    "duration": 8,
    "start_time": "2023-05-25T19:02:54.439Z"
   },
   {
    "duration": 6,
    "start_time": "2023-05-25T19:02:54.449Z"
   },
   {
    "duration": 6,
    "start_time": "2023-05-25T19:02:54.456Z"
   },
   {
    "duration": 5,
    "start_time": "2023-05-25T19:02:54.464Z"
   },
   {
    "duration": 12,
    "start_time": "2023-05-25T19:02:54.471Z"
   },
   {
    "duration": 5,
    "start_time": "2023-05-25T19:02:54.486Z"
   },
   {
    "duration": 26,
    "start_time": "2023-05-25T19:02:54.493Z"
   },
   {
    "duration": 13,
    "start_time": "2023-05-25T19:02:54.521Z"
   },
   {
    "duration": 4,
    "start_time": "2023-05-25T19:02:54.535Z"
   },
   {
    "duration": 16,
    "start_time": "2023-05-25T19:02:54.540Z"
   },
   {
    "duration": 11,
    "start_time": "2023-05-25T19:02:54.586Z"
   },
   {
    "duration": 17,
    "start_time": "2023-05-25T19:02:54.598Z"
   },
   {
    "duration": 10,
    "start_time": "2023-05-25T19:02:54.616Z"
   },
   {
    "duration": 11,
    "start_time": "2023-05-25T19:02:54.627Z"
   },
   {
    "duration": 5,
    "start_time": "2023-05-25T19:02:54.639Z"
   },
   {
    "duration": 6,
    "start_time": "2023-05-25T19:02:54.646Z"
   },
   {
    "duration": 31,
    "start_time": "2023-05-25T19:02:54.654Z"
   },
   {
    "duration": 5,
    "start_time": "2023-05-25T19:02:54.686Z"
   },
   {
    "duration": 14,
    "start_time": "2023-05-25T19:02:54.692Z"
   },
   {
    "duration": 7,
    "start_time": "2023-05-25T19:02:54.707Z"
   },
   {
    "duration": 340,
    "start_time": "2023-05-25T19:02:54.716Z"
   },
   {
    "duration": 5,
    "start_time": "2023-05-25T19:02:55.058Z"
   },
   {
    "duration": 23,
    "start_time": "2023-05-25T19:02:55.064Z"
   },
   {
    "duration": 31,
    "start_time": "2023-05-25T19:02:55.092Z"
   },
   {
    "duration": 10,
    "start_time": "2023-05-25T19:02:55.124Z"
   },
   {
    "duration": 6,
    "start_time": "2023-05-25T19:02:55.136Z"
   },
   {
    "duration": 8,
    "start_time": "2023-05-25T19:02:55.143Z"
   },
   {
    "duration": 1265,
    "start_time": "2023-05-25T19:02:55.152Z"
   },
   {
    "duration": 1040,
    "start_time": "2023-05-25T19:02:56.419Z"
   },
   {
    "duration": 2,
    "start_time": "2023-05-25T19:02:57.462Z"
   },
   {
    "duration": 3512,
    "start_time": "2023-05-25T19:02:57.477Z"
   },
   {
    "duration": 5,
    "start_time": "2023-05-25T19:03:00.992Z"
   },
   {
    "duration": 21,
    "start_time": "2023-05-25T19:03:01.000Z"
   },
   {
    "duration": 27,
    "start_time": "2023-05-25T19:03:01.023Z"
   },
   {
    "duration": 13,
    "start_time": "2023-05-25T19:03:01.052Z"
   },
   {
    "duration": 34,
    "start_time": "2023-05-25T19:03:01.067Z"
   },
   {
    "duration": 1595,
    "start_time": "2023-05-25T19:03:01.103Z"
   },
   {
    "duration": 1785,
    "start_time": "2023-05-25T19:03:02.700Z"
   },
   {
    "duration": 4,
    "start_time": "2023-05-25T19:12:46.671Z"
   },
   {
    "duration": 135,
    "start_time": "2023-05-25T19:15:01.877Z"
   },
   {
    "duration": 4,
    "start_time": "2023-05-25T19:15:33.910Z"
   },
   {
    "duration": 2,
    "start_time": "2023-05-25T19:15:50.529Z"
   },
   {
    "duration": 5,
    "start_time": "2023-05-25T19:15:56.123Z"
   },
   {
    "duration": 5,
    "start_time": "2023-05-25T19:16:00.789Z"
   },
   {
    "duration": 2,
    "start_time": "2023-05-25T19:17:17.123Z"
   },
   {
    "duration": 4,
    "start_time": "2023-05-25T19:17:23.768Z"
   },
   {
    "duration": 8,
    "start_time": "2023-05-25T19:17:30.319Z"
   },
   {
    "duration": 9,
    "start_time": "2023-05-25T19:19:25.312Z"
   },
   {
    "duration": 4,
    "start_time": "2023-05-25T19:19:26.947Z"
   },
   {
    "duration": 4,
    "start_time": "2023-05-25T19:19:29.819Z"
   },
   {
    "duration": 144,
    "start_time": "2023-05-25T19:19:32.670Z"
   },
   {
    "duration": 3,
    "start_time": "2023-05-25T19:20:28.023Z"
   },
   {
    "duration": 4,
    "start_time": "2023-05-25T19:20:32.098Z"
   },
   {
    "duration": 42494,
    "start_time": "2023-05-25T19:20:33.508Z"
   },
   {
    "duration": 4,
    "start_time": "2023-05-25T19:21:16.004Z"
   },
   {
    "duration": 8,
    "start_time": "2023-05-25T19:21:16.009Z"
   },
   {
    "duration": 3,
    "start_time": "2023-05-25T19:22:07.089Z"
   },
   {
    "duration": 23687,
    "start_time": "2023-05-25T19:22:07.969Z"
   },
   {
    "duration": 4,
    "start_time": "2023-05-25T19:22:31.658Z"
   },
   {
    "duration": 31,
    "start_time": "2023-05-25T19:22:31.664Z"
   },
   {
    "duration": 19,
    "start_time": "2023-05-25T19:22:45.899Z"
   },
   {
    "duration": 4293,
    "start_time": "2023-05-25T19:22:47.956Z"
   },
   {
    "duration": 88317,
    "start_time": "2023-05-25T19:23:00.375Z"
   },
   {
    "duration": 3,
    "start_time": "2023-05-25T19:24:28.694Z"
   },
   {
    "duration": 4,
    "start_time": "2023-05-25T19:25:22.197Z"
   },
   {
    "duration": 15,
    "start_time": "2023-05-25T19:25:29.222Z"
   },
   {
    "duration": 3,
    "start_time": "2023-05-25T19:26:03.607Z"
   },
   {
    "duration": 4,
    "start_time": "2023-05-25T19:26:09.758Z"
   },
   {
    "duration": 3,
    "start_time": "2023-05-25T19:27:04.975Z"
   },
   {
    "duration": 4,
    "start_time": "2023-05-25T19:27:05.494Z"
   },
   {
    "duration": 9,
    "start_time": "2023-05-25T19:27:15.020Z"
   },
   {
    "duration": 4,
    "start_time": "2023-05-25T19:27:16.950Z"
   },
   {
    "duration": 4,
    "start_time": "2023-05-25T19:27:19.777Z"
   },
   {
    "duration": 41368,
    "start_time": "2023-05-25T19:27:20.902Z"
   },
   {
    "duration": 9,
    "start_time": "2023-05-25T19:28:02.272Z"
   },
   {
    "duration": 22,
    "start_time": "2023-05-25T19:28:02.283Z"
   },
   {
    "duration": 4,
    "start_time": "2023-05-25T19:28:23.344Z"
   },
   {
    "duration": 27072,
    "start_time": "2023-05-25T19:28:24.486Z"
   },
   {
    "duration": 4,
    "start_time": "2023-05-25T19:28:51.560Z"
   },
   {
    "duration": 15,
    "start_time": "2023-05-25T19:28:51.566Z"
   },
   {
    "duration": 21,
    "start_time": "2023-05-25T19:28:59.615Z"
   },
   {
    "duration": 102517,
    "start_time": "2023-05-25T19:29:01.267Z"
   },
   {
    "duration": 5,
    "start_time": "2023-05-25T19:30:43.786Z"
   },
   {
    "duration": 4,
    "start_time": "2023-05-25T19:30:59.278Z"
   },
   {
    "duration": 6,
    "start_time": "2023-05-25T19:31:04.888Z"
   },
   {
    "duration": 28164,
    "start_time": "2023-05-25T19:32:15.667Z"
   },
   {
    "duration": 20,
    "start_time": "2023-05-25T19:32:56.158Z"
   },
   {
    "duration": 47,
    "start_time": "2023-05-25T19:34:29.686Z"
   },
   {
    "duration": 5,
    "start_time": "2023-05-25T19:34:40.526Z"
   },
   {
    "duration": 10901,
    "start_time": "2023-05-25T19:34:59.026Z"
   },
   {
    "duration": 20,
    "start_time": "2023-05-25T19:35:31.712Z"
   },
   {
    "duration": 4,
    "start_time": "2023-05-25T19:36:40.967Z"
   },
   {
    "duration": 10574,
    "start_time": "2023-05-25T19:36:42.599Z"
   },
   {
    "duration": 17,
    "start_time": "2023-05-25T19:37:03.688Z"
   },
   {
    "duration": 3,
    "start_time": "2023-05-25T19:37:31.252Z"
   },
   {
    "duration": 4,
    "start_time": "2023-05-25T19:37:36.416Z"
   },
   {
    "duration": 4,
    "start_time": "2023-05-25T19:37:58.447Z"
   },
   {
    "duration": 3,
    "start_time": "2023-05-25T19:38:10.810Z"
   },
   {
    "duration": 4,
    "start_time": "2023-05-25T19:38:15.678Z"
   },
   {
    "duration": 5,
    "start_time": "2023-05-25T19:38:18.299Z"
   },
   {
    "duration": 4,
    "start_time": "2023-05-25T19:38:21.979Z"
   },
   {
    "duration": 4,
    "start_time": "2023-05-25T19:38:46.906Z"
   },
   {
    "duration": 10,
    "start_time": "2023-05-25T19:38:51.211Z"
   },
   {
    "duration": 4,
    "start_time": "2023-05-25T19:38:54.244Z"
   },
   {
    "duration": 5,
    "start_time": "2023-05-25T19:38:56.747Z"
   },
   {
    "duration": 40042,
    "start_time": "2023-05-25T19:38:58.419Z"
   },
   {
    "duration": 4,
    "start_time": "2023-05-25T19:39:38.462Z"
   },
   {
    "duration": 11,
    "start_time": "2023-05-25T19:39:38.467Z"
   },
   {
    "duration": 3,
    "start_time": "2023-05-25T19:40:13.352Z"
   },
   {
    "duration": 35064,
    "start_time": "2023-05-25T19:40:14.105Z"
   },
   {
    "duration": 11,
    "start_time": "2023-05-25T19:40:49.171Z"
   },
   {
    "duration": 5,
    "start_time": "2023-05-25T19:40:49.184Z"
   },
   {
    "duration": 20,
    "start_time": "2023-05-25T19:41:07.075Z"
   },
   {
    "duration": 107531,
    "start_time": "2023-05-25T19:41:10.966Z"
   },
   {
    "duration": 4,
    "start_time": "2023-05-25T19:42:58.499Z"
   },
   {
    "duration": 5,
    "start_time": "2023-05-25T19:44:04.102Z"
   },
   {
    "duration": 31057,
    "start_time": "2023-05-25T19:44:16.394Z"
   },
   {
    "duration": 18,
    "start_time": "2023-05-25T19:45:17.226Z"
   },
   {
    "duration": 5,
    "start_time": "2023-05-25T19:45:22.320Z"
   },
   {
    "duration": 3,
    "start_time": "2023-05-25T19:45:43.201Z"
   },
   {
    "duration": 11485,
    "start_time": "2023-05-25T19:45:45.243Z"
   },
   {
    "duration": 18,
    "start_time": "2023-05-25T19:46:07.777Z"
   },
   {
    "duration": 3,
    "start_time": "2023-05-25T19:47:53.133Z"
   },
   {
    "duration": 4,
    "start_time": "2023-05-25T19:47:58.169Z"
   },
   {
    "duration": 4,
    "start_time": "2023-05-25T19:48:13.874Z"
   },
   {
    "duration": 5,
    "start_time": "2023-05-25T19:48:29.537Z"
   },
   {
    "duration": 4,
    "start_time": "2023-05-25T19:48:32.491Z"
   },
   {
    "duration": 9,
    "start_time": "2023-05-25T19:48:34.944Z"
   },
   {
    "duration": 4,
    "start_time": "2023-05-25T19:48:36.496Z"
   },
   {
    "duration": 4,
    "start_time": "2023-05-25T19:48:40.251Z"
   },
   {
    "duration": 44659,
    "start_time": "2023-05-25T19:48:41.515Z"
   },
   {
    "duration": 5,
    "start_time": "2023-05-25T19:49:26.175Z"
   },
   {
    "duration": 14,
    "start_time": "2023-05-25T19:49:26.182Z"
   },
   {
    "duration": 4,
    "start_time": "2023-05-25T19:49:47.930Z"
   },
   {
    "duration": 30502,
    "start_time": "2023-05-25T19:49:49.406Z"
   },
   {
    "duration": 4,
    "start_time": "2023-05-25T19:50:19.909Z"
   },
   {
    "duration": 6,
    "start_time": "2023-05-25T19:50:19.914Z"
   },
   {
    "duration": 19,
    "start_time": "2023-05-25T19:50:38.517Z"
   },
   {
    "duration": 95534,
    "start_time": "2023-05-25T19:50:41.377Z"
   },
   {
    "duration": 5,
    "start_time": "2023-05-25T19:52:51.047Z"
   },
   {
    "duration": 11,
    "start_time": "2023-05-25T19:53:37.194Z"
   },
   {
    "duration": 16,
    "start_time": "2023-05-25T19:53:41.238Z"
   },
   {
    "duration": 4,
    "start_time": "2023-05-25T19:54:17.524Z"
   },
   {
    "duration": 4,
    "start_time": "2023-05-25T19:58:11.388Z"
   },
   {
    "duration": 5,
    "start_time": "2023-05-25T19:58:18.385Z"
   },
   {
    "duration": 3,
    "start_time": "2023-05-25T19:59:30.656Z"
   },
   {
    "duration": 4,
    "start_time": "2023-05-25T19:59:38.599Z"
   },
   {
    "duration": 4,
    "start_time": "2023-05-25T19:59:58.895Z"
   },
   {
    "duration": 4,
    "start_time": "2023-05-25T20:01:14.218Z"
   },
   {
    "duration": 5,
    "start_time": "2023-05-25T20:01:22.427Z"
   },
   {
    "duration": 4,
    "start_time": "2023-05-25T20:01:25.623Z"
   },
   {
    "duration": 10,
    "start_time": "2023-05-25T20:01:28.958Z"
   },
   {
    "duration": 4,
    "start_time": "2023-05-25T20:01:30.441Z"
   },
   {
    "duration": 3,
    "start_time": "2023-05-25T20:01:33.440Z"
   },
   {
    "duration": 46317,
    "start_time": "2023-05-25T20:01:34.517Z"
   },
   {
    "duration": 3,
    "start_time": "2023-05-25T20:02:20.836Z"
   },
   {
    "duration": 10,
    "start_time": "2023-05-25T20:02:20.840Z"
   },
   {
    "duration": 4,
    "start_time": "2023-05-25T20:02:29.321Z"
   },
   {
    "duration": 27938,
    "start_time": "2023-05-25T20:02:29.871Z"
   },
   {
    "duration": 4,
    "start_time": "2023-05-25T20:02:57.810Z"
   },
   {
    "duration": 5,
    "start_time": "2023-05-25T20:02:57.815Z"
   },
   {
    "duration": 17,
    "start_time": "2023-05-25T20:03:06.396Z"
   },
   {
    "duration": 92387,
    "start_time": "2023-05-25T20:03:07.368Z"
   },
   {
    "duration": 4,
    "start_time": "2023-05-25T20:04:39.757Z"
   },
   {
    "duration": 7,
    "start_time": "2023-05-25T20:05:07.341Z"
   },
   {
    "duration": 12,
    "start_time": "2023-05-25T20:05:25.875Z"
   },
   {
    "duration": 18,
    "start_time": "2023-05-25T20:05:40.497Z"
   },
   {
    "duration": 13,
    "start_time": "2023-05-25T20:07:41.390Z"
   },
   {
    "duration": 16,
    "start_time": "2023-05-25T20:07:58.644Z"
   },
   {
    "duration": 9,
    "start_time": "2023-05-25T20:08:07.554Z"
   },
   {
    "duration": 6,
    "start_time": "2023-05-25T20:08:13.448Z"
   },
   {
    "duration": 6,
    "start_time": "2023-05-25T20:08:23.733Z"
   },
   {
    "duration": 4,
    "start_time": "2023-05-25T20:08:46.356Z"
   },
   {
    "duration": 6,
    "start_time": "2023-05-25T20:09:15.935Z"
   },
   {
    "duration": 4,
    "start_time": "2023-05-25T20:09:25.620Z"
   },
   {
    "duration": 30218,
    "start_time": "2023-05-25T20:09:37.252Z"
   },
   {
    "duration": 25,
    "start_time": "2023-05-25T20:10:57.377Z"
   },
   {
    "duration": 5,
    "start_time": "2023-05-25T20:11:45.705Z"
   },
   {
    "duration": 5,
    "start_time": "2023-05-25T20:11:49.406Z"
   },
   {
    "duration": 138760,
    "start_time": "2023-05-25T20:12:45.037Z"
   },
   {
    "duration": 4,
    "start_time": "2023-05-25T20:15:22.203Z"
   },
   {
    "duration": 6,
    "start_time": "2023-05-25T20:15:27.967Z"
   },
   {
    "duration": 8,
    "start_time": "2023-05-25T20:15:35.073Z"
   },
   {
    "duration": 24,
    "start_time": "2023-05-25T20:15:37.546Z"
   },
   {
    "duration": 2,
    "start_time": "2023-05-25T20:15:44.327Z"
   },
   {
    "duration": 2,
    "start_time": "2023-05-25T20:15:46.474Z"
   },
   {
    "duration": 4,
    "start_time": "2023-05-25T20:15:52.626Z"
   },
   {
    "duration": 14,
    "start_time": "2023-05-25T20:16:06.853Z"
   },
   {
    "duration": 141184,
    "start_time": "2023-05-25T20:16:52.143Z"
   },
   {
    "duration": 169584,
    "start_time": "2023-05-25T20:19:45.265Z"
   },
   {
    "duration": 170382,
    "start_time": "2023-05-25T20:23:10.178Z"
   },
   {
    "duration": 211590,
    "start_time": "2023-05-25T20:26:21.130Z"
   },
   {
    "duration": 4,
    "start_time": "2023-05-25T20:30:20.968Z"
   },
   {
    "duration": 3,
    "start_time": "2023-05-25T20:30:29.656Z"
   },
   {
    "duration": 14,
    "start_time": "2023-05-25T20:30:39.945Z"
   },
   {
    "duration": 27416,
    "start_time": "2023-05-25T20:30:49.247Z"
   },
   {
    "duration": 389804,
    "start_time": "2023-05-25T20:34:23.747Z"
   },
   {
    "duration": 219218,
    "start_time": "2023-05-25T20:42:37.050Z"
   },
   {
    "duration": 379508,
    "start_time": "2023-05-25T20:46:35.623Z"
   },
   {
    "duration": 499119,
    "start_time": "2023-05-25T20:54:48.399Z"
   },
   {
    "duration": 4,
    "start_time": "2023-05-25T21:05:30.943Z"
   },
   {
    "duration": 4,
    "start_time": "2023-05-25T21:05:45.732Z"
   },
   {
    "duration": 16,
    "start_time": "2023-05-25T21:05:48.692Z"
   },
   {
    "duration": 5,
    "start_time": "2023-05-25T21:05:57.959Z"
   },
   {
    "duration": 348502,
    "start_time": "2023-05-25T21:07:53.215Z"
   },
   {
    "duration": 19,
    "start_time": "2023-05-25T21:13:41.719Z"
   },
   {
    "duration": 8,
    "start_time": "2023-05-25T21:13:50.941Z"
   },
   {
    "duration": 4,
    "start_time": "2023-05-25T21:13:59.618Z"
   },
   {
    "duration": 4,
    "start_time": "2023-05-25T21:14:27.099Z"
   },
   {
    "duration": 41202,
    "start_time": "2023-05-25T21:15:01.795Z"
   },
   {
    "duration": 14,
    "start_time": "2023-05-25T21:16:29.325Z"
   },
   {
    "duration": 9,
    "start_time": "2023-05-25T21:16:46.153Z"
   },
   {
    "duration": 2,
    "start_time": "2023-05-25T21:16:46.566Z"
   },
   {
    "duration": 414,
    "start_time": "2023-05-25T21:16:47.161Z"
   },
   {
    "duration": 3,
    "start_time": "2023-05-25T21:16:53.466Z"
   },
   {
    "duration": 365,
    "start_time": "2023-05-25T21:16:54.143Z"
   },
   {
    "duration": 16,
    "start_time": "2023-05-25T21:17:02.043Z"
   },
   {
    "duration": 289,
    "start_time": "2023-05-25T21:17:02.522Z"
   },
   {
    "duration": 15,
    "start_time": "2023-05-25T21:17:06.896Z"
   },
   {
    "duration": 425,
    "start_time": "2023-05-25T21:17:10.872Z"
   },
   {
    "duration": 3,
    "start_time": "2023-05-25T21:22:05.948Z"
   },
   {
    "duration": 4,
    "start_time": "2023-05-25T21:22:12.929Z"
   },
   {
    "duration": 4,
    "start_time": "2023-05-25T21:23:23.146Z"
   },
   {
    "duration": 8,
    "start_time": "2023-05-25T21:33:48.464Z"
   },
   {
    "duration": 2074,
    "start_time": "2023-05-25T21:33:48.473Z"
   },
   {
    "duration": 1938,
    "start_time": "2023-05-25T21:33:50.549Z"
   },
   {
    "duration": 1920,
    "start_time": "2023-05-25T21:33:52.492Z"
   },
   {
    "duration": 1437,
    "start_time": "2023-05-25T21:33:54.414Z"
   },
   {
    "duration": 102,
    "start_time": "2023-05-25T21:33:55.854Z"
   },
   {
    "duration": 18,
    "start_time": "2023-05-25T21:33:55.958Z"
   },
   {
    "duration": 11,
    "start_time": "2023-05-25T21:33:55.990Z"
   },
   {
    "duration": 10,
    "start_time": "2023-05-25T21:33:56.002Z"
   },
   {
    "duration": 7,
    "start_time": "2023-05-25T21:33:56.014Z"
   },
   {
    "duration": 23,
    "start_time": "2023-05-25T21:33:56.022Z"
   },
   {
    "duration": 7,
    "start_time": "2023-05-25T21:33:56.047Z"
   },
   {
    "duration": 13,
    "start_time": "2023-05-25T21:33:56.055Z"
   },
   {
    "duration": 6,
    "start_time": "2023-05-25T21:33:56.069Z"
   },
   {
    "duration": 28,
    "start_time": "2023-05-25T21:33:56.076Z"
   },
   {
    "duration": 12,
    "start_time": "2023-05-25T21:33:56.106Z"
   },
   {
    "duration": 4,
    "start_time": "2023-05-25T21:33:56.119Z"
   },
   {
    "duration": 17,
    "start_time": "2023-05-25T21:33:56.124Z"
   },
   {
    "duration": 8,
    "start_time": "2023-05-25T21:33:56.143Z"
   },
   {
    "duration": 41,
    "start_time": "2023-05-25T21:33:56.152Z"
   },
   {
    "duration": 10,
    "start_time": "2023-05-25T21:33:56.195Z"
   },
   {
    "duration": 12,
    "start_time": "2023-05-25T21:33:56.206Z"
   },
   {
    "duration": 5,
    "start_time": "2023-05-25T21:33:56.220Z"
   },
   {
    "duration": 5,
    "start_time": "2023-05-25T21:33:56.226Z"
   },
   {
    "duration": 8,
    "start_time": "2023-05-25T21:33:56.233Z"
   },
   {
    "duration": 48,
    "start_time": "2023-05-25T21:33:56.243Z"
   },
   {
    "duration": 3,
    "start_time": "2023-05-25T21:33:56.293Z"
   },
   {
    "duration": 6,
    "start_time": "2023-05-25T21:33:56.300Z"
   },
   {
    "duration": 303,
    "start_time": "2023-05-25T21:33:56.307Z"
   },
   {
    "duration": 4,
    "start_time": "2023-05-25T21:33:56.612Z"
   },
   {
    "duration": 8,
    "start_time": "2023-05-25T21:33:56.618Z"
   },
   {
    "duration": 24,
    "start_time": "2023-05-25T21:33:56.627Z"
   },
   {
    "duration": 6,
    "start_time": "2023-05-25T21:33:56.652Z"
   },
   {
    "duration": 27,
    "start_time": "2023-05-25T21:33:56.660Z"
   },
   {
    "duration": 3,
    "start_time": "2023-05-25T21:33:56.689Z"
   },
   {
    "duration": 1277,
    "start_time": "2023-05-25T21:33:56.693Z"
   },
   {
    "duration": 953,
    "start_time": "2023-05-25T21:33:57.971Z"
   },
   {
    "duration": 3,
    "start_time": "2023-05-25T21:33:58.925Z"
   },
   {
    "duration": 3738,
    "start_time": "2023-05-25T21:33:58.929Z"
   },
   {
    "duration": 4,
    "start_time": "2023-05-25T21:34:02.669Z"
   },
   {
    "duration": 31,
    "start_time": "2023-05-25T21:34:02.675Z"
   },
   {
    "duration": 7,
    "start_time": "2023-05-25T21:34:02.708Z"
   },
   {
    "duration": 16,
    "start_time": "2023-05-25T21:34:02.717Z"
   },
   {
    "duration": 24,
    "start_time": "2023-05-25T21:34:02.735Z"
   },
   {
    "duration": 1464,
    "start_time": "2023-05-25T21:34:02.761Z"
   },
   {
    "duration": 1828,
    "start_time": "2023-05-25T21:34:04.226Z"
   },
   {
    "duration": 4,
    "start_time": "2023-05-25T21:34:06.055Z"
   },
   {
    "duration": 31,
    "start_time": "2023-05-25T21:34:06.060Z"
   },
   {
    "duration": 3,
    "start_time": "2023-05-25T21:34:06.093Z"
   },
   {
    "duration": 5,
    "start_time": "2023-05-25T21:34:06.098Z"
   },
   {
    "duration": 11,
    "start_time": "2023-05-25T21:34:06.104Z"
   },
   {
    "duration": 4,
    "start_time": "2023-05-25T21:34:06.116Z"
   },
   {
    "duration": 4,
    "start_time": "2023-05-25T21:34:06.121Z"
   },
   {
    "duration": 84765,
    "start_time": "2023-05-25T21:34:06.126Z"
   },
   {
    "duration": 4,
    "start_time": "2023-05-25T21:35:30.892Z"
   },
   {
    "duration": 23,
    "start_time": "2023-05-25T21:35:30.897Z"
   },
   {
    "duration": 18,
    "start_time": "2023-05-25T21:35:30.921Z"
   },
   {
    "duration": 128324,
    "start_time": "2023-05-25T21:35:30.941Z"
   },
   {
    "duration": 4,
    "start_time": "2023-05-25T21:37:39.267Z"
   },
   {
    "duration": 4,
    "start_time": "2023-05-25T21:37:39.290Z"
   },
   {
    "duration": 15,
    "start_time": "2023-05-25T21:37:39.296Z"
   },
   {
    "duration": 396627,
    "start_time": "2023-05-25T21:37:39.312Z"
   },
   {
    "duration": 9,
    "start_time": "2023-05-25T21:44:15.941Z"
   },
   {
    "duration": 13,
    "start_time": "2023-05-25T21:44:15.951Z"
   },
   {
    "duration": 31,
    "start_time": "2023-05-25T21:44:15.965Z"
   },
   {
    "duration": 9,
    "start_time": "2023-05-25T21:44:16.000Z"
   },
   {
    "duration": 19,
    "start_time": "2023-05-25T21:44:16.011Z"
   },
   {
    "duration": 39880,
    "start_time": "2023-05-25T21:44:16.032Z"
   },
   {
    "duration": 16,
    "start_time": "2023-05-25T21:44:55.914Z"
   },
   {
    "duration": 51,
    "start_time": "2023-05-25T21:44:55.932Z"
   },
   {
    "duration": 8,
    "start_time": "2023-05-25T21:44:55.985Z"
   },
   {
    "duration": 396,
    "start_time": "2023-05-25T21:44:55.995Z"
   },
   {
    "duration": 3,
    "start_time": "2023-05-25T21:44:56.394Z"
   },
   {
    "duration": 394,
    "start_time": "2023-05-25T21:44:56.398Z"
   },
   {
    "duration": 12,
    "start_time": "2023-05-25T21:44:56.794Z"
   },
   {
    "duration": 292,
    "start_time": "2023-05-25T21:44:56.808Z"
   },
   {
    "duration": 16,
    "start_time": "2023-05-25T21:44:57.101Z"
   },
   {
    "duration": 472,
    "start_time": "2023-05-25T21:44:57.118Z"
   },
   {
    "duration": 7,
    "start_time": "2023-05-25T21:44:58.246Z"
   },
   {
    "duration": 4,
    "start_time": "2023-05-25T21:45:13.214Z"
   },
   {
    "duration": 4,
    "start_time": "2023-05-25T21:45:28.814Z"
   },
   {
    "duration": 40636,
    "start_time": "2023-05-25T21:46:05.001Z"
   },
   {
    "duration": 15,
    "start_time": "2023-05-25T21:46:58.692Z"
   },
   {
    "duration": 45,
    "start_time": "2023-05-25T21:47:47.004Z"
   },
   {
    "duration": 601005,
    "start_time": "2023-05-25T21:48:50.320Z"
   },
   {
    "duration": 4,
    "start_time": "2023-05-25T21:58:51.327Z"
   },
   {
    "duration": 5,
    "start_time": "2023-05-25T21:59:15.507Z"
   },
   {
    "duration": 41958,
    "start_time": "2023-05-25T21:59:33.033Z"
   },
   {
    "duration": 15,
    "start_time": "2023-05-25T22:00:44.595Z"
   },
   {
    "duration": 43,
    "start_time": "2023-05-25T22:00:47.800Z"
   },
   {
    "duration": 422409,
    "start_time": "2023-05-25T22:02:55.539Z"
   },
   {
    "duration": 3,
    "start_time": "2023-05-25T22:09:57.950Z"
   },
   {
    "duration": 42712,
    "start_time": "2023-05-25T22:10:40.431Z"
   },
   {
    "duration": 2781,
    "start_time": "2023-05-25T22:12:19.074Z"
   },
   {
    "duration": 13841,
    "start_time": "2023-05-25T22:12:34.991Z"
   },
   {
    "duration": 5227,
    "start_time": "2023-05-25T22:14:33.240Z"
   },
   {
    "duration": 515890,
    "start_time": "2023-05-25T22:15:02.166Z"
   },
   {
    "duration": 551591,
    "start_time": "2023-05-25T22:24:03.533Z"
   },
   {
    "duration": 6,
    "start_time": "2023-05-25T22:33:46.398Z"
   },
   {
    "duration": 14261,
    "start_time": "2023-05-25T22:34:12.488Z"
   },
   {
    "duration": 20,
    "start_time": "2023-05-25T22:34:52.225Z"
   },
   {
    "duration": 42,
    "start_time": "2023-05-25T22:34:53.725Z"
   },
   {
    "duration": 18707,
    "start_time": "2023-05-25T22:35:24.533Z"
   },
   {
    "duration": 18874,
    "start_time": "2023-05-25T22:36:09.440Z"
   },
   {
    "duration": 333402,
    "start_time": "2023-05-25T22:36:40.626Z"
   },
   {
    "duration": 695164,
    "start_time": "2023-05-25T22:47:19.464Z"
   },
   {
    "duration": 8,
    "start_time": "2023-05-25T22:59:00.481Z"
   },
   {
    "duration": 27,
    "start_time": "2023-05-25T22:59:09.371Z"
   },
   {
    "duration": 11,
    "start_time": "2023-05-25T22:59:24.008Z"
   },
   {
    "duration": 3,
    "start_time": "2023-05-25T22:59:24.437Z"
   },
   {
    "duration": 433,
    "start_time": "2023-05-25T22:59:26.466Z"
   },
   {
    "duration": 4,
    "start_time": "2023-05-25T22:59:29.391Z"
   },
   {
    "duration": 381,
    "start_time": "2023-05-25T22:59:31.392Z"
   },
   {
    "duration": 14,
    "start_time": "2023-05-25T22:59:33.656Z"
   },
   {
    "duration": 323,
    "start_time": "2023-05-25T22:59:34.246Z"
   },
   {
    "duration": 21,
    "start_time": "2023-05-25T22:59:45.991Z"
   },
   {
    "duration": 370,
    "start_time": "2023-05-25T22:59:52.191Z"
   },
   {
    "duration": 8,
    "start_time": "2023-05-25T23:04:06.333Z"
   },
   {
    "duration": 2131,
    "start_time": "2023-05-25T23:04:06.343Z"
   },
   {
    "duration": 2119,
    "start_time": "2023-05-25T23:04:08.476Z"
   },
   {
    "duration": 2099,
    "start_time": "2023-05-25T23:04:10.598Z"
   },
   {
    "duration": 1693,
    "start_time": "2023-05-25T23:04:12.698Z"
   },
   {
    "duration": 122,
    "start_time": "2023-05-25T23:04:14.393Z"
   },
   {
    "duration": 19,
    "start_time": "2023-05-25T23:04:14.517Z"
   },
   {
    "duration": 56,
    "start_time": "2023-05-25T23:04:14.538Z"
   },
   {
    "duration": 9,
    "start_time": "2023-05-25T23:04:14.596Z"
   },
   {
    "duration": 8,
    "start_time": "2023-05-25T23:04:14.609Z"
   },
   {
    "duration": 7,
    "start_time": "2023-05-25T23:04:14.619Z"
   },
   {
    "duration": 7,
    "start_time": "2023-05-25T23:04:14.628Z"
   },
   {
    "duration": 10,
    "start_time": "2023-05-25T23:04:14.637Z"
   },
   {
    "duration": 44,
    "start_time": "2023-05-25T23:04:14.648Z"
   },
   {
    "duration": 34,
    "start_time": "2023-05-25T23:04:14.694Z"
   },
   {
    "duration": 14,
    "start_time": "2023-05-25T23:04:14.729Z"
   },
   {
    "duration": 3,
    "start_time": "2023-05-25T23:04:14.745Z"
   },
   {
    "duration": 40,
    "start_time": "2023-05-25T23:04:14.750Z"
   },
   {
    "duration": 14,
    "start_time": "2023-05-25T23:04:14.792Z"
   },
   {
    "duration": 25,
    "start_time": "2023-05-25T23:04:14.807Z"
   },
   {
    "duration": 15,
    "start_time": "2023-05-25T23:04:14.834Z"
   },
   {
    "duration": 34,
    "start_time": "2023-05-25T23:04:14.851Z"
   },
   {
    "duration": 7,
    "start_time": "2023-05-25T23:04:14.888Z"
   },
   {
    "duration": 5,
    "start_time": "2023-05-25T23:04:14.897Z"
   },
   {
    "duration": 15,
    "start_time": "2023-05-25T23:04:14.903Z"
   },
   {
    "duration": 12,
    "start_time": "2023-05-25T23:04:14.919Z"
   },
   {
    "duration": 14,
    "start_time": "2023-05-25T23:04:14.932Z"
   },
   {
    "duration": 4,
    "start_time": "2023-05-25T23:04:14.953Z"
   },
   {
    "duration": 327,
    "start_time": "2023-05-25T23:04:14.959Z"
   },
   {
    "duration": 6,
    "start_time": "2023-05-25T23:04:15.291Z"
   },
   {
    "duration": 9,
    "start_time": "2023-05-25T23:04:15.299Z"
   },
   {
    "duration": 31,
    "start_time": "2023-05-25T23:04:15.309Z"
   },
   {
    "duration": 5,
    "start_time": "2023-05-25T23:04:15.342Z"
   },
   {
    "duration": 8,
    "start_time": "2023-05-25T23:04:15.349Z"
   },
   {
    "duration": 15,
    "start_time": "2023-05-25T23:04:15.358Z"
   },
   {
    "duration": 1394,
    "start_time": "2023-05-25T23:04:15.374Z"
   },
   {
    "duration": 1169,
    "start_time": "2023-05-25T23:04:16.769Z"
   },
   {
    "duration": 3,
    "start_time": "2023-05-25T23:04:17.940Z"
   },
   {
    "duration": 3987,
    "start_time": "2023-05-25T23:04:17.944Z"
   },
   {
    "duration": 4,
    "start_time": "2023-05-25T23:04:21.933Z"
   },
   {
    "duration": 8,
    "start_time": "2023-05-25T23:04:21.938Z"
   },
   {
    "duration": 6,
    "start_time": "2023-05-25T23:04:21.948Z"
   },
   {
    "duration": 7,
    "start_time": "2023-05-25T23:04:21.956Z"
   },
   {
    "duration": 26,
    "start_time": "2023-05-25T23:04:21.965Z"
   },
   {
    "duration": 1567,
    "start_time": "2023-05-25T23:04:21.993Z"
   },
   {
    "duration": 1958,
    "start_time": "2023-05-25T23:04:23.562Z"
   },
   {
    "duration": 4,
    "start_time": "2023-05-25T23:04:25.522Z"
   },
   {
    "duration": 5,
    "start_time": "2023-05-25T23:04:25.527Z"
   },
   {
    "duration": 7,
    "start_time": "2023-05-25T23:04:25.533Z"
   },
   {
    "duration": 5,
    "start_time": "2023-05-25T23:04:25.542Z"
   },
   {
    "duration": 34,
    "start_time": "2023-05-25T23:04:25.548Z"
   },
   {
    "duration": 10,
    "start_time": "2023-05-25T23:04:25.586Z"
   },
   {
    "duration": 5,
    "start_time": "2023-05-25T23:04:25.597Z"
   },
   {
    "duration": 91132,
    "start_time": "2023-05-25T23:04:25.603Z"
   },
   {
    "duration": 6,
    "start_time": "2023-05-25T23:05:56.737Z"
   },
   {
    "duration": 7,
    "start_time": "2023-05-25T23:05:56.744Z"
   },
   {
    "duration": 6,
    "start_time": "2023-05-25T23:05:56.753Z"
   },
   {
    "duration": 141080,
    "start_time": "2023-05-25T23:05:56.780Z"
   },
   {
    "duration": 4,
    "start_time": "2023-05-25T23:08:17.862Z"
   },
   {
    "duration": 31,
    "start_time": "2023-05-25T23:08:17.867Z"
   },
   {
    "duration": 36,
    "start_time": "2023-05-25T23:08:17.900Z"
   },
   {
    "duration": 29,
    "start_time": "2023-05-25T23:08:17.937Z"
   },
   {
    "duration": 285701,
    "start_time": "2023-05-25T23:08:17.968Z"
   },
   {
    "duration": 0,
    "start_time": "2023-05-25T23:13:03.671Z"
   },
   {
    "duration": 0,
    "start_time": "2023-05-25T23:13:03.672Z"
   },
   {
    "duration": 0,
    "start_time": "2023-05-25T23:13:03.674Z"
   },
   {
    "duration": 0,
    "start_time": "2023-05-25T23:13:03.675Z"
   },
   {
    "duration": 0,
    "start_time": "2023-05-25T23:13:03.676Z"
   },
   {
    "duration": 0,
    "start_time": "2023-05-25T23:13:03.678Z"
   },
   {
    "duration": 0,
    "start_time": "2023-05-25T23:13:03.679Z"
   },
   {
    "duration": 0,
    "start_time": "2023-05-25T23:13:03.681Z"
   },
   {
    "duration": 0,
    "start_time": "2023-05-25T23:13:03.682Z"
   },
   {
    "duration": 0,
    "start_time": "2023-05-25T23:13:03.684Z"
   },
   {
    "duration": 0,
    "start_time": "2023-05-25T23:13:03.686Z"
   },
   {
    "duration": 0,
    "start_time": "2023-05-25T23:13:03.687Z"
   },
   {
    "duration": 0,
    "start_time": "2023-05-25T23:13:03.688Z"
   },
   {
    "duration": 11,
    "start_time": "2023-05-26T06:11:39.630Z"
   },
   {
    "duration": 91073,
    "start_time": "2023-05-26T06:11:39.644Z"
   },
   {
    "duration": 4120,
    "start_time": "2023-05-26T06:13:10.720Z"
   },
   {
    "duration": 3226,
    "start_time": "2023-05-26T06:13:14.842Z"
   },
   {
    "duration": 2130,
    "start_time": "2023-05-26T06:13:18.070Z"
   },
   {
    "duration": 336,
    "start_time": "2023-05-26T06:13:20.202Z"
   },
   {
    "duration": 23,
    "start_time": "2023-05-26T06:13:20.540Z"
   },
   {
    "duration": 24,
    "start_time": "2023-05-26T06:13:20.567Z"
   },
   {
    "duration": 21,
    "start_time": "2023-05-26T06:13:20.593Z"
   },
   {
    "duration": 52,
    "start_time": "2023-05-26T06:13:20.616Z"
   },
   {
    "duration": 45,
    "start_time": "2023-05-26T06:13:20.670Z"
   },
   {
    "duration": 50,
    "start_time": "2023-05-26T06:13:20.717Z"
   },
   {
    "duration": 23,
    "start_time": "2023-05-26T06:13:20.769Z"
   },
   {
    "duration": 34,
    "start_time": "2023-05-26T06:13:20.793Z"
   },
   {
    "duration": 57,
    "start_time": "2023-05-26T06:13:20.829Z"
   },
   {
    "duration": 27,
    "start_time": "2023-05-26T06:13:20.888Z"
   },
   {
    "duration": 27,
    "start_time": "2023-05-26T06:13:20.917Z"
   },
   {
    "duration": 39,
    "start_time": "2023-05-26T06:13:20.950Z"
   },
   {
    "duration": 28,
    "start_time": "2023-05-26T06:13:20.991Z"
   },
   {
    "duration": 61,
    "start_time": "2023-05-26T06:13:21.021Z"
   },
   {
    "duration": 22,
    "start_time": "2023-05-26T06:13:21.083Z"
   },
   {
    "duration": 46,
    "start_time": "2023-05-26T06:13:21.108Z"
   },
   {
    "duration": 26,
    "start_time": "2023-05-26T06:13:21.157Z"
   },
   {
    "duration": 48,
    "start_time": "2023-05-26T06:13:21.185Z"
   },
   {
    "duration": 46,
    "start_time": "2023-05-26T06:13:21.234Z"
   },
   {
    "duration": 22,
    "start_time": "2023-05-26T06:13:21.282Z"
   },
   {
    "duration": 35,
    "start_time": "2023-05-26T06:13:21.306Z"
   },
   {
    "duration": 35,
    "start_time": "2023-05-26T06:13:21.348Z"
   },
   {
    "duration": 480,
    "start_time": "2023-05-26T06:13:21.385Z"
   },
   {
    "duration": 7,
    "start_time": "2023-05-26T06:13:21.867Z"
   },
   {
    "duration": 50,
    "start_time": "2023-05-26T06:13:21.877Z"
   },
   {
    "duration": 62,
    "start_time": "2023-05-26T06:13:21.930Z"
   },
   {
    "duration": 51,
    "start_time": "2023-05-26T06:13:21.995Z"
   },
   {
    "duration": 36,
    "start_time": "2023-05-26T06:13:22.051Z"
   },
   {
    "duration": 17,
    "start_time": "2023-05-26T06:13:22.088Z"
   },
   {
    "duration": 1576,
    "start_time": "2023-05-26T06:13:22.107Z"
   },
   {
    "duration": 1242,
    "start_time": "2023-05-26T06:13:23.685Z"
   },
   {
    "duration": 3,
    "start_time": "2023-05-26T06:13:24.928Z"
   },
   {
    "duration": 4383,
    "start_time": "2023-05-26T06:13:24.933Z"
   },
   {
    "duration": 5,
    "start_time": "2023-05-26T06:13:29.318Z"
   },
   {
    "duration": 49,
    "start_time": "2023-05-26T06:13:29.325Z"
   },
   {
    "duration": 30,
    "start_time": "2023-05-26T06:13:29.376Z"
   },
   {
    "duration": 18,
    "start_time": "2023-05-26T06:13:29.408Z"
   },
   {
    "duration": 78,
    "start_time": "2023-05-26T06:13:29.427Z"
   },
   {
    "duration": 1689,
    "start_time": "2023-05-26T06:13:29.507Z"
   },
   {
    "duration": 2264,
    "start_time": "2023-05-26T06:13:31.198Z"
   },
   {
    "duration": 4,
    "start_time": "2023-05-26T06:13:33.464Z"
   },
   {
    "duration": 31,
    "start_time": "2023-05-26T06:13:33.470Z"
   },
   {
    "duration": 43,
    "start_time": "2023-05-26T06:13:33.503Z"
   },
   {
    "duration": 43,
    "start_time": "2023-05-26T06:13:33.548Z"
   },
   {
    "duration": 22,
    "start_time": "2023-05-26T06:13:33.593Z"
   },
   {
    "duration": 20,
    "start_time": "2023-05-26T06:13:33.616Z"
   },
   {
    "duration": 34,
    "start_time": "2023-05-26T06:13:33.638Z"
   },
   {
    "duration": 108376,
    "start_time": "2023-05-26T06:13:33.674Z"
   },
   {
    "duration": 7,
    "start_time": "2023-05-26T06:15:22.055Z"
   },
   {
    "duration": 13,
    "start_time": "2023-05-26T06:15:22.064Z"
   },
   {
    "duration": 9,
    "start_time": "2023-05-26T06:15:22.079Z"
   },
   {
    "duration": 84592,
    "start_time": "2023-05-26T06:15:22.089Z"
   },
   {
    "duration": 5,
    "start_time": "2023-05-26T06:16:46.683Z"
   },
   {
    "duration": 30,
    "start_time": "2023-05-26T06:16:46.694Z"
   },
   {
    "duration": 41,
    "start_time": "2023-05-26T06:16:46.726Z"
   },
   {
    "duration": 21,
    "start_time": "2023-05-26T06:17:22.544Z"
   },
   {
    "duration": 632716,
    "start_time": "2023-05-26T06:17:25.811Z"
   },
   {
    "duration": 154,
    "start_time": "2023-05-26T06:28:26.537Z"
   },
   {
    "duration": 5,
    "start_time": "2023-05-26T06:28:46.633Z"
   },
   {
    "duration": 5,
    "start_time": "2023-05-26T06:29:24.433Z"
   },
   {
    "duration": 11,
    "start_time": "2023-05-26T06:30:27.000Z"
   },
   {
    "duration": 12,
    "start_time": "2023-05-26T06:30:57.493Z"
   },
   {
    "duration": 86261,
    "start_time": "2023-05-26T06:31:31.864Z"
   },
   {
    "duration": 147,
    "start_time": "2023-05-26T06:34:10.626Z"
   },
   {
    "duration": 5,
    "start_time": "2023-05-26T06:35:59.736Z"
   },
   {
    "duration": 18,
    "start_time": "2023-05-26T06:36:03.094Z"
   },
   {
    "duration": 10,
    "start_time": "2023-05-26T06:36:24.728Z"
   },
   {
    "duration": 5,
    "start_time": "2023-05-26T06:36:31.889Z"
   },
   {
    "duration": 243940,
    "start_time": "2023-05-26T06:37:15.789Z"
   },
   {
    "duration": 141212,
    "start_time": "2023-05-26T06:42:40.704Z"
   },
   {
    "duration": 568896,
    "start_time": "2023-05-26T06:45:43.057Z"
   },
   {
    "duration": 572143,
    "start_time": "2023-05-26T07:04:23.725Z"
   },
   {
    "duration": 13,
    "start_time": "2023-05-26T07:14:23.160Z"
   },
   {
    "duration": 94763,
    "start_time": "2023-05-26T07:14:36.162Z"
   },
   {
    "duration": 5,
    "start_time": "2023-05-26T07:16:29.696Z"
   },
   {
    "duration": 33,
    "start_time": "2023-05-26T07:16:47.037Z"
   },
   {
    "duration": 20,
    "start_time": "2023-05-26T07:16:52.661Z"
   },
   {
    "duration": 4,
    "start_time": "2023-05-26T07:16:53.129Z"
   },
   {
    "duration": 427,
    "start_time": "2023-05-26T07:16:53.571Z"
   },
   {
    "duration": 5,
    "start_time": "2023-05-26T07:16:57.192Z"
   },
   {
    "duration": 402,
    "start_time": "2023-05-26T07:16:57.602Z"
   },
   {
    "duration": 16,
    "start_time": "2023-05-26T07:17:00.771Z"
   },
   {
    "duration": 339,
    "start_time": "2023-05-26T07:17:01.174Z"
   },
   {
    "duration": 22,
    "start_time": "2023-05-26T07:17:06.395Z"
   },
   {
    "duration": 419,
    "start_time": "2023-05-26T07:17:29.279Z"
   }
  ],
  "kernelspec": {
   "display_name": "ds",
   "language": "python",
   "name": "ds"
  },
  "language_info": {
   "codemirror_mode": {
    "name": "ipython",
    "version": 3
   },
   "file_extension": ".py",
   "mimetype": "text/x-python",
   "name": "python",
   "nbconvert_exporter": "python",
   "pygments_lexer": "ipython3",
   "version": "3.11.5"
  },
  "toc": {
   "base_numbering": 1,
   "nav_menu": {},
   "number_sections": true,
   "sideBar": true,
   "skip_h1_title": true,
   "title_cell": "Table of Contents",
   "title_sidebar": "Contents",
   "toc_cell": false,
   "toc_position": {},
   "toc_section_display": true,
   "toc_window_display": false
  }
 },
 "nbformat": 4,
 "nbformat_minor": 5
}
